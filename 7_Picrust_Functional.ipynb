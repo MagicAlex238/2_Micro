{
 "cells": [
  {
   "cell_type": "markdown",
   "metadata": {},
   "source": [
    "# Sequence Analysis and Functional Prediction Pipeline\n",
    "\n",
    "This notebook analyzes the functional and sequence relationships between newly identified bacteria and known corrosion-influencing microorganisms. The analysis builds upon previous findings where:\n",
    "Statistical significance was established between the selected bacteria and corrosion risk (Notebook 3).Most of the bacteria have also been previously reported as influencing corrosion as seeing in the literature search notebook 4. Also, the evolutionary relationhship of the candidates to be assigned as MIC has been mapped through phylogenetic analyis on notebok 5.   \n",
    "The study focuses on bacteria from operational heating and cooling water systems, primarily in Germany. Using 16S rRNA data (bootstrap-validated from Notebook 5), this analysis employs PICRUSt2 to:\n",
    " Predict metabolic functions from 16S sequences. Focuses on pathways relevant to corrosion such as sulfur and iron metabolism. Ultimately it compares functional profiles between the known corrosion-causing bacteria on the selected list (validated through literature) and the newly identified candidates showing statistical correlation with corrosion. This functional comparison aims to validate whether statistical correlations reflect genuine metabolic capabilities associated with corrosion processes."
   ]
  },
  {
   "cell_type": "code",
   "execution_count": 1,
   "metadata": {},
   "outputs": [],
   "source": [
    "import pandas as pd\n",
    "import numpy as np\n",
    "from Bio import SeqIO, Entrez\n",
    "from Bio.Seq import Seq\n",
    "from Bio.SeqRecord import SeqRecord\n",
    "import subprocess\n",
    "import os\n",
    "from pathlib import Path"
   ]
  },
  {
   "cell_type": "markdown",
   "metadata": {},
   "source": [
    "Following is the structure of the notebook data named data_picrus  \n",
    "data_tree  \n",
    " ├── sequences/  \n",
    " │   ├── known.fasta : sequences of known corrosion-causing bacteria  \n",
    " │   ├── candidate.fasta : sequences of potential new corrosion-causing bacteria  \n",
    " |   └── other files  \n",
    " data_picrus  \n",
    " └── picrust_results/  \n",
    "      ├── known_bacteria/  \n",
    "      |               ├── EC_predictions/       : enzyme predictions  \n",
    "      |               ├── pathway_predictions/  : metabolic pathway abundance  \n",
    "      |               ├── KO_predictions/       : KEGG ortholog predictions  \n",
    "      |               └── other_picrust_files/  \n",
    "      ├── candidate_bacteria/  \n",
    "      |               ├── EC_predictions/       : enzyme predictions  \n",
    "      |               ├── pathway_predictions/  : metabolic pathway abundance  \n",
    "      |               ├── KO_predictions/       : KEGG ortholog predictions  \n",
    "      |               └── other_picrust_files/  : final comparison summary  \n",
    "      │      \n",
    "      └── functional_comparison.xlsx  "
   ]
  },
  {
   "cell_type": "code",
   "execution_count": 2,
   "metadata": {},
   "outputs": [],
   "source": [
    "# For VSCode\n",
    "base_dir = Path(\"/home/beatriz/MIC/2_Micro/data_picrus\")\n",
    "known_dir = base_dir / \"known_bacteria\"\n",
    "candidate_dir = base_dir / \"candidate_bacteria\"\n",
    "results_file = base_dir / \"functional_comparison.xlsx\" "
   ]
  },
  {
   "cell_type": "markdown",
   "metadata": {},
   "source": [
    "# 3. Integrating data from Sequences and Abundances "
   ]
  },
  {
   "cell_type": "code",
   "execution_count": null,
   "metadata": {},
   "outputs": [],
   "source": [
    "import pandas as pd\n",
    "import ast\n",
    "from Bio import SeqIO\n",
    "from io import StringIO\n",
    "\n",
    "def parse_fasta_file(fasta_path):\n",
    "    \"\"\"\n",
    "    Parse FASTA file to extract bacteria name and accession\n",
    "    Returns DataFrame with accession numbers and sequences\n",
    "    \"\"\"\n",
    "    sequences_data = []\n",
    "    \n",
    "    with open(fasta_path, 'r') as handle:\n",
    "        for record in SeqIO.parse(handle, 'fasta'):\n",
    "            # Split the description to get accession\n",
    "            desc_parts = record.description.split()\n",
    "            accession = desc_parts[1].split(':')[1]\n",
    "            \n",
    "            sequences_data.append({\n",
    "                'Accession': accession,\n",
    "                'Sequence': str(record.seq)\n",
    "            })\n",
    "    \n",
    "    return pd.DataFrame(sequences_data)\n",
    "\n",
    "def process_abundance_data(abundance_df):\n",
    "    \"\"\"\n",
    "    Process the abundance DataFrame to prepare for merging\n",
    "    \"\"\"\n",
    "    # Make a copy to avoid modifying the original\n",
    "    df = abundance_df.copy()\n",
    "    \n",
    "    # Convert the IDs column from string representation of list to actual list\n",
    "    df['AccessionList'] = df['IDs'].apply(ast.literal_eval)\n",
    "    \n",
    "    # Explode the DataFrame so each accession gets its own row\n",
    "    df = df.explode('AccessionList')\n",
    "    \n",
    "    # Rename the exploded column to match with sequence data\n",
    "    df = df.rename(columns={'AccessionList': 'Accession'})\n",
    "    \n",
    "    return df\n",
    "\n",
    "def merge_data_for_picrust(fasta_path, abundance_path, output_fasta_path, output_abundance_path):\n",
    "    \"\"\"\n",
    "    Merge sequence data with abundance data and prepare files for PICRUSt2\n",
    "    \"\"\"\n",
    "    # Read and parse files\n",
    "    seq_df = parse_fasta_file(fasta_path)\n",
    "    abundance_df = pd.read_csv(abundance_path)\n",
    "    \n",
    "    # Process abundance data\n",
    "    processed_abundance = process_abundance_data(abundance_df)\n",
    "    \n",
    "    # Merge sequence data with abundance data\n",
    "    merged_data = pd.merge(seq_df, processed_abundance, on='Accession', how='inner')\n",
    "    \n",
    "    # Write new FASTA file\n",
    "    with open(output_fasta_path, 'w') as f:\n",
    "        for _, row in merged_data.iterrows():\n",
    "            # Using genus name and accession in FASTA header\n",
    "            f.write(f\">{row['Genus']}|{row['Accession']}\\n\")\n",
    "            f.write(f\"{row['Sequence']}\\n\")\n",
    "    \n",
    "    # Prepare abundance table for PICRUSt2\n",
    "    # Get site columns\n",
    "    site_cols = [col for col in merged_data.columns if col.startswith('site_')]\n",
    "    \n",
    "    # Create abundance table with necessary columns\n",
    "    abundance_output = merged_data[['Genus', 'Accession'] + site_cols]\n",
    "    \n",
    "    # If multiple sequences exist for same genus, sum their abundances\n",
    "    abundance_output = abundance_output.groupby(['Genus', 'Accession'])[site_cols].sum().reset_index()\n",
    "    \n",
    "    # Save abundance table\n",
    "    abundance_output.to_csv(output_abundance_path, index=False)\n",
    "    \n",
    "    return merged_data\n",
    "\n",
    "# Example usage:\n",
    "if __name__ == \"__main__\":\n",
    "    # Set your file paths\n",
    "    fasta_input = \"aligned_sequences.fasta\"\n",
    "    abundance_input = \"taxa_accession.csv\"\n",
    "    output_fasta = \"picrust_input_sequences.fasta\"\n",
    "    output_abundance = \"picrust_abundance_table.csv\"\n",
    "    \n",
    "    # Run the integration\n",
    "    result = merge_data_for_picrust(\n",
    "        fasta_input,\n",
    "        abundance_input,\n",
    "        output_fasta,\n",
    "        output_abundance\n",
    "    )\n",
    "    \n",
    "    print(f\"Successfully processed {len(result)} sequences with corresponding abundance data\")\n",
    "    \n",
    "    # Print some summary statistics\n",
    "    print(\"\\nSummary:\")\n",
    "    print(f\"Number of unique genera: {result['Genus'].nunique()}\")\n",
    "    print(f\"Number of unique accessions: {result['Accession'].nunique()}\")\n",
    "    print(f\"Total number of sites: {len([col for col in result.columns if col.startswith('site_')])}\")"
   ]
  },
  {
   "cell_type": "code",
   "execution_count": 3,
   "metadata": {},
   "outputs": [
    {
     "data": {
      "text/plain": [
       "6"
      ]
     },
     "execution_count": 3,
     "metadata": {},
     "output_type": "execute_result"
    }
   ],
   "source": [
    "# Read aligned sequences\n",
    "aligned_file = Path(\"/home/beatriz/MIC/2_Micro/data_tree/aligned_sequences.fasta\")\n",
    "\n",
    "# Define known corrosive bacteria\n",
    "known_bacteria = ['Aquamicrobium',' Azospira', 'Brachybacterium', 'Brevibacterium', 'Cellulosimicrobium', 'Clavibacter',\n",
    "                   'Clostridium', 'Cohnella', 'Corynebacterium', 'Enterococcus', 'Halomonas', 'Legionella', 'Methyloversatilis',\n",
    "                     'Mycobacterium', 'Neisseria', 'Novosphingobium', 'Opitutus', 'Paracoccus', 'Prevotella','Psb-m-3', 'Pseudarthrobacter',\n",
    "                        'Pseudoalteromonas', 'Roseateles', 'Streptococcus', 'Thiobacillus']\n",
    "\n",
    "# Split sequences\n",
    "known_seqs = []\n",
    "candidate_seqs = []\n",
    "\n",
    "for record in SeqIO.parse(aligned_file, \"fasta\"):\n",
    "    if record.id in known_bacteria:\n",
    "        known_seqs.append(record)\n",
    "    else:\n",
    "        candidate_seqs.append(record)\n",
    "\n",
    "# Save split files\n",
    "SeqIO.write(known_seqs, \"data_picrus/known.fasta\", \"fasta\")\n",
    "SeqIO.write(candidate_seqs, \"data_picrus/candidate.fasta\", \"fasta\")"
   ]
  },
  {
   "cell_type": "markdown",
   "metadata": {},
   "source": []
  },
  {
   "cell_type": "code",
   "execution_count": 4,
   "metadata": {},
   "outputs": [
    {
     "data": {
      "text/plain": [
       "PosixPath('/home/beatriz/MIC/2_Micro/data_tree/aligned_sequences.fasta')"
      ]
     },
     "execution_count": 4,
     "metadata": {},
     "output_type": "execute_result"
    }
   ],
   "source": [
    "aligned_file"
   ]
  },
  {
   "cell_type": "code",
   "execution_count": 5,
   "metadata": {},
   "outputs": [
    {
     "ename": "SyntaxError",
     "evalue": "invalid syntax (1239779345.py, line 1)",
     "output_type": "error",
     "traceback": [
      "\u001b[0;36m  Cell \u001b[0;32mIn[5], line 1\u001b[0;36m\u001b[0m\n\u001b[0;31m    as\u001b[0m\n\u001b[0m    ^\u001b[0m\n\u001b[0;31mSyntaxError\u001b[0m\u001b[0;31m:\u001b[0m invalid syntax\n"
     ]
    }
   ],
   "source": [
    "as"
   ]
  },
  {
   "cell_type": "code",
   "execution_count": 4,
   "metadata": {},
   "outputs": [],
   "source": [
    "def prepare_sequences_for_picrust(sequences, output_dir):\n",
    "    \"\"\"\n",
    "    Prepare sequences for PICRUSt2 analysis\n",
    "    \n",
    "    Parameters:\n",
    "    sequences: list of SeqRecord objects or path to FASTA file\n",
    "    output_dir: directory to save prepared files\n",
    "    \"\"\"\n",
    "    # Create output directory if it doesn't exist\n",
    "    os.makedirs(output_dir, exist_ok=True)\n",
    "    \n",
    "    # Save sequences in FASTA format if they're not already in a file\n",
    "    if isinstance(sequences, list):\n",
    "        output_fasta = os.path.join(output_dir, 'sequences.fasta')\n",
    "        SeqIO.write(sequences, output_fasta, 'fasta')\n",
    "    else:\n",
    "        output_fasta = sequences\n",
    "    \n",
    "    return output_fasta\n",
    "\n",
    "def run_picrust2_pipeline(fasta_file, output_dir):\n",
    "    \"\"\"\n",
    "    Run PICRUSt2 analysis pipeline\n",
    "    \n",
    "    Parameters:\n",
    "    fasta_file: path to input FASTA file\n",
    "    output_dir: directory for PICRUSt2 output\n",
    "    \"\"\"\n",
    "    try:\n",
    "        # Run PICRUSt2 pipeline\n",
    "        cmd = [\n",
    "            'picrust2_pipeline.py',\n",
    "            '-s', fasta_file,\n",
    "            '-o', output_dir,\n",
    "            '--processes', '1',  # Adjust based on available CPU\n",
    "            '--verbose'\n",
    "        ]\n",
    "        subprocess.run(cmd, check=True)\n",
    "        \n",
    "        # Add pathway descriptions\n",
    "        pathway_file = os.path.join(output_dir, 'pathways_out/path_abun_unstrat.tsv.gz')\n",
    "        if os.path.exists(pathway_file):\n",
    "            cmd_desc = [\n",
    "                'add_descriptions.py',\n",
    "                '-i', pathway_file,\n",
    "                '-m', 'PATHWAY',\n",
    "                '-o', os.path.join(output_dir, 'pathways_with_descriptions.tsv')\n",
    "            ]\n",
    "            subprocess.run(cmd_desc, check=True)\n",
    "            \n",
    "        return True\n",
    "    except subprocess.CalledProcessError as e:\n",
    "        print(f\"Error running PICRUSt2: {e}\")\n",
    "        return False\n",
    "\n",
    "def analyze_functional_profiles(picrust_output_dir, known_corrosive_bacteria):\n",
    "    \"\"\"\n",
    "    Analyze functional profiles to compare with known corrosive bacteria\n",
    "    \n",
    "    Parameters:\n",
    "    picrust_output_dir: directory containing PICRUSt2 output\n",
    "    known_corrosive_bacteria: list of known corrosive bacteria names\n",
    "    \"\"\"\n",
    "    # Read PICRUSt2 output\n",
    "    pathway_file = os.path.join(picrust_output_dir, 'pathways_with_descriptions.tsv')\n",
    "    pathways_df = pd.read_csv(pathway_file, sep='\\t')\n",
    "    \n",
    "    # Focus on relevant pathways\n",
    "    relevant_pathways = [\n",
    "        'Sulfur metabolism',\n",
    "        'Iron metabolism',\n",
    "        'Energy metabolism',\n",
    "        'Biofilm formation',\n",
    "        'Metal transport'\n",
    "    ]\n",
    "    \n",
    "    # Filter and analyze pathways\n",
    "    filtered_pathways = pathways_df[pathways_df['description'].str.contains('|'.join(relevant_pathways), \n",
    "                                                                                case=False, na=False)]\n",
    "    # Compare profiles between known and candidate bacteria\n",
    "    comparison_results = {\n",
    "        'pathway_similarities': {},\n",
    "        'functional_predictions': {},\n",
    "        'correlation_scores': {}\n",
    "    }\n",
    "    \n",
    "    return filtered_pathways, comparison_results\n",
    "\n",
    "def main_analysis_pipeline(input_sequences, output_dir, known_corrosive_bacteria):\n",
    "    \"\"\"\n",
    "    Main pipeline for functional analysis\n",
    "    \"\"\"\n",
    "    # Prepare sequences\n",
    "    fasta_file = prepare_sequences_for_picrust(input_sequences, output_dir)\n",
    "    \n",
    "    # Run PICRUSt2\n",
    "    success = run_picrust2_pipeline(fasta_file, output_dir)\n",
    "    if not success:\n",
    "        return None\n",
    "    \n",
    "    # Analyze results\n",
    "    pathways, results = analyze_functional_profiles(output_dir, known_corrosive_bacteria)\n",
    "    \n",
    "    # Save results\n",
    "    timestamp = pd.Timestamp.now().strftime('%Y%m%d_%H%M')\n",
    "    results_file = os.path.join(output_dir, f'functional_analysis_{timestamp}.xlsx')\n",
    "    \n",
    "    with pd.ExcelWriter(results_file) as writer:\n",
    "        pathways.to_excel(writer, sheet_name='Pathway_Analysis', index=False)\n",
    "        pd.DataFrame(results['pathway_similarities']).to_excel(writer, sheet_name='Similarities')\n",
    "        pd.DataFrame(results['functional_predictions']).to_excel(writer, sheet_name='Predictions')\n",
    "    \n",
    "    return results_file"
   ]
  },
  {
   "cell_type": "code",
   "execution_count": null,
   "metadata": {},
   "outputs": [],
   "source": [
    "'hydrogenase',\n",
    "'[NiFe]-hydrogenase', \n",
    "'[FeFe]-hydrogenase',\n",
    "'hydA', 'hybA', 'hyaA'  # Common hydrogenase genes\n",
    "\n",
    "'ochre formation',\n",
    "'iron oxide deposits',\n",
    "'iron precipitation',\n",
    "'rust formation'\n",
    "\n",
    "'organic acid production',\n",
    "'acetate production',\n",
    "'lactate metabolism',\n",
    "'formate production',\n",
    "'pyruvate metabolism',\n",
    "'citrate production'\n",
    "\n",
    "search_terms.extend([\n",
    "    f\"{bacteria_name}[Organism] AND (hydrogenase OR hydA OR hybA OR hyaA)\",\n",
    "    f\"{bacteria_name}[Organism] AND (ochre formation OR iron oxide deposits OR rust formation)\",\n",
    "    f\"{bacteria_name}[Organism] AND (organic acid production OR acetate OR lactate OR formate) AND (corrosion OR metal)\"\n",
    "])"
   ]
  },
  {
   "cell_type": "markdown",
   "metadata": {},
   "source": [
    "3. Calling the Function"
   ]
  },
  {
   "cell_type": "code",
   "execution_count": 5,
   "metadata": {},
   "outputs": [
    {
     "name": "stderr",
     "output_type": "stream",
     "text": [
      "usage: picrust2_pipeline.py [-h] -s PATH -i PATH -o PATH [-p PROCESSES]\n",
      "                            [-t epa-ng|sepp] [-r PATH] [--in_traits IN_TRAITS]\n",
      "                            [--custom_trait_tables PATH]\n",
      "                            [--marker_gene_table PATH] [--pathway_map MAP]\n",
      "                            [--reaction_func MAP] [--no_pathways]\n",
      "                            [--regroup_map ID_MAP] [--no_regroup]\n",
      "                            [--stratified] [--max_nsti FLOAT]\n",
      "                            [--min_reads INT] [--min_samples INT]\n",
      "                            [-m {mp,emp_prob,pic,scp,subtree_average}]\n",
      "                            [-e EDGE_EXPONENT] [--min_align MIN_ALIGN]\n",
      "                            [--skip_nsti] [--skip_minpath] [--no_gap_fill]\n",
      "                            [--coverage] [--per_sequence_contrib]\n",
      "                            [--wide_table] [--skip_norm]\n",
      "                            [--remove_intermediate] [--verbose] [-v]\n",
      "picrust2_pipeline.py: error: the following arguments are required: -i/--input\n"
     ]
    },
    {
     "name": "stdout",
     "output_type": "stream",
     "text": [
      "Error running PICRUSt2: Command '['picrust2_pipeline.py', '-s', '/home/beatriz/MIC/2_Micro/data_tree/aligned_sequences.fasta', '-o', '/home/beatriz/MIC/2_Micro/data_picrus', '--processes', '1', '--verbose']' returned non-zero exit status 2.\n"
     ]
    }
   ],
   "source": [
    "input_seqs = \"/home/beatriz/MIC/2_Micro/data_tree/aligned_sequences.fasta\"\n",
    "output_directory = \"/home/beatriz/MIC/2_Micro/data_picrus\"\n",
    "\n",
    "results = main_analysis_pipeline(input_seqs, output_directory, known_bacteria)"
   ]
  }
 ],
 "metadata": {
  "kernelspec": {
   "display_name": "Python (picrust2)",
   "language": "python",
   "name": "picrust2"
  },
  "language_info": {
   "codemirror_mode": {
    "name": "ipython",
    "version": 3
   },
   "file_extension": ".py",
   "mimetype": "text/x-python",
   "name": "python",
   "nbconvert_exporter": "python",
   "pygments_lexer": "ipython3",
   "version": "3.9.21"
  }
 },
 "nbformat": 4,
 "nbformat_minor": 2
}
