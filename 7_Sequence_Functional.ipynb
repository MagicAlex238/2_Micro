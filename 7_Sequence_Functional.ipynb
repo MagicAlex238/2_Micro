{
 "cells": [
  {
   "cell_type": "markdown",
   "metadata": {},
   "source": [
    "# Sequence Analysis and Functional Prediction Pipeline\n",
    "\n",
    "This notebook analyzes the functional and sequence relationships between newly identified bacteria and known corrosion-influencing microorganisms. The analysis builds upon previous findings where:\n",
    "Statistical significance was established between the selected bacteria and corrosion risk (Notebook 3).Most of the bacteria have also been previously reported as influencing corrosion as seeing in the literature search notebook 4. Also, the evolutionary relationhship of the candidates to be assigned as MIC has been mapped through phylogenetic analyis on notebok 5.   \n",
    "The study focuses on bacteria from operational heating and cooling water systems, primarily in Germany. Using 16S rRNA data (bootstrap-validated from Notebook 5), this analysis employs PICRUSt2 to:\n",
    " Predict metabolic functions from 16S sequences. Focuses on pathways relevant to corrosion such as sulfur and iron metabolism. Ultimately it compares functional profiles between the known corrosion-causing bacteria on the selected list (validated through literature) and the newly identified candidates showing statistical correlation with corrosion. This functional comparison aims to validate whether statistical correlations reflect genuine metabolic capabilities associated with corrosion processes."
   ]
  },
  {
   "cell_type": "code",
   "execution_count": 1,
   "metadata": {},
   "outputs": [],
   "source": [
    "import pandas as pd\n",
    "import numpy as np\n",
    "from Bio import SeqIO, Entrez\n",
    "from Bio.Seq import Seq\n",
    "from Bio.SeqRecord import SeqRecord\n",
    "import subprocess\n",
    "import os\n",
    "from pathlib import Path"
   ]
  },
  {
   "cell_type": "markdown",
   "metadata": {},
   "source": [
    "Following is the structure of the notebook data named data_picrus  \n",
    "data_tree  \n",
    " ├── sequences/  \n",
    " │   ├── known.fasta : sequences of known corrosion-causing bacteria  \n",
    " │   ├── candidate.fasta : sequences of potential new corrosion-causing bacteria  \n",
    " |   └── other files  \n",
    " data_picrus  \n",
    " └── picrust_results/  \n",
    "      ├── known_bacteria/  \n",
    "      |               ├── EC_predictions/       : enzyme predictions  \n",
    "      |               ├── pathway_predictions/  : metabolic pathway abundance  \n",
    "      |               ├── KO_predictions/       : KEGG ortholog predictions  \n",
    "      |               └── other_picrust_files/  \n",
    "      ├── candidate_bacteria/  \n",
    "      |               ├── EC_predictions/       : enzyme predictions  \n",
    "      |               ├── pathway_predictions/  : metabolic pathway abundance  \n",
    "      |               ├── KO_predictions/       : KEGG ortholog predictions  \n",
    "      |               └── other_picrust_files/  : final comparison summary  \n",
    "      │      \n",
    "      └── functional_comparison.xlsx  "
   ]
  },
  {
   "cell_type": "code",
   "execution_count": null,
   "metadata": {},
   "outputs": [],
   "source": [
    "# For VSCode\n",
    "base_dir = Path(\"/home/beatriz/MIC/2_Micro/data_picrus\")\n",
    "known_dir = base_dir / \"known_bacteria\"\n",
    "candidate_dir = base_dir / \"candidate_bacteria\"\n",
    "results_file = base_dir / \"functional_comparison.xlsx\" "
   ]
  },
  {
   "cell_type": "code",
   "execution_count": 4,
   "metadata": {},
   "outputs": [
    {
     "data": {
      "text/plain": [
       "6"
      ]
     },
     "execution_count": 4,
     "metadata": {},
     "output_type": "execute_result"
    }
   ],
   "source": [
    "# Read aligned sequences\n",
    "aligned_file = Path(\"/home/beatriz/MIC/2_Micro/data_tree/aligned_sequences.fasta\")\n",
    "\n",
    "# Define known corrosive bacteria\n",
    "known_bacteria = ['Aquamicrobium',' Azospira', 'Brachybacterium', 'Brevibacterium', 'Cellulosimicrobium', 'Clavibacter',\n",
    "                   'Clostridium', 'Cohnella', 'Corynebacterium', 'Enterococcus', 'Halomonas', 'Legionella', 'Methyloversatilis',\n",
    "                     'Mycobacterium', 'Neisseria', 'Novosphingobium', 'Opitutus', 'Paracoccus', 'Prevotella','Psb-m-3', 'Pseudarthrobacter',\n",
    "                        'Pseudoalteromonas', 'Roseateles', 'Streptococcus', 'Thiobacillus']\n",
    "\n",
    "# Split sequences\n",
    "known_seqs = []\n",
    "candidate_seqs = []\n",
    "\n",
    "for record in SeqIO.parse(aligned_file, \"fasta\"):\n",
    "    if record.id in known_bacteria:\n",
    "        known_seqs.append(record)\n",
    "    else:\n",
    "        candidate_seqs.append(record)\n",
    "\n",
    "# Save split files\n",
    "SeqIO.write(known_seqs, \"data_picrus/known.fasta\", \"fasta\")\n",
    "SeqIO.write(candidate_seqs, \"data_picrus/candidate.fasta\", \"fasta\")"
   ]
  },
  {
   "cell_type": "code",
   "execution_count": 6,
   "metadata": {},
   "outputs": [],
   "source": [
    "def prepare_sequences_for_picrust(sequences, output_dir):\n",
    "    \"\"\"\n",
    "    Prepare sequences for PICRUSt2 analysis\n",
    "    \n",
    "    Parameters:\n",
    "    sequences: list of SeqRecord objects or path to FASTA file\n",
    "    output_dir: directory to save prepared files\n",
    "    \"\"\"\n",
    "    # Create output directory if it doesn't exist\n",
    "    os.makedirs(output_dir, exist_ok=True)\n",
    "    \n",
    "    # Save sequences in FASTA format if they're not already in a file\n",
    "    if isinstance(sequences, list):\n",
    "        output_fasta = os.path.join(output_dir, 'sequences.fasta')\n",
    "        SeqIO.write(sequences, output_fasta, 'fasta')\n",
    "    else:\n",
    "        output_fasta = sequences\n",
    "    \n",
    "    return output_fasta\n",
    "\n",
    "def run_picrust2_pipeline(fasta_file, output_dir):\n",
    "    \"\"\"\n",
    "    Run PICRUSt2 analysis pipeline\n",
    "    \n",
    "    Parameters:\n",
    "    fasta_file: path to input FASTA file\n",
    "    output_dir: directory for PICRUSt2 output\n",
    "    \"\"\"\n",
    "    try:\n",
    "        # Run PICRUSt2 pipeline\n",
    "        cmd = [\n",
    "            'picrust2_pipeline.py',\n",
    "            '-s', fasta_file,\n",
    "            '-o', output_dir,\n",
    "            '--processes', '1',  # Adjust based on available CPU\n",
    "            '--verbose'\n",
    "        ]\n",
    "        subprocess.run(cmd, check=True)\n",
    "        \n",
    "        # Add pathway descriptions\n",
    "        pathway_file = os.path.join(output_dir, 'pathways_out/path_abun_unstrat.tsv.gz')\n",
    "        if os.path.exists(pathway_file):\n",
    "            cmd_desc = [\n",
    "                'add_descriptions.py',\n",
    "                '-i', pathway_file,\n",
    "                '-m', 'PATHWAY',\n",
    "                '-o', os.path.join(output_dir, 'pathways_with_descriptions.tsv')\n",
    "            ]\n",
    "            subprocess.run(cmd_desc, check=True)\n",
    "            \n",
    "        return True\n",
    "    except subprocess.CalledProcessError as e:\n",
    "        print(f\"Error running PICRUSt2: {e}\")\n",
    "        return False\n",
    "\n",
    "def analyze_functional_profiles(picrust_output_dir, known_corrosive_bacteria):\n",
    "    \"\"\"\n",
    "    Analyze functional profiles to compare with known corrosive bacteria\n",
    "    \n",
    "    Parameters:\n",
    "    picrust_output_dir: directory containing PICRUSt2 output\n",
    "    known_corrosive_bacteria: list of known corrosive bacteria names\n",
    "    \"\"\"\n",
    "    # Read PICRUSt2 output\n",
    "    pathway_file = os.path.join(picrust_output_dir, 'pathways_with_descriptions.tsv')\n",
    "    pathways_df = pd.read_csv(pathway_file, sep='\\t')\n",
    "    \n",
    "    # Focus on relevant pathways\n",
    "    relevant_pathways = [\n",
    "        'Sulfur metabolism',\n",
    "        'Iron metabolism',\n",
    "        'Energy metabolism',\n",
    "        'Biofilm formation',\n",
    "        'Metal transport'\n",
    "    ]\n",
    "    \n",
    "    # Filter and analyze pathways\n",
    "    filtered_pathways = pathways_df[pathways_df['description'].str.contains('|'.join(relevant_pathways), \n",
    "                                                                                case=False, na=False)]\n",
    "    # Compare profiles between known and candidate bacteria\n",
    "    comparison_results = {\n",
    "        'pathway_similarities': {},\n",
    "        'functional_predictions': {},\n",
    "        'correlation_scores': {}\n",
    "    }\n",
    "    \n",
    "    return filtered_pathways, comparison_results\n",
    "\n",
    "def main_analysis_pipeline(input_sequences, output_dir, known_corrosive_bacteria):\n",
    "    \"\"\"\n",
    "    Main pipeline for functional analysis\n",
    "    \"\"\"\n",
    "    # Prepare sequences\n",
    "    fasta_file = prepare_sequences_for_picrust(input_sequences, output_dir)\n",
    "    \n",
    "    # Run PICRUSt2\n",
    "    success = run_picrust2_pipeline(fasta_file, output_dir)\n",
    "    if not success:\n",
    "        return None\n",
    "    \n",
    "    # Analyze results\n",
    "    pathways, results = analyze_functional_profiles(output_dir, known_corrosive_bacteria)\n",
    "    \n",
    "    # Save results\n",
    "    timestamp = pd.Timestamp.now().strftime('%Y%m%d_%H%M')\n",
    "    results_file = os.path.join(output_dir, f'functional_analysis_{timestamp}.xlsx')\n",
    "    \n",
    "    with pd.ExcelWriter(results_file) as writer:\n",
    "        pathways.to_excel(writer, sheet_name='Pathway_Analysis', index=False)\n",
    "        pd.DataFrame(results['pathway_similarities']).to_excel(writer, sheet_name='Similarities')\n",
    "        pd.DataFrame(results['functional_predictions']).to_excel(writer, sheet_name='Predictions')\n",
    "    \n",
    "    return results_file"
   ]
  },
  {
   "cell_type": "markdown",
   "metadata": {},
   "source": [
    "3. Calling the Function"
   ]
  },
  {
   "cell_type": "code",
   "execution_count": 7,
   "metadata": {},
   "outputs": [
    {
     "ename": "FileNotFoundError",
     "evalue": "[Errno 2] No such file or directory: 'picrust2_pipeline.py'",
     "output_type": "error",
     "traceback": [
      "\u001b[0;31m---------------------------------------------------------------------------\u001b[0m",
      "\u001b[0;31mFileNotFoundError\u001b[0m                         Traceback (most recent call last)",
      "Cell \u001b[0;32mIn[7], line 4\u001b[0m\n\u001b[1;32m      1\u001b[0m input_seqs \u001b[38;5;241m=\u001b[39m \u001b[38;5;124m\"\u001b[39m\u001b[38;5;124m/home/beatriz/MIC/2_Micro/data_tree/aligned_sequences.fasta\u001b[39m\u001b[38;5;124m\"\u001b[39m\n\u001b[1;32m      2\u001b[0m output_directory \u001b[38;5;241m=\u001b[39m \u001b[38;5;124m\"\u001b[39m\u001b[38;5;124m/home/beatriz/MIC/2_Micro/data_picrus\u001b[39m\u001b[38;5;124m\"\u001b[39m\n\u001b[0;32m----> 4\u001b[0m results \u001b[38;5;241m=\u001b[39m \u001b[43mmain_analysis_pipeline\u001b[49m\u001b[43m(\u001b[49m\u001b[43minput_seqs\u001b[49m\u001b[43m,\u001b[49m\u001b[43m \u001b[49m\u001b[43moutput_directory\u001b[49m\u001b[43m,\u001b[49m\u001b[43m \u001b[49m\u001b[43mknown_bacteria\u001b[49m\u001b[43m)\u001b[49m\n",
      "Cell \u001b[0;32mIn[6], line 97\u001b[0m, in \u001b[0;36mmain_analysis_pipeline\u001b[0;34m(input_sequences, output_dir, known_corrosive_bacteria)\u001b[0m\n\u001b[1;32m     94\u001b[0m fasta_file \u001b[38;5;241m=\u001b[39m prepare_sequences_for_picrust(input_sequences, output_dir)\n\u001b[1;32m     96\u001b[0m \u001b[38;5;66;03m# Run PICRUSt2\u001b[39;00m\n\u001b[0;32m---> 97\u001b[0m success \u001b[38;5;241m=\u001b[39m \u001b[43mrun_picrust2_pipeline\u001b[49m\u001b[43m(\u001b[49m\u001b[43mfasta_file\u001b[49m\u001b[43m,\u001b[49m\u001b[43m \u001b[49m\u001b[43moutput_dir\u001b[49m\u001b[43m)\u001b[49m\n\u001b[1;32m     98\u001b[0m \u001b[38;5;28;01mif\u001b[39;00m \u001b[38;5;129;01mnot\u001b[39;00m success:\n\u001b[1;32m     99\u001b[0m     \u001b[38;5;28;01mreturn\u001b[39;00m \u001b[38;5;28;01mNone\u001b[39;00m\n",
      "Cell \u001b[0;32mIn[6], line 38\u001b[0m, in \u001b[0;36mrun_picrust2_pipeline\u001b[0;34m(fasta_file, output_dir)\u001b[0m\n\u001b[1;32m     29\u001b[0m \u001b[38;5;28;01mtry\u001b[39;00m:\n\u001b[1;32m     30\u001b[0m     \u001b[38;5;66;03m# Run PICRUSt2 pipeline\u001b[39;00m\n\u001b[1;32m     31\u001b[0m     cmd \u001b[38;5;241m=\u001b[39m [\n\u001b[1;32m     32\u001b[0m         \u001b[38;5;124m'\u001b[39m\u001b[38;5;124mpicrust2_pipeline.py\u001b[39m\u001b[38;5;124m'\u001b[39m,\n\u001b[1;32m     33\u001b[0m         \u001b[38;5;124m'\u001b[39m\u001b[38;5;124m-s\u001b[39m\u001b[38;5;124m'\u001b[39m, fasta_file,\n\u001b[0;32m   (...)\u001b[0m\n\u001b[1;32m     36\u001b[0m         \u001b[38;5;124m'\u001b[39m\u001b[38;5;124m--verbose\u001b[39m\u001b[38;5;124m'\u001b[39m\n\u001b[1;32m     37\u001b[0m     ]\n\u001b[0;32m---> 38\u001b[0m     \u001b[43msubprocess\u001b[49m\u001b[38;5;241;43m.\u001b[39;49m\u001b[43mrun\u001b[49m\u001b[43m(\u001b[49m\u001b[43mcmd\u001b[49m\u001b[43m,\u001b[49m\u001b[43m \u001b[49m\u001b[43mcheck\u001b[49m\u001b[38;5;241;43m=\u001b[39;49m\u001b[38;5;28;43;01mTrue\u001b[39;49;00m\u001b[43m)\u001b[49m\n\u001b[1;32m     40\u001b[0m     \u001b[38;5;66;03m# Add pathway descriptions\u001b[39;00m\n\u001b[1;32m     41\u001b[0m     pathway_file \u001b[38;5;241m=\u001b[39m os\u001b[38;5;241m.\u001b[39mpath\u001b[38;5;241m.\u001b[39mjoin(output_dir, \u001b[38;5;124m'\u001b[39m\u001b[38;5;124mpathways_out/path_abun_unstrat.tsv.gz\u001b[39m\u001b[38;5;124m'\u001b[39m)\n",
      "File \u001b[0;32m/usr/lib/python3.10/subprocess.py:503\u001b[0m, in \u001b[0;36mrun\u001b[0;34m(input, capture_output, timeout, check, *popenargs, **kwargs)\u001b[0m\n\u001b[1;32m    500\u001b[0m     kwargs[\u001b[38;5;124m'\u001b[39m\u001b[38;5;124mstdout\u001b[39m\u001b[38;5;124m'\u001b[39m] \u001b[38;5;241m=\u001b[39m PIPE\n\u001b[1;32m    501\u001b[0m     kwargs[\u001b[38;5;124m'\u001b[39m\u001b[38;5;124mstderr\u001b[39m\u001b[38;5;124m'\u001b[39m] \u001b[38;5;241m=\u001b[39m PIPE\n\u001b[0;32m--> 503\u001b[0m \u001b[38;5;28;01mwith\u001b[39;00m \u001b[43mPopen\u001b[49m\u001b[43m(\u001b[49m\u001b[38;5;241;43m*\u001b[39;49m\u001b[43mpopenargs\u001b[49m\u001b[43m,\u001b[49m\u001b[43m \u001b[49m\u001b[38;5;241;43m*\u001b[39;49m\u001b[38;5;241;43m*\u001b[39;49m\u001b[43mkwargs\u001b[49m\u001b[43m)\u001b[49m \u001b[38;5;28;01mas\u001b[39;00m process:\n\u001b[1;32m    504\u001b[0m     \u001b[38;5;28;01mtry\u001b[39;00m:\n\u001b[1;32m    505\u001b[0m         stdout, stderr \u001b[38;5;241m=\u001b[39m process\u001b[38;5;241m.\u001b[39mcommunicate(\u001b[38;5;28minput\u001b[39m, timeout\u001b[38;5;241m=\u001b[39mtimeout)\n",
      "File \u001b[0;32m/usr/lib/python3.10/subprocess.py:971\u001b[0m, in \u001b[0;36mPopen.__init__\u001b[0;34m(self, args, bufsize, executable, stdin, stdout, stderr, preexec_fn, close_fds, shell, cwd, env, universal_newlines, startupinfo, creationflags, restore_signals, start_new_session, pass_fds, user, group, extra_groups, encoding, errors, text, umask, pipesize)\u001b[0m\n\u001b[1;32m    967\u001b[0m         \u001b[38;5;28;01mif\u001b[39;00m \u001b[38;5;28mself\u001b[39m\u001b[38;5;241m.\u001b[39mtext_mode:\n\u001b[1;32m    968\u001b[0m             \u001b[38;5;28mself\u001b[39m\u001b[38;5;241m.\u001b[39mstderr \u001b[38;5;241m=\u001b[39m io\u001b[38;5;241m.\u001b[39mTextIOWrapper(\u001b[38;5;28mself\u001b[39m\u001b[38;5;241m.\u001b[39mstderr,\n\u001b[1;32m    969\u001b[0m                     encoding\u001b[38;5;241m=\u001b[39mencoding, errors\u001b[38;5;241m=\u001b[39merrors)\n\u001b[0;32m--> 971\u001b[0m     \u001b[38;5;28;43mself\u001b[39;49m\u001b[38;5;241;43m.\u001b[39;49m\u001b[43m_execute_child\u001b[49m\u001b[43m(\u001b[49m\u001b[43margs\u001b[49m\u001b[43m,\u001b[49m\u001b[43m \u001b[49m\u001b[43mexecutable\u001b[49m\u001b[43m,\u001b[49m\u001b[43m \u001b[49m\u001b[43mpreexec_fn\u001b[49m\u001b[43m,\u001b[49m\u001b[43m \u001b[49m\u001b[43mclose_fds\u001b[49m\u001b[43m,\u001b[49m\n\u001b[1;32m    972\u001b[0m \u001b[43m                        \u001b[49m\u001b[43mpass_fds\u001b[49m\u001b[43m,\u001b[49m\u001b[43m \u001b[49m\u001b[43mcwd\u001b[49m\u001b[43m,\u001b[49m\u001b[43m \u001b[49m\u001b[43menv\u001b[49m\u001b[43m,\u001b[49m\n\u001b[1;32m    973\u001b[0m \u001b[43m                        \u001b[49m\u001b[43mstartupinfo\u001b[49m\u001b[43m,\u001b[49m\u001b[43m \u001b[49m\u001b[43mcreationflags\u001b[49m\u001b[43m,\u001b[49m\u001b[43m \u001b[49m\u001b[43mshell\u001b[49m\u001b[43m,\u001b[49m\n\u001b[1;32m    974\u001b[0m \u001b[43m                        \u001b[49m\u001b[43mp2cread\u001b[49m\u001b[43m,\u001b[49m\u001b[43m \u001b[49m\u001b[43mp2cwrite\u001b[49m\u001b[43m,\u001b[49m\n\u001b[1;32m    975\u001b[0m \u001b[43m                        \u001b[49m\u001b[43mc2pread\u001b[49m\u001b[43m,\u001b[49m\u001b[43m \u001b[49m\u001b[43mc2pwrite\u001b[49m\u001b[43m,\u001b[49m\n\u001b[1;32m    976\u001b[0m \u001b[43m                        \u001b[49m\u001b[43merrread\u001b[49m\u001b[43m,\u001b[49m\u001b[43m \u001b[49m\u001b[43merrwrite\u001b[49m\u001b[43m,\u001b[49m\n\u001b[1;32m    977\u001b[0m \u001b[43m                        \u001b[49m\u001b[43mrestore_signals\u001b[49m\u001b[43m,\u001b[49m\n\u001b[1;32m    978\u001b[0m \u001b[43m                        \u001b[49m\u001b[43mgid\u001b[49m\u001b[43m,\u001b[49m\u001b[43m \u001b[49m\u001b[43mgids\u001b[49m\u001b[43m,\u001b[49m\u001b[43m \u001b[49m\u001b[43muid\u001b[49m\u001b[43m,\u001b[49m\u001b[43m \u001b[49m\u001b[43mumask\u001b[49m\u001b[43m,\u001b[49m\n\u001b[1;32m    979\u001b[0m \u001b[43m                        \u001b[49m\u001b[43mstart_new_session\u001b[49m\u001b[43m)\u001b[49m\n\u001b[1;32m    980\u001b[0m \u001b[38;5;28;01mexcept\u001b[39;00m:\n\u001b[1;32m    981\u001b[0m     \u001b[38;5;66;03m# Cleanup if the child failed starting.\u001b[39;00m\n\u001b[1;32m    982\u001b[0m     \u001b[38;5;28;01mfor\u001b[39;00m f \u001b[38;5;129;01min\u001b[39;00m \u001b[38;5;28mfilter\u001b[39m(\u001b[38;5;28;01mNone\u001b[39;00m, (\u001b[38;5;28mself\u001b[39m\u001b[38;5;241m.\u001b[39mstdin, \u001b[38;5;28mself\u001b[39m\u001b[38;5;241m.\u001b[39mstdout, \u001b[38;5;28mself\u001b[39m\u001b[38;5;241m.\u001b[39mstderr)):\n",
      "File \u001b[0;32m/usr/lib/python3.10/subprocess.py:1863\u001b[0m, in \u001b[0;36mPopen._execute_child\u001b[0;34m(self, args, executable, preexec_fn, close_fds, pass_fds, cwd, env, startupinfo, creationflags, shell, p2cread, p2cwrite, c2pread, c2pwrite, errread, errwrite, restore_signals, gid, gids, uid, umask, start_new_session)\u001b[0m\n\u001b[1;32m   1861\u001b[0m     \u001b[38;5;28;01mif\u001b[39;00m errno_num \u001b[38;5;241m!=\u001b[39m \u001b[38;5;241m0\u001b[39m:\n\u001b[1;32m   1862\u001b[0m         err_msg \u001b[38;5;241m=\u001b[39m os\u001b[38;5;241m.\u001b[39mstrerror(errno_num)\n\u001b[0;32m-> 1863\u001b[0m     \u001b[38;5;28;01mraise\u001b[39;00m child_exception_type(errno_num, err_msg, err_filename)\n\u001b[1;32m   1864\u001b[0m \u001b[38;5;28;01mraise\u001b[39;00m child_exception_type(err_msg)\n",
      "\u001b[0;31mFileNotFoundError\u001b[0m: [Errno 2] No such file or directory: 'picrust2_pipeline.py'"
     ]
    }
   ],
   "source": [
    "input_seqs = \"/home/beatriz/MIC/2_Micro/data_tree/aligned_sequences.fasta\"\n",
    "output_directory = \"/home/beatriz/MIC/2_Micro/data_picrus\"\n",
    "\n",
    "results = main_analysis_pipeline(input_seqs, output_directory, known_bacteria)"
   ]
  }
 ],
 "metadata": {
  "kernelspec": {
   "display_name": ".venv",
   "language": "python",
   "name": "python3"
  },
  "language_info": {
   "codemirror_mode": {
    "name": "ipython",
    "version": 3
   },
   "file_extension": ".py",
   "mimetype": "text/x-python",
   "name": "python",
   "nbconvert_exporter": "python",
   "pygments_lexer": "ipython3",
   "version": "3.10.12"
  }
 },
 "nbformat": 4,
 "nbformat_minor": 2
}
