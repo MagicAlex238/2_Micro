{
  "cells": [
    {
      "cell_type": "markdown",
      "metadata": {
        "id": "GCsQTfwH1vwT"
      },
      "source": [
        "This notebook has as objective to dilucidate which of the microorganisms in the data have recognised influence in corrosion damage. With this pool of bacteria we compare the nobel bacteria here found with the gene sequences of the known corrosion-related genes belonging to MIC or the metabolic pathways are related or can be related to corrosion. Then using the list here found as \"anchors\" to find associated bacteria\n",
        "Looking for similar metabolic patterns in other species no yet related to MIC.\n",
        "\n",
        "The databases uses on this notebook are:\n",
        "\n",
        "Bacmet: 'https://bacmet.biomedicine.gu.se/download.html',\n",
        "KEGG : 'https://www.genome.jp/kegg/pathway.html', which is the Kyoto Encyclopedia of Genes and Genomes. With this is possible to find metabolic pathways, identify functional gene annotations\n",
        "IMG/M: 'https://img.jgi.doe.gov/',- For detailed metabolic pathways\n",
        "BRENDA: 'https://www.brenda-enzymes.org/\n",
        "\n",
        "1. Initial Computational Screening\n",
        "   ↓\n",
        "2. Literature Validation\n",
        "   ↓\n",
        "3. Metabolic Pathway Analysis and mapping- PICRUSt2 - Can predict metabolic functions from 16S data\n",
        "   ↓\n",
        "4. Find functional similarities between known and candidate bacteria, compare taxonomic groups with similar functional profiles\n",
        "   ↓\n",
        "5. Sequence analysis for: Sulfate reduction genes, Iron metabolism genes, Biofilm    formation genes\n",
        "   ↓\n",
        "6. Identify gene clusters associated with iron metabolism\n"
      ]
    },
    {
      "cell_type": "code",
      "execution_count": 1,
      "metadata": {
        "colab": {
          "base_uri": "https://localhost:8080/"
        },
        "id": "lmqm_cyo26JA",
        "outputId": "17a0d832-53c2-44ae-d1d0-75346521374a"
      },
      "outputs": [
        {
          "data": {
            "text/plain": [
              "\"import os\\nfrom google.colab import drive  #silence for vscode\\ndrive.mount('/content/drive')\\n\\n#change the path\\nos.chdir('/content/drive/My Drive/MIC')\""
            ]
          },
          "execution_count": 1,
          "metadata": {},
          "output_type": "execute_result"
        }
      ],
      "source": [
        "'''import os\n",
        "from google.colab import drive  #silence for vscode\n",
        "drive.mount('/content/drive')\n",
        "\n",
        "#change the path\n",
        "os.chdir('/content/drive/My Drive/MIC')'''"
      ]
    },
    {
      "cell_type": "code",
      "execution_count": 2,
      "metadata": {
        "colab": {
          "base_uri": "https://localhost:8080/"
        },
        "id": "ZcnCCZCK3X4I",
        "outputId": "e9f8ceca-359d-42da-f4f7-ed59a13a7f2f"
      },
      "outputs": [
        {
          "data": {
            "text/plain": [
              "'# For colab\\n!pip install pandas numpy biopython\\n!pip install requests beautifulsoup4\\n!pip install Bio'"
            ]
          },
          "execution_count": 2,
          "metadata": {},
          "output_type": "execute_result"
        }
      ],
      "source": [
        "'''# For colab\n",
        "!pip install pandas numpy biopython\n",
        "!pip install requests beautifulsoup4\n",
        "!pip install Bio'''"
      ]
    },
    {
      "cell_type": "markdown",
      "metadata": {
        "id": "fYZMXODQ1vwV"
      },
      "source": [
        "# Preparing data"
      ]
    },
    {
      "cell_type": "code",
      "execution_count": 3,
      "metadata": {
        "id": "f1SdK88z1vwV"
      },
      "outputs": [],
      "source": [
        "from Bio import Entrez\n",
        "import pandas as pd\n",
        "from functools import partial\n",
        "import requests\n",
        "from bs4 import BeautifulSoup\n",
        "import time\n",
        "import urllib3"
      ]
    },
    {
      "cell_type": "code",
      "execution_count": 4,
      "metadata": {
        "id": "l8B5GWW01vwW"
      },
      "outputs": [],
      "source": [
        "# Read the Excel file\n",
        "Jointax = pd.read_excel(\"data/Jointax.xlsx\", sheet_name='Biotot_jointax', header=[0,1,2,3,4,5,6,7])"
      ]
    },
    {
      "cell_type": "code",
      "execution_count": 5,
      "metadata": {
        "id": "Su9FEZq51vwW"
      },
      "outputs": [],
      "source": [
        "# Drop 2 first columns\n",
        "Jointax = Jointax.drop(Jointax.columns[0:2], axis=1)"
      ]
    },
    {
      "cell_type": "code",
      "execution_count": 6,
      "metadata": {
        "id": "RqAQV7og1vwX"
      },
      "outputs": [],
      "source": [
        "# Extract Genera and ID from the multi-index\n",
        "bacteria_list = [genus for genus in Jointax.columns.get_level_values(6).tolist()[1:] if genus.strip()]"
      ]
    },
    {
      "cell_type": "code",
      "execution_count": 7,
      "metadata": {
        "id": "KDxBxzx91vwX"
      },
      "outputs": [],
      "source": [
        "bacteria_list = Jointax.columns.get_level_values(6).tolist()[1:]"
      ]
    },
    {
      "cell_type": "markdown",
      "metadata": {
        "id": "pHoAKVv51vwX"
      },
      "source": [
        "# 2. Query DB: Search Multiple Databases\n",
        "we connect and search multiple databases for MIC-related terms. Phase 1 (search_mic_databases): The code establishes initial database connections using provided email. Searches BacMet, KEGG, IMG/M, and BRENDA for MIC-related keywords and uses defined metabolic pathways to categorize results. At the end it returns DataFrame with [Bacteria, Database, Evidence, Pathway] columns."
      ]
    },
    {
      "cell_type": "code",
      "execution_count": 8,
      "metadata": {
        "id": "tslf2l909G2S"
      },
      "outputs": [],
      "source": [
        "def query_database(db_name, url, query):\n",
        "    \"\"\"Query different databases with improved error handling and rate limiting\"\"\"\n",
        "    try:\n",
        "        session = requests.Session()\n",
        "        # Add reasonable timeout and headers\n",
        "        session.timeout = 30\n",
        "        session.headers.update({\n",
        "            'User-Agent': 'Research-Bot/1.0',\n",
        "            'Accept': 'application/json, text/plain, */*'\n",
        "        })\n",
        "\n",
        "        if db_name == 'BacMet':\n",
        "            response = session.get(\n",
        "                url,\n",
        "                params={'query': query, 'type': 'experimentally_verified'},\n",
        "                verify=False\n",
        "            )\n",
        "            return response.json().get('hits', []) if response.ok else []\n",
        "\n",
        "        elif db_name == 'KEGG':\n",
        "            response = session.get(f\"{url}find/genes/{query}\")\n",
        "            return response.text.split('\\n') if response.ok else []\n",
        "\n",
        "        elif db_name == 'IMG/M':\n",
        "            # Simplified IMG/M query - consider adding proper authentication\n",
        "            response = session.get(url, params={'keyword': query})\n",
        "            return response.text.split('\\n') if response.ok else []\n",
        "\n",
        "        elif db_name == 'BRENDA':\n",
        "            response = session.get(f\"{url}?query={query}\")\n",
        "            return response.text.split('\\n') if response.ok else []\n",
        "\n",
        "    except requests.exceptions.RequestException as e:\n",
        "        print(f\"Error querying {db_name}: {str(e)}\")\n",
        "        return []"
      ]
    },
    {
      "cell_type": "markdown",
      "metadata": {
        "id": "kAiJiSPs1vwY"
      },
      "source": [
        "# 3. Search all Databases:\n",
        "processes all bacteria through all databases\n",
        "Here it is performed detailed API queries using database URLs. It is retrived specific gene, metal, and function information. Here documented but run in Colab in batches. It returns detailed DataFrame with experimental evidence\n",
        "## 3.1. Chunk\n",
        "Take first 50 bacteria\n",
        "Search only most important databases (KEGG and BacMet)\n",
        "Use fewer keywords\n",
        "Save these initial results"
      ]
    },
    {
      "cell_type": "code",
      "execution_count": 9,
      "metadata": {
        "id": "Uok6vwLm1vwY"
      },
      "outputs": [],
      "source": [
        "def search_all_databases(bacteria_list, batch_size=50):\n",
        "    \"\"\"Search databases in smaller batches with progress tracking\"\"\"\n",
        "    Entrez.email = \"beatrizamandawatts@gmail.com\"\n",
        "\n",
        "    databases = {\n",
        "        'BacMet': 'https://bacmet.biomedicine.gu.se/api/search/',\n",
        "        'KEGG': 'https://rest.kegg.jp/',\n",
        "        'IMG/M': 'https://img.jgi.doe.gov/cgi-bin/m/main.cgi',\n",
        "        'BRENDA': 'https://www.brenda-enzymes.org/rest/'\n",
        "    }\n",
        "\n",
        "    mic_keywords = [\n",
        "        \"sulfate reduction\", \"metal reduction\", \"iron oxidation\",\n",
        "        \"corrosion\", \"MIC\", \"biofilm\", \"EPS production\"\n",
        "    ]\n",
        "\n",
        "    batch_bacteria = bacteria_list[:batch_size]\n",
        "    results_list = []\n",
        "\n",
        "    for bacteria in batch_bacteria:\n",
        "        if not bacteria or pd.isna(bacteria):\n",
        "            continue\n",
        "        print(f\"Processing: {bacteria}\")\n",
        "\n",
        "        for db_name, db_url in databases.items():\n",
        "            for keyword in mic_keywords:\n",
        "                try:\n",
        "                    query = f\"{bacteria} {keyword}\"\n",
        "                    hits = query_database(db_name, db_url, query)\n",
        "                    results_list.append({\n",
        "                        'Bacteria': bacteria,\n",
        "                        'Database': db_name,\n",
        "                        'Keyword': keyword,\n",
        "                        'Hits': hits\n",
        "                    })\n",
        "                except Exception as e:\n",
        "                    print(f\"Error querying {db_name} for {bacteria}: {str(e)}\")\n",
        "                time.sleep(2)\n",
        "\n",
        "    batch_results = pd.DataFrame(results_list)\n",
        "    batch_results.to_csv(f'batch_results_{len(batch_bacteria)}.csv', index=False)\n",
        "    return batch_results"
      ]
    },
    {
      "cell_type": "code",
      "execution_count": 10,
      "metadata": {
        "colab": {
          "base_uri": "https://localhost:8080/"
        },
        "id": "l5IeeM_KAJg4",
        "outputId": "6465dbbe-1e44-468f-a281-f93b83474f25"
      },
      "outputs": [
        {
          "name": "stdout",
          "output_type": "stream",
          "text": [
            "Processing: 02d06\n"
          ]
        },
        {
          "name": "stderr",
          "output_type": "stream",
          "text": [
            "/home/beatriz/MIC/2_Micro/.venv/lib/python3.10/site-packages/urllib3/connectionpool.py:1099: InsecureRequestWarning: Unverified HTTPS request is being made to host 'bacmet.biomedicine.gu.se'. Adding certificate verification is strongly advised. See: https://urllib3.readthedocs.io/en/latest/advanced-usage.html#tls-warnings\n",
            "  warnings.warn(\n",
            "/home/beatriz/MIC/2_Micro/.venv/lib/python3.10/site-packages/urllib3/connectionpool.py:1099: InsecureRequestWarning: Unverified HTTPS request is being made to host 'bacmet.biomedicine.gu.se'. Adding certificate verification is strongly advised. See: https://urllib3.readthedocs.io/en/latest/advanced-usage.html#tls-warnings\n",
            "  warnings.warn(\n",
            "/home/beatriz/MIC/2_Micro/.venv/lib/python3.10/site-packages/urllib3/connectionpool.py:1099: InsecureRequestWarning: Unverified HTTPS request is being made to host 'bacmet.biomedicine.gu.se'. Adding certificate verification is strongly advised. See: https://urllib3.readthedocs.io/en/latest/advanced-usage.html#tls-warnings\n",
            "  warnings.warn(\n",
            "/home/beatriz/MIC/2_Micro/.venv/lib/python3.10/site-packages/urllib3/connectionpool.py:1099: InsecureRequestWarning: Unverified HTTPS request is being made to host 'bacmet.biomedicine.gu.se'. Adding certificate verification is strongly advised. See: https://urllib3.readthedocs.io/en/latest/advanced-usage.html#tls-warnings\n",
            "  warnings.warn(\n",
            "/home/beatriz/MIC/2_Micro/.venv/lib/python3.10/site-packages/urllib3/connectionpool.py:1099: InsecureRequestWarning: Unverified HTTPS request is being made to host 'bacmet.biomedicine.gu.se'. Adding certificate verification is strongly advised. See: https://urllib3.readthedocs.io/en/latest/advanced-usage.html#tls-warnings\n",
            "  warnings.warn(\n",
            "/home/beatriz/MIC/2_Micro/.venv/lib/python3.10/site-packages/urllib3/connectionpool.py:1099: InsecureRequestWarning: Unverified HTTPS request is being made to host 'bacmet.biomedicine.gu.se'. Adding certificate verification is strongly advised. See: https://urllib3.readthedocs.io/en/latest/advanced-usage.html#tls-warnings\n",
            "  warnings.warn(\n",
            "/home/beatriz/MIC/2_Micro/.venv/lib/python3.10/site-packages/urllib3/connectionpool.py:1099: InsecureRequestWarning: Unverified HTTPS request is being made to host 'bacmet.biomedicine.gu.se'. Adding certificate verification is strongly advised. See: https://urllib3.readthedocs.io/en/latest/advanced-usage.html#tls-warnings\n",
            "  warnings.warn(\n"
          ]
        },
        {
          "name": "stdout",
          "output_type": "stream",
          "text": [
            "Processing: A17\n"
          ]
        },
        {
          "name": "stderr",
          "output_type": "stream",
          "text": [
            "/home/beatriz/MIC/2_Micro/.venv/lib/python3.10/site-packages/urllib3/connectionpool.py:1099: InsecureRequestWarning: Unverified HTTPS request is being made to host 'bacmet.biomedicine.gu.se'. Adding certificate verification is strongly advised. See: https://urllib3.readthedocs.io/en/latest/advanced-usage.html#tls-warnings\n",
            "  warnings.warn(\n",
            "/home/beatriz/MIC/2_Micro/.venv/lib/python3.10/site-packages/urllib3/connectionpool.py:1099: InsecureRequestWarning: Unverified HTTPS request is being made to host 'bacmet.biomedicine.gu.se'. Adding certificate verification is strongly advised. See: https://urllib3.readthedocs.io/en/latest/advanced-usage.html#tls-warnings\n",
            "  warnings.warn(\n",
            "/home/beatriz/MIC/2_Micro/.venv/lib/python3.10/site-packages/urllib3/connectionpool.py:1099: InsecureRequestWarning: Unverified HTTPS request is being made to host 'bacmet.biomedicine.gu.se'. Adding certificate verification is strongly advised. See: https://urllib3.readthedocs.io/en/latest/advanced-usage.html#tls-warnings\n",
            "  warnings.warn(\n",
            "/home/beatriz/MIC/2_Micro/.venv/lib/python3.10/site-packages/urllib3/connectionpool.py:1099: InsecureRequestWarning: Unverified HTTPS request is being made to host 'bacmet.biomedicine.gu.se'. Adding certificate verification is strongly advised. See: https://urllib3.readthedocs.io/en/latest/advanced-usage.html#tls-warnings\n",
            "  warnings.warn(\n",
            "/home/beatriz/MIC/2_Micro/.venv/lib/python3.10/site-packages/urllib3/connectionpool.py:1099: InsecureRequestWarning: Unverified HTTPS request is being made to host 'bacmet.biomedicine.gu.se'. Adding certificate verification is strongly advised. See: https://urllib3.readthedocs.io/en/latest/advanced-usage.html#tls-warnings\n",
            "  warnings.warn(\n",
            "/home/beatriz/MIC/2_Micro/.venv/lib/python3.10/site-packages/urllib3/connectionpool.py:1099: InsecureRequestWarning: Unverified HTTPS request is being made to host 'bacmet.biomedicine.gu.se'. Adding certificate verification is strongly advised. See: https://urllib3.readthedocs.io/en/latest/advanced-usage.html#tls-warnings\n",
            "  warnings.warn(\n",
            "/home/beatriz/MIC/2_Micro/.venv/lib/python3.10/site-packages/urllib3/connectionpool.py:1099: InsecureRequestWarning: Unverified HTTPS request is being made to host 'bacmet.biomedicine.gu.se'. Adding certificate verification is strongly advised. See: https://urllib3.readthedocs.io/en/latest/advanced-usage.html#tls-warnings\n",
            "  warnings.warn(\n"
          ]
        },
        {
          "name": "stdout",
          "output_type": "stream",
          "text": [
            "Processing: Abiotrophia\n"
          ]
        },
        {
          "name": "stderr",
          "output_type": "stream",
          "text": [
            "/home/beatriz/MIC/2_Micro/.venv/lib/python3.10/site-packages/urllib3/connectionpool.py:1099: InsecureRequestWarning: Unverified HTTPS request is being made to host 'bacmet.biomedicine.gu.se'. Adding certificate verification is strongly advised. See: https://urllib3.readthedocs.io/en/latest/advanced-usage.html#tls-warnings\n",
            "  warnings.warn(\n",
            "/home/beatriz/MIC/2_Micro/.venv/lib/python3.10/site-packages/urllib3/connectionpool.py:1099: InsecureRequestWarning: Unverified HTTPS request is being made to host 'bacmet.biomedicine.gu.se'. Adding certificate verification is strongly advised. See: https://urllib3.readthedocs.io/en/latest/advanced-usage.html#tls-warnings\n",
            "  warnings.warn(\n",
            "/home/beatriz/MIC/2_Micro/.venv/lib/python3.10/site-packages/urllib3/connectionpool.py:1099: InsecureRequestWarning: Unverified HTTPS request is being made to host 'bacmet.biomedicine.gu.se'. Adding certificate verification is strongly advised. See: https://urllib3.readthedocs.io/en/latest/advanced-usage.html#tls-warnings\n",
            "  warnings.warn(\n",
            "/home/beatriz/MIC/2_Micro/.venv/lib/python3.10/site-packages/urllib3/connectionpool.py:1099: InsecureRequestWarning: Unverified HTTPS request is being made to host 'bacmet.biomedicine.gu.se'. Adding certificate verification is strongly advised. See: https://urllib3.readthedocs.io/en/latest/advanced-usage.html#tls-warnings\n",
            "  warnings.warn(\n",
            "/home/beatriz/MIC/2_Micro/.venv/lib/python3.10/site-packages/urllib3/connectionpool.py:1099: InsecureRequestWarning: Unverified HTTPS request is being made to host 'bacmet.biomedicine.gu.se'. Adding certificate verification is strongly advised. See: https://urllib3.readthedocs.io/en/latest/advanced-usage.html#tls-warnings\n",
            "  warnings.warn(\n",
            "/home/beatriz/MIC/2_Micro/.venv/lib/python3.10/site-packages/urllib3/connectionpool.py:1099: InsecureRequestWarning: Unverified HTTPS request is being made to host 'bacmet.biomedicine.gu.se'. Adding certificate verification is strongly advised. See: https://urllib3.readthedocs.io/en/latest/advanced-usage.html#tls-warnings\n",
            "  warnings.warn(\n",
            "/home/beatriz/MIC/2_Micro/.venv/lib/python3.10/site-packages/urllib3/connectionpool.py:1099: InsecureRequestWarning: Unverified HTTPS request is being made to host 'bacmet.biomedicine.gu.se'. Adding certificate verification is strongly advised. See: https://urllib3.readthedocs.io/en/latest/advanced-usage.html#tls-warnings\n",
            "  warnings.warn(\n"
          ]
        },
        {
          "name": "stdout",
          "output_type": "stream",
          "text": [
            "Processing: Acetanaerobacterium\n"
          ]
        },
        {
          "name": "stderr",
          "output_type": "stream",
          "text": [
            "/home/beatriz/MIC/2_Micro/.venv/lib/python3.10/site-packages/urllib3/connectionpool.py:1099: InsecureRequestWarning: Unverified HTTPS request is being made to host 'bacmet.biomedicine.gu.se'. Adding certificate verification is strongly advised. See: https://urllib3.readthedocs.io/en/latest/advanced-usage.html#tls-warnings\n",
            "  warnings.warn(\n",
            "/home/beatriz/MIC/2_Micro/.venv/lib/python3.10/site-packages/urllib3/connectionpool.py:1099: InsecureRequestWarning: Unverified HTTPS request is being made to host 'bacmet.biomedicine.gu.se'. Adding certificate verification is strongly advised. See: https://urllib3.readthedocs.io/en/latest/advanced-usage.html#tls-warnings\n",
            "  warnings.warn(\n",
            "/home/beatriz/MIC/2_Micro/.venv/lib/python3.10/site-packages/urllib3/connectionpool.py:1099: InsecureRequestWarning: Unverified HTTPS request is being made to host 'bacmet.biomedicine.gu.se'. Adding certificate verification is strongly advised. See: https://urllib3.readthedocs.io/en/latest/advanced-usage.html#tls-warnings\n",
            "  warnings.warn(\n",
            "/home/beatriz/MIC/2_Micro/.venv/lib/python3.10/site-packages/urllib3/connectionpool.py:1099: InsecureRequestWarning: Unverified HTTPS request is being made to host 'bacmet.biomedicine.gu.se'. Adding certificate verification is strongly advised. See: https://urllib3.readthedocs.io/en/latest/advanced-usage.html#tls-warnings\n",
            "  warnings.warn(\n",
            "/home/beatriz/MIC/2_Micro/.venv/lib/python3.10/site-packages/urllib3/connectionpool.py:1099: InsecureRequestWarning: Unverified HTTPS request is being made to host 'bacmet.biomedicine.gu.se'. Adding certificate verification is strongly advised. See: https://urllib3.readthedocs.io/en/latest/advanced-usage.html#tls-warnings\n",
            "  warnings.warn(\n",
            "/home/beatriz/MIC/2_Micro/.venv/lib/python3.10/site-packages/urllib3/connectionpool.py:1099: InsecureRequestWarning: Unverified HTTPS request is being made to host 'bacmet.biomedicine.gu.se'. Adding certificate verification is strongly advised. See: https://urllib3.readthedocs.io/en/latest/advanced-usage.html#tls-warnings\n",
            "  warnings.warn(\n",
            "/home/beatriz/MIC/2_Micro/.venv/lib/python3.10/site-packages/urllib3/connectionpool.py:1099: InsecureRequestWarning: Unverified HTTPS request is being made to host 'bacmet.biomedicine.gu.se'. Adding certificate verification is strongly advised. See: https://urllib3.readthedocs.io/en/latest/advanced-usage.html#tls-warnings\n",
            "  warnings.warn(\n"
          ]
        },
        {
          "ename": "KeyboardInterrupt",
          "evalue": "",
          "output_type": "error",
          "traceback": [
            "\u001b[0;31m---------------------------------------------------------------------------\u001b[0m",
            "\u001b[0;31mKeyboardInterrupt\u001b[0m                         Traceback (most recent call last)",
            "Cell \u001b[0;32mIn[10], line 2\u001b[0m\n\u001b[1;32m      1\u001b[0m \u001b[38;5;66;03m# Run first batch of 50\u001b[39;00m\n\u001b[0;32m----> 2\u001b[0m first_batch \u001b[38;5;241m=\u001b[39m \u001b[43msearch_all_databases\u001b[49m\u001b[43m(\u001b[49m\u001b[43mbacteria_list\u001b[49m\u001b[43m,\u001b[49m\u001b[43m \u001b[49m\u001b[43mbatch_size\u001b[49m\u001b[38;5;241;43m=\u001b[39;49m\u001b[38;5;241;43m10\u001b[39;49m\u001b[43m)\u001b[49m\n\u001b[1;32m      3\u001b[0m \u001b[38;5;66;03m# Save full list for future sessions\u001b[39;00m\n\u001b[1;32m      4\u001b[0m pd\u001b[38;5;241m.\u001b[39mSeries(bacteria_list)\u001b[38;5;241m.\u001b[39mto_csv(\u001b[38;5;124m'\u001b[39m\u001b[38;5;124mfull_bacteria_list.csv\u001b[39m\u001b[38;5;124m'\u001b[39m, index\u001b[38;5;241m=\u001b[39m\u001b[38;5;28;01mFalse\u001b[39;00m)\n",
            "Cell \u001b[0;32mIn[9], line 38\u001b[0m, in \u001b[0;36msearch_all_databases\u001b[0;34m(bacteria_list, batch_size)\u001b[0m\n\u001b[1;32m     36\u001b[0m             \u001b[38;5;28;01mexcept\u001b[39;00m \u001b[38;5;167;01mException\u001b[39;00m \u001b[38;5;28;01mas\u001b[39;00m e:\n\u001b[1;32m     37\u001b[0m                 \u001b[38;5;28mprint\u001b[39m(\u001b[38;5;124mf\u001b[39m\u001b[38;5;124m\"\u001b[39m\u001b[38;5;124mError querying \u001b[39m\u001b[38;5;132;01m{\u001b[39;00mdb_name\u001b[38;5;132;01m}\u001b[39;00m\u001b[38;5;124m for \u001b[39m\u001b[38;5;132;01m{\u001b[39;00mbacteria\u001b[38;5;132;01m}\u001b[39;00m\u001b[38;5;124m: \u001b[39m\u001b[38;5;132;01m{\u001b[39;00m\u001b[38;5;28mstr\u001b[39m(e)\u001b[38;5;132;01m}\u001b[39;00m\u001b[38;5;124m\"\u001b[39m)\n\u001b[0;32m---> 38\u001b[0m             \u001b[43mtime\u001b[49m\u001b[38;5;241;43m.\u001b[39;49m\u001b[43msleep\u001b[49m\u001b[43m(\u001b[49m\u001b[38;5;241;43m2\u001b[39;49m\u001b[43m)\u001b[49m\n\u001b[1;32m     40\u001b[0m batch_results \u001b[38;5;241m=\u001b[39m pd\u001b[38;5;241m.\u001b[39mDataFrame(results_list)\n\u001b[1;32m     41\u001b[0m batch_results\u001b[38;5;241m.\u001b[39mto_csv(\u001b[38;5;124mf\u001b[39m\u001b[38;5;124m'\u001b[39m\u001b[38;5;124mbatch_results_\u001b[39m\u001b[38;5;132;01m{\u001b[39;00m\u001b[38;5;28mlen\u001b[39m(batch_bacteria)\u001b[38;5;132;01m}\u001b[39;00m\u001b[38;5;124m.csv\u001b[39m\u001b[38;5;124m'\u001b[39m, index\u001b[38;5;241m=\u001b[39m\u001b[38;5;28;01mFalse\u001b[39;00m)\n",
            "\u001b[0;31mKeyboardInterrupt\u001b[0m: "
          ]
        }
      ],
      "source": [
        "# Run first batch of 50\n",
        "first_batch = search_all_databases(bacteria_list, batch_size=10)\n",
        "# Save full list for future sessions\n",
        "pd.Series(bacteria_list).to_csv('full_bacteria_list.csv', index=False)"
      ]
    },
    {
      "cell_type": "markdown",
      "metadata": {
        "id": "nWr8D_Co9cxo"
      },
      "source": [
        "## 3.2. Analyze_metabolic_pathways function\n",
        " (second chunk)"
      ]
    },
    {
      "cell_type": "code",
      "execution_count": null,
      "metadata": {
        "id": "GPvv4ApqCQ-s"
      },
      "outputs": [],
      "source": [
        "def analyze_metabolic_pathways(high_priority_bacteria):\n",
        "    \"\"\"Analyze metabolic pathways for bacteria with high initial scores\"\"\"\n",
        "    metabolic_results = []\n",
        "\n",
        "    key_pathways = {\n",
        "        'sulfate_reduction': ['sat', 'aprAB', 'dsrAB'],\n",
        "        'iron_reduction': ['cymA', 'mtrCAB'],\n",
        "        'biofilm_formation': ['eps', 'pgaC']\n",
        "    }\n",
        "\n",
        "    for bacteria in high_priority_bacteria:\n",
        "        pathway_hits = {\n",
        "            'Bacteria': bacteria,\n",
        "            'Pathways_Found': 0\n",
        "        }\n",
        "\n",
        "        response = query_database('KEGG',\n",
        "                                'https://rest.kegg.jp/',\n",
        "                                f\"{bacteria} pathway\")\n",
        "\n",
        "        for pathway, genes in key_pathways.items():\n",
        "            hits = sum(1 for gene in genes if gene in str(response))\n",
        "            pathway_hits[f\"{pathway}_score\"] = hits\n",
        "            pathway_hits['Pathways_Found'] += hits > 0\n",
        "\n",
        "        metabolic_results.append(pathway_hits)\n",
        "        time.sleep(1)\n",
        "\n",
        "    return pd.DataFrame(metabolic_results)"
      ]
    },
    {
      "cell_type": "code",
      "execution_count": null,
      "metadata": {
        "id": "zbMV_w9QDEeU"
      },
      "outputs": [],
      "source": [
        "# Load first batch results and select high-scoring bacteria\n",
        "first_results = pd.read_csv('batch_results_10.csv')\n",
        "high_priority = first_results[first_results['Hits'] > 0]['Bacteria'].unique().tolist()\n",
        "\n",
        "# Run metabolic analysis\n",
        "metabolic_results = analyze_metabolic_pathways(high_priority)\n",
        "metabolic_results.to_csv('metabolic_results.csv', index=False)"
      ]
    },
    {
      "cell_type": "markdown",
      "metadata": {
        "id": "1tVVpesgCSW7"
      },
      "source": [
        "## 3.3. literature_analysis function (third chunk):"
      ]
    },
    {
      "cell_type": "code",
      "execution_count": null,
      "metadata": {
        "id": "fe-ba-4wCgyL"
      },
      "outputs": [],
      "source": [
        "def literature_analysis(bacteria_list):\n",
        "    \"\"\"Analyze literature references for specific bacteria\"\"\"\n",
        "    Entrez.email = \"beatrizamandawatts@gmail.com\"\n",
        "\n",
        "    literature_results = []\n",
        "    for bacteria in bacteria_list:\n",
        "        citations = {\n",
        "            'Bacteria': bacteria,\n",
        "            'MIC_Citations': 0,\n",
        "            'Keywords_Found': []\n",
        "        }\n",
        "\n",
        "        search_term = f\"{bacteria} AND (corrosion OR MIC OR 'sulfate reducing')\"\n",
        "        try:\n",
        "            handle = Entrez.esearch(db=\"pubmed\", term=search_term)\n",
        "            record = Entrez.read(handle)\n",
        "            citations['MIC_Citations'] = int(record[\"Count\"])\n",
        "\n",
        "            if citations['MIC_Citations'] > 0:\n",
        "                id_list = record[\"IdList\"][:3]\n",
        "                for pmid in id_list:\n",
        "                    summary = Entrez.esearch(db=\"pubmed\", id=pmid)\n",
        "                    summary_record = Entrez.read(summary)\n",
        "                    citations['Keywords_Found'].extend(summary_record[0].get('Keywords', []))\n",
        "        except Exception as e:\n",
        "            print(f\"Error processing {bacteria}: {str(e)}\")\n",
        "\n",
        "        literature_results.append(citations)\n",
        "        time.sleep(1)\n",
        "\n",
        "    return pd.DataFrame(literature_results)"
      ]
    },
    {
      "cell_type": "code",
      "execution_count": null,
      "metadata": {
        "id": "e_PJA82DDbAl"
      },
      "outputs": [],
      "source": [
        "# Load metabolic results and select bacteria for literature search\n",
        "metabolic_df = pd.read_csv('metabolic_results.csv')\n",
        "literature_candidates = metabolic_df[metabolic_df['Pathways_Found'] > 1]['Bacteria'].tolist()\n",
        "\n",
        "# Run literature analysis\n",
        "lit_results = literature_analysis(literature_candidates)\n",
        "lit_results.to_csv('literature_results.csv', index=False)"
      ]
    },
    {
      "cell_type": "markdown",
      "metadata": {
        "id": "4KhhxnKCChv0"
      },
      "source": [
        "## 3.4. combine_all_results function (final chunk):"
      ]
    },
    {
      "cell_type": "code",
      "execution_count": null,
      "metadata": {
        "id": "A5AeimBZCpIs"
      },
      "outputs": [],
      "source": [
        "def combine_all_results():\n",
        "    \"\"\"Combine and score all previous results\"\"\"\n",
        "    initial = pd.read_csv('batch_results_50.csv')\n",
        "    metabolic = pd.read_csv('metabolic_results.csv')\n",
        "    literature = pd.read_csv('literature_results.csv')\n",
        "\n",
        "    combined = initial.merge(metabolic, on='Bacteria', how='outer')\\\n",
        "                     .merge(literature, on='Bacteria', how='outer')\n",
        "\n",
        "    combined['Final_Score'] = (\n",
        "        combined['Hits'].fillna(0) * 0.3 +\n",
        "        combined['Pathways_Found'].fillna(0) * 0.4 +\n",
        "        (combined['MIC_Citations'] > 0).astype(int) * 0.3\n",
        "    )\n",
        "\n",
        "    return combined"
      ]
    },
    {
      "cell_type": "code",
      "execution_count": null,
      "metadata": {
        "id": "EiSqWK32Deb0"
      },
      "outputs": [],
      "source": [
        "# Load full list and get next batch\n",
        "all_bacteria = pd.read_csv('full_bacteria_list.csv')['0'].tolist()\n",
        "next_batch_start = 10\n",
        "next_batch = search_all_databases(all_bacteria[next_batch_start:], batch_size=50)"
      ]
    },
    {
      "cell_type": "code",
      "execution_count": null,
      "metadata": {
        "id": "6GwqI_jLDvG3"
      },
      "outputs": [],
      "source": [
        "# Combine everything and get final scores\n",
        "final_results = combine_all_results()\n",
        "final_results.to_csv('final_mic_analysis.csv', index=False)\n",
        "\n",
        "# View top candidates\n",
        "print(\"\\nTop corrosion-influencing bacteria:\")\n",
        "print(final_results.nlargest(10, 'Final_Score')[['Bacteria', 'Final_Score']])"
      ]
    },
    {
      "cell_type": "markdown",
      "metadata": {
        "id": "w0tn3AsbDxtu"
      },
      "source": []
    },
    {
      "cell_type": "code",
      "execution_count": null,
      "metadata": {
        "id": "0BMTMh7G9bIo"
      },
      "outputs": [],
      "source": [
        "def analyze_mic_potential(results_df):\n",
        "    \"\"\"Analyze bacteria for MIC potential based on database hits\"\"\"\n",
        "    # Add score columns\n",
        "    results_df['Score'] = results_df['Total_Hits'].apply(lambda x: min(x / 10, 1))\n",
        "\n",
        "    # Classify bacteria based on evidence\n",
        "    def classify_potential(row):\n",
        "        if row['Score'] >= 0.8:\n",
        "            return 'High'\n",
        "        elif row['Score'] >= 0.5:\n",
        "            return 'Medium'\n",
        "        elif row['Score'] > 0:\n",
        "            return 'Low'\n",
        "        return 'Unknown'\n",
        "\n",
        "    results_df['MIC_Potential'] = results_df.apply(classify_potential, axis=1)\n",
        "\n",
        "    return results_df"
      ]
    },
    {
      "cell_type": "code",
      "execution_count": null,
      "metadata": {
        "id": "oQfgryI7-B3J"
      },
      "outputs": [],
      "source": [
        "# Analyze results\n",
        "analyzed_results = analyze_mic_potential(MIC_df)\n"
      ]
    },
    {
      "cell_type": "code",
      "execution_count": null,
      "metadata": {
        "id": "BXQSUf_C-MM2"
      },
      "outputs": [],
      "source": [
        "# Display summary\n",
        "print(\"\\nSummary of MIC Potential:\")\n",
        "print(analyzed_results['MIC_Potential'].value_counts())"
      ]
    },
    {
      "cell_type": "markdown",
      "metadata": {
        "id": "2AEV65x5-V1D"
      },
      "source": []
    },
    {
      "cell_type": "code",
      "execution_count": null,
      "metadata": {
        "id": "Boxs-NFJ1vwY"
      },
      "outputs": [],
      "source": [
        "Pseudo-code:\n",
        "pythonCopydef comprehensive_corrosion_screening(genera_list):\n",
        "    corrosion_database = {}\n",
        "\n",
        "    for genus in genera_list:\n",
        "        # Multiple validation steps\n",
        "        computational_score = compute_corrosion_potential(genus)\n",
        "        literature_score = mine_literature(genus)\n",
        "        metabolic_score = analyze_metabolic_pathways(genus)\n",
        "\n",
        "        total_score = (computational_score +\n",
        "                       literature_score +\n",
        "                       metabolic_score) / 3\n",
        "\n",
        "        if total_score > threshold:\n",
        "            corrosion_database[genus] = {\n",
        "                'potential': total_score,\n",
        "                'details': generate_detailed_report(genus)\n",
        "            }\n",
        "\n",
        "    return corrosion_database\n",
        "\n"
      ]
    },
    {
      "cell_type": "markdown",
      "metadata": {
        "id": "zj1WrS4F1vwY"
      },
      "source": [
        "Especialised db\n",
        "MicrobeDB\n",
        "GOLD (Genomes Online Database)\n",
        "PATRIC Bacterial Bioinformatics Resource\n",
        "\n",
        "QIIME2 (Microbiome analysis)\n",
        "MetaPhlAn (Metagenomic profiling)\n",
        "MG-RAST (Metagenome analysis)\n",
        "Prokka (Genome annotation)\n",
        "\n"
      ]
    },
    {
      "cell_type": "markdown",
      "metadata": {
        "id": "JxskxZFX1vwZ"
      },
      "source": []
    },
    {
      "cell_type": "markdown",
      "metadata": {
        "id": "vV_6x0vm1vwZ"
      },
      "source": [
        "# Biomarkers Refinement\n",
        "Prioritize bacteria with known corrosion-related activities\n",
        "Consider biofilm formation capabilities\n",
        "Look for known metal-oxidizing/reducing bacteria\n",
        "Factor in pH tolerance and oxygen requirements\n"
      ]
    },
    {
      "cell_type": "markdown",
      "metadata": {
        "id": "D62G-wXz1vwZ"
      },
      "source": [
        "functional annotation analysis"
      ]
    },
    {
      "cell_type": "markdown",
      "metadata": {
        "id": "arbbwDgh1vwZ"
      },
      "source": [
        "3. Metabolic Pathway Analysis and mapping-\n",
        "PICRUSt2 - Can predict metabolic functions from 16S data"
      ]
    },
    {
      "cell_type": "code",
      "execution_count": null,
      "metadata": {
        "id": "wvT2KVJK1vwZ"
      },
      "outputs": [],
      "source": [
        "bashCopy# Install PICRUSt2 (if not already installed)\n",
        "conda create -n picrust2 -c bioconda -c conda-forge picrust2\n",
        "\n",
        "# Activate the environment\n",
        "conda activate picrust2\n",
        "\n",
        "# Run full pipeline\n",
        "picrust2_pipeline.py -s your_sequences.fasta -i your_abundance.biom -o picrust2_output_folder\n",
        "\n",
        "# For more specific pathway analysis\n",
        "add_descriptions.py -i EC_metagenome_out/pred_metagenome_unstrat.tsv.gz -m EC \\\n",
        "                   -o EC_metagenome_out/pred_metagenome_unstrat_described.tsv.gz\n",
        "\n",
        "Requirements:\n",
        "\n",
        "\n",
        "Your sequences should be properly quality filtered\n",
        "Sequences should be aligned and trimmed to the same length\n",
        "ASVs/OTUs should be properly clustered\n",
        "\n"
      ]
    },
    {
      "cell_type": "code",
      "execution_count": null,
      "metadata": {
        "id": "iVbvuUla1vwZ"
      },
      "outputs": [],
      "source": []
    },
    {
      "cell_type": "markdown",
      "metadata": {
        "id": "crhvOZNC1vwZ"
      },
      "source": [
        "# Network analysis\n",
        "\n",
        "Ecological Networks:\n",
        "\n",
        "\n",
        "Bacteria that appear \"neutral\" alone might be critical support species\n",
        "They could be enabling or moderating the effects of the corrosion-significant species\n",
        "In microbial communities, some species act as \"keystone\" species not through abundance but through their metabolic interactions\n",
        "\n",
        "\n",
        "Stability Indicators:\n",
        "\n",
        "\n",
        "Species present across all conditions might be:\n",
        "\n",
        "Buffer species that maintain community stability\n",
        "Indicators of baseline environmental conditions\n",
        "Part of the core microbiome that enables other species to thrive\n",
        "\n",
        "Think of it like a metal alloy - some elements might not directly affect corrosion resistance, but their presence maintains the overall structure that makes the protective elements effective.\n",
        "However, if data size/processing is a significant concern, you could:\n",
        "\n",
        "Keep full bacterial data initially\n",
        "Run your analysis\n",
        "Check if removing the \"uniform\" species significantly changes your results\n",
        "Document which removals affect the model and which don't\n",
        "_________________________\n",
        "This is to understand genus interactions\n",
        "Group bacteria by their typical ecological roles (e.g., primary degraders, secondary degraders)\n",
        "Add known syntrophic relationships between genera\n",
        "Map carbon/nitrogen cycling capabilities\n",
        "Identify potential metabolic handoffs between community members\n",
        "__\n",
        "\n",
        "Map each genus to known electron acceptor preferences (Fe, Mn, S, etc.)\n",
        "Create functional groups based on these metabolic capabilities\n",
        "Compare distribution of these functional groups across your categories\n",
        "Look for enrichment patterns of specific metabolic types\n"
      ]
    },
    {
      "cell_type": "markdown",
      "metadata": {
        "id": "82buZvfD1vwZ"
      },
      "source": [
        "# QIIME2 (Microbiome analysis)"
      ]
    },
    {
      "cell_type": "code",
      "execution_count": null,
      "metadata": {
        "id": "kQ0cWVW61vwa"
      },
      "outputs": [],
      "source": [
        "# Import FASTA into QIIME 2\n",
        "qiime tools import \\\n",
        "  --input-path your_sequences.fasta \\\n",
        "  --output-path sequences.qza \\\n",
        "  --type 'FeatureData[Sequence]'\n",
        "\n",
        "# Run DADA2 or Deblur for ASV generation\n",
        "qiime dada2 denoise-single \\\n",
        "  --i-demultiplexed-seqs sequences.qza \\\n",
        "  --p-trim-left 0 \\\n",
        "  --p-trunc-len 250 \\\n",
        "  --o-representative-sequences rep-seqs.qza \\\n",
        "  --o-table table.qza\n",
        "\n",
        "# Export to BIOM format\n",
        "qiime tools export \\\n",
        "  --input-path table.qza \\\n",
        "  --output-path exported-table\n",
        "\n",
        "# Convert to TSV if needed\n",
        "biom convert \\\n",
        "  -i exported-table/feature-table.biom \\\n",
        "  -o feature-table.tsv \\\n",
        "  --to-tsv\n",
        "\n",
        "\n",
        "# Dereplicate sequences\n",
        "vsearch --derep_fulllength your_sequences.fasta \\\n",
        "        --output unique_sequences.fasta \\\n",
        "        --sizeout\n",
        "\n",
        "# Cluster at 97% similarity (for OTUs)\n",
        "vsearch --cluster_size unique_sequences.fasta \\\n",
        "        --id 0.97 \\\n",
        "        --centroids clustered_sequences.fasta\n",
        "\n",
        "# Create OTU table\n",
        "vsearch --usearch_global your_sequences.fasta \\\n",
        "        --db clustered_sequences.fasta \\\n",
        "        --id 0.97 \\\n",
        "        --otutabout otu_table.txt\n",
        "\n"
      ]
    }
  ],
  "metadata": {
    "colab": {
      "provenance": []
    },
    "kernelspec": {
      "display_name": ".venv",
      "language": "python",
      "name": "python3"
    },
    "language_info": {
      "codemirror_mode": {
        "name": "ipython",
        "version": 3
      },
      "file_extension": ".py",
      "mimetype": "text/x-python",
      "name": "python",
      "nbconvert_exporter": "python",
      "pygments_lexer": "ipython3",
      "version": "3.10.12"
    }
  },
  "nbformat": 4,
  "nbformat_minor": 0
}
