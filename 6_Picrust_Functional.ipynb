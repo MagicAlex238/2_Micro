{
  "cells": [
    {
      "cell_type": "markdown",
      "metadata": {
        "id": "cDED5j4zCqR_"
      },
      "source": [
        "# Sequence Analysis and Functional Prediction Pipeline\n",
        "This notebook is enterily run in colab\n",
        "\n",
        "## 1. Introduction\n",
        "This notebook analyzes the functional and sequence relationships between newly identified bacteria and known corrosion-influencing microorganisms. The analysis builds upon previous findings where:\n",
        "- Statistical significance was established between the selected bacteria and corrosion risk (Notebook 3)\n",
        "- Literature validation confirmed corrosion influence for many bacteria (Notebook 4)\n",
        "- Evolutionary relationships were mapped through phylogenetic analysis (Notebook 5)\n",
        "\n",
        "The study focuses on bacteria from operational heating and cooling water systems, primarily in Germany. Using 16S rRNA data (bootstrap-validated from Notebook 5), this analysis employs PICRUSt2 to predict metabolic functions and compare functional profiles between different bacterial groups.\n",
        "\n",
        "### Analysis Approaches\n",
        "We implement two classification strategies:\n",
        "\n",
        "1. Simple Classification:\n",
        "   - Known corrosion-causing bacteria (usual_taxa)\n",
        "   - Other bacteria (combining checked_taxa and core_taxa)\n",
        "\n",
        "2. Detailed Classification:\n",
        "   - Known corrosion-causing bacteria (usual_taxa)\n",
        "   - Pure checked bacteria (exclusive to checked_taxa)\n",
        "   - Pure core bacteria (exclusive to core_taxa)\n",
        "   - Checked-core bacteria (overlap between checked and core taxa)\n",
        "\n",
        "This detailed approach allows for more nuanced analysis of functional profiles and better understanding of potential corrosion mechanisms across different bacterial groups.\n",
        "\n",
        "### Analysis Goals:\n",
        "- Predict metabolic functions from 16S sequences\n",
        "- Focus on corrosion-relevant pathways (sulfur/iron metabolism)\n",
        "- Compare functional profiles between known corrosion-causing bacteria and newly identified candidates\n",
        "- Validate whether statistical correlations reflect genuine metabolic capabilities associated with corrosion processes\n",
        "\n",
        "### Directory Structure:\n",
        " Following is the structure of the notebook data named data_picrus  \n",
        "data_tree  \n",
        " ├── sequences/  \n",
        " │   ├── known.fasta : sequences of known corrosion-causing bacteria  \n",
        " │   ├── candidate.fasta : sequences of potential new corrosion-causing bacteria  \n",
        " |   └── other files  \n",
        " data_picrus  \n",
        " └── picrust_results/  \n",
        "      ├── known_bacteria/  \n",
        "      |               ├── EC_predictions/       : enzyme predictions  \n",
        "      |               ├── pathway_predictions/  : metabolic pathway abundance  \n",
        "      |               ├── KO_predictions/       : KEGG ortholog predictions  \n",
        "      |               └── other_picrust_files/  \n",
        "      ├── candidate_bacteria/  \n",
        "      |               ├── EC_predictions/       : enzyme predictions  \n",
        "      |               ├── pathway_predictions/  : metabolic pathway abundance  \n",
        "      |               ├── KO_predictions/       : KEGG ortholog predictions  \n",
        "      |               └── other_picrust_files/  : final comparison summary\n",
        "      ├── core_bacteria/\n",
        "      |               ├── EC_predictions/       : enzyme predictions  \n",
        "      |               ├── pathway_predictions/  : metabolic pathway abundance  \n",
        "      |               ├── KO_predictions/       : KEGG ortholog predictions  \n",
        "      |               └── other_picrust_files/  \n",
        "      │      \n",
        "      └── functional_comparison.xlsx  \n",
        "Picrust2 works using its reference database that was installed with the package /home/beatriz/miniconda3/envs/picrust2/lib/python3.9/site-packages/picrust2/default_files/prokaryotic/pro_ref"
      ]
    },
    {
      "cell_type": "markdown",
      "metadata": {
        "id": "LeIn7RIBCqSD"
      },
      "source": [
        "# 2. Loading and Preparing the Data\n",
        "\n",
        "## 2.1 Imports, Directories, Loading and preparing the Abundance DataFrame\n",
        "The abundance DataFrame (Integrated) was carefully prepared to meet PICRUSt2 input requirements, including proper taxonomic level organization and removal of unnamed or missing data. The sequence data is sourced directly from aligned_sequences_integrated.fasta, which contains the phylogenetically aligned sequences generated in notebook 5. This integration ensures consistency between abundance data and sequence information."
      ]
    },
    {
      "cell_type": "markdown",
      "metadata": {
        "id": "VWqOI6IDD1qW"
      },
      "source": [
        "Importing QIIME AND PICRUST IN COLAB"
      ]
    },
    {
      "cell_type": "code",
      "execution_count": 6,
      "metadata": {
        "colab": {
          "base_uri": "https://localhost:8080/"
        },
        "id": "uKimriI3hmTq",
        "outputId": "c2d3cc0a-cf97-4497-b4d6-006edbaa6d82"
      },
      "outputs": [
        {
          "data": {
            "text/plain": [
              "'# Install miniconda and initialize\\n!wget https://repo.anaconda.com/miniconda/Miniconda3-latest-Linux-x86_64.sh\\n!bash Miniconda3-latest-Linux-x86_64.sh -b -f -p /usr/local/miniconda3\\n!conda config --add channels defaults\\n!conda config --add channels bioconda\\n!conda config --add channels conda-forge'"
            ]
          },
          "execution_count": 6,
          "metadata": {},
          "output_type": "execute_result"
        }
      ],
      "source": [
        "'''# Install miniconda and initialize\n",
        "!wget https://repo.anaconda.com/miniconda/Miniconda3-latest-Linux-x86_64.sh\n",
        "!bash Miniconda3-latest-Linux-x86_64.sh -b -f -p /usr/local/miniconda3\n",
        "!conda config --add channels defaults\n",
        "!conda config --add channels bioconda\n",
        "!conda config --add channels conda-forge'''"
      ]
    },
    {
      "cell_type": "code",
      "execution_count": 7,
      "metadata": {
        "id": "1TNkP-rXhutt"
      },
      "outputs": [
        {
          "data": {
            "text/plain": [
              "\"import sys\\nsys.path.append('/usr/local/miniconda3/lib/python3.7/site-packages/')\\n\\n# Create environment with QIIME2-2020.8 (stable version known to work with PICRUSt2)\\n!conda create -n qiime2-2020.8 python=3.7 -y\\n!conda activate qiime2-2020.8\\n\\n# Install QIIME2\\n!wget https://data.qiime2.org/distro/core/qiime2-2020.8-py36-linux-conda.yml\\n!conda env update -n qiime2-2020.8 --file qiime2-2020.8-py36-linux-conda.yml\\n\\n# Install PICRUSt2 and its dependencies\\n!conda install -c bioconda -c conda-forge picrust2=2.4.1 -y\""
            ]
          },
          "execution_count": 7,
          "metadata": {},
          "output_type": "execute_result"
        }
      ],
      "source": [
        "'''import sys\n",
        "sys.path.append('/usr/local/miniconda3/lib/python3.7/site-packages/')\n",
        "\n",
        "# Create environment with QIIME2-2020.8 (stable version known to work with PICRUSt2)\n",
        "!conda create -n qiime2-2020.8 python=3.7 -y\n",
        "!conda activate qiime2-2020.8\n",
        "\n",
        "# Install QIIME2\n",
        "!wget https://data.qiime2.org/distro/core/qiime2-2020.8-py36-linux-conda.yml\n",
        "!conda env update -n qiime2-2020.8 --file qiime2-2020.8-py36-linux-conda.yml\n",
        "\n",
        "# Install PICRUSt2 and its dependencies\n",
        "!conda install -c bioconda -c conda-forge picrust2=2.4.1 -y'''"
      ]
    },
    {
      "cell_type": "code",
      "execution_count": 8,
      "metadata": {
        "colab": {
          "base_uri": "https://localhost:8080/",
          "height": 1000
        },
        "id": "GwAeLYHhbKaa",
        "outputId": "bb0c912b-9055-4708-a34f-6578f2fc0d83"
      },
      "outputs": [
        {
          "data": {
            "text/plain": [
              "'# Verify installations\\n!conda list | grep qiime2\\n!conda list | grep picrust2\\n\\n# Function to check if the installations were successful\\ndef check_installations():\\n    try:\\n        import qiime2\\n        print(\"QIIME2 installation successful\")\\n        print(f\"QIIME2 version: {qiime2.__version__}\")\\n    except ImportError:\\n        print(\"QIIME2 installation failed\")\\n\\n    try:\\n        !which picrust2_pipeline.py\\n        print(\"PICRUSt2 installation successful\")\\n    except:\\n        print(\"PICRUSt2 installation failed\")\\n\\ncheck_installations()'"
            ]
          },
          "execution_count": 8,
          "metadata": {},
          "output_type": "execute_result"
        }
      ],
      "source": [
        "\n",
        "\n",
        "'''# Verify installations\n",
        "!conda list | grep qiime2\n",
        "!conda list | grep picrust2\n",
        "\n",
        "# Function to check if the installations were successful\n",
        "def check_installations():\n",
        "    try:\n",
        "        import qiime2\n",
        "        print(\"QIIME2 installation successful\")\n",
        "        print(f\"QIIME2 version: {qiime2.__version__}\")\n",
        "    except ImportError:\n",
        "        print(\"QIIME2 installation failed\")\n",
        "\n",
        "    try:\n",
        "        !which picrust2_pipeline.py\n",
        "        print(\"PICRUSt2 installation successful\")\n",
        "    except:\n",
        "        print(\"PICRUSt2 installation failed\")\n",
        "\n",
        "check_installations()'''\n"
      ]
    },
    {
      "cell_type": "code",
      "execution_count": 9,
      "metadata": {},
      "outputs": [
        {
          "name": "stdout",
          "output_type": "stream",
          "text": [
            "# packages in environment at /home/beatriz/miniconda3/envs/picrust2_new:\n",
            "#\n",
            "# Name                    Version                   Build  Channel\n",
            "\n",
            "Note: you may need to restart the kernel to use updated packages.\n"
          ]
        }
      ],
      "source": [
        "conda list dendropy"
      ]
    },
    {
      "cell_type": "code",
      "execution_count": 10,
      "metadata": {},
      "outputs": [
        {
          "data": {
            "text/plain": [
              "'!wget http://kronos.pharmacology.dal.ca/public_files/picrust/picrust2_tutorial_files/mammal_biom.qza\\n!wget http://kronos.pharmacology.dal.ca/public_files/picrust/picrust2_tutorial_files/mammal_seqs.qza'"
            ]
          },
          "execution_count": 10,
          "metadata": {},
          "output_type": "execute_result"
        }
      ],
      "source": [
        "# Download test data\n",
        "'''!wget http://kronos.pharmacology.dal.ca/public_files/picrust/picrust2_tutorial_files/mammal_biom.qza\n",
        "!wget http://kronos.pharmacology.dal.ca/public_files/picrust/picrust2_tutorial_files/mammal_seqs.qza'''"
      ]
    },
    {
      "cell_type": "code",
      "execution_count": 11,
      "metadata": {
        "colab": {
          "base_uri": "https://localhost:8080/"
        },
        "id": "iv6OFDj1U1J9",
        "outputId": "339038b8-6579-4f19-8559-805d36de0e25"
      },
      "outputs": [
        {
          "data": {
            "text/plain": [
              "'#Example\\n# Run PICRUSt2 through QIIME2\\nqiime picrust2 full-pipeline     --i-table mammal_biom.qza     --i-seq mammal_seqs.qza     --output-dir q2-picrust2_output     --p-placement-tool sepp     --p-threads 1     --p-hsp-method pic     --p-max-nsti 2     --verbose\\n\\n# Function to analyze the output\\ndef check_output():\\n    import os\\n    output_files = os.listdir(\\'q2-picrust2_output\\')\\n    print(\"Generated output files:\")\\n    for file in output_files:\\n        print(f\"- {file}\")\\n\\ncheck_output()\\n\\nInstructions for using this notebook:\\n\\n1. Create a new Colab notebook\\n2. Copy this entire code into the notebook\\n3. Run the cells in order\\n4. The installation may take 5-10 minutes\\n5. After installation, you can use QIIME2 and PICRUSt2 commands\\n\\nCommon troubleshooting:\\n- If you get memory errors, try restarting the runtime\\n- Make sure to run cells in order\\n- Check that all installations completed successfully\\n- If you get path errors, make sure conda environment is activated\\n\\nTo use your own data:\\n1. Upload your feature table (.qza format)\\n2. Upload your sequence file (.qza format)\\n3. Modify the PICRUSt2 command with your file names'"
            ]
          },
          "execution_count": 11,
          "metadata": {},
          "output_type": "execute_result"
        }
      ],
      "source": [
        "'''#Example\n",
        "# Run PICRUSt2 through QIIME2\n",
        "qiime picrust2 full-pipeline \\\n",
        "    --i-table mammal_biom.qza \\\n",
        "    --i-seq mammal_seqs.qza \\\n",
        "    --output-dir q2-picrust2_output \\\n",
        "    --p-placement-tool sepp \\\n",
        "    --p-threads 1 \\\n",
        "    --p-hsp-method pic \\\n",
        "    --p-max-nsti 2 \\\n",
        "    --verbose\n",
        "\n",
        "# Function to analyze the output\n",
        "def check_output():\n",
        "    import os\n",
        "    output_files = os.listdir('q2-picrust2_output')\n",
        "    print(\"Generated output files:\")\n",
        "    for file in output_files:\n",
        "        print(f\"- {file}\")\n",
        "\n",
        "check_output()\n",
        "\n",
        "Instructions for using this notebook:\n",
        "\n",
        "1. Create a new Colab notebook\n",
        "2. Copy this entire code into the notebook\n",
        "3. Run the cells in order\n",
        "4. The installation may take 5-10 minutes\n",
        "5. After installation, you can use QIIME2 and PICRUSt2 commands\n",
        "\n",
        "Common troubleshooting:\n",
        "- If you get memory errors, try restarting the runtime\n",
        "- Make sure to run cells in order\n",
        "- Check that all installations completed successfully\n",
        "- If you get path errors, make sure conda environment is activated\n",
        "\n",
        "To use your own data:\n",
        "1. Upload your feature table (.qza format)\n",
        "2. Upload your sequence file (.qza format)\n",
        "3. Modify the PICRUSt2 command with your file names'''"
      ]
    },
    {
      "cell_type": "markdown",
      "metadata": {
        "id": "Fm8oknVuDWTL"
      },
      "source": []
    },
    {
      "cell_type": "code",
      "execution_count": 12,
      "metadata": {
        "colab": {
          "base_uri": "https://localhost:8080/",
          "height": 204
        },
        "id": "qYcLDQCGK7Yd",
        "outputId": "b8147437-4b51-4355-d378-dfc7f446435f"
      },
      "outputs": [
        {
          "data": {
            "text/plain": [
              "\"from google.colab import drive\\ndrive.mount('/content/drive')\\n\\n#change the path\\nos.chdir('/content/drive/My Drive/MIC/picrust')\""
            ]
          },
          "execution_count": 12,
          "metadata": {},
          "output_type": "execute_result"
        }
      ],
      "source": [
        "'''from google.colab import drive\n",
        "drive.mount('/content/drive')\n",
        "\n",
        "#change the path\n",
        "os.chdir('/content/drive/My Drive/MIC/picrust')'''"
      ]
    },
    {
      "cell_type": "code",
      "execution_count": 13,
      "metadata": {
        "colab": {
          "base_uri": "https://localhost:8080/",
          "height": 368
        },
        "id": "XPLgSV7iWTk9",
        "outputId": "018f4b4a-c513-42d2-d10c-05cb3cef8865"
      },
      "outputs": [
        {
          "data": {
            "text/plain": [
              "'# Imports for colab\\nimport condacolab'"
            ]
          },
          "execution_count": 13,
          "metadata": {},
          "output_type": "execute_result"
        }
      ],
      "source": [
        "'''# Imports for colab\n",
        "import condacolab'''"
      ]
    },
    {
      "cell_type": "code",
      "execution_count": 1,
      "metadata": {
        "colab": {
          "base_uri": "https://localhost:8080/",
          "height": 405
        },
        "id": "l92DnCZ3CqSD",
        "outputId": "f06a6ae0-ba43-4924-bfff-eafa8d6008ed"
      },
      "outputs": [],
      "source": [
        "# Standard library imports\n",
        "import os\n",
        "import ast\n",
        "import subprocess\n",
        "import logging\n",
        "import shutil\n",
        "from io import StringIO\n",
        "from pathlib import Path\n",
        "from Bio import SeqIO\n",
        "from Bio.Seq import Seq\n",
        "from Bio.SeqRecord import SeqRecord\n",
        "\n",
        "# Data processing imports\n",
        "import pandas as pd\n",
        "import numpy as np\n",
        "import openpyxl\n",
        "import matplotlib.pyplot as plt\n",
        "\n",
        "# BIOM handling\n",
        "from biom import Table\n",
        "from biom.util import biom_open\n",
        "from biom import load_table"
      ]
    },
    {
      "cell_type": "code",
      "execution_count": 10,
      "metadata": {
        "id": "Jhg73Rb9CqSF"
      },
      "outputs": [],
      "source": [
        "# Set up logging\n",
        "logging.basicConfig(\n",
        "    level=logging.INFO,\n",
        "    format='%(asctime)s - %(levelname)s - %(message)s'\n",
        ")\n",
        "\n",
        "# Directory Structure Definitions\n",
        "SIMPLE_BASE = {\n",
        "    'known': 'simple_known_mic',\n",
        "    'other': 'simple_candidate_mic'\n",
        "}\n",
        "\n",
        "DETAILED_BASE = {\n",
        "    'known': 'detailed_known_mic',\n",
        "    'pure_checked': 'detailed_pure_checked_mic',\n",
        "    'pure_core': 'detailed_pure_core_mic',\n",
        "    'checked_core': 'detailed_checked_core_mic'\n",
        "}\n",
        "\n",
        "SUBDIRS = [\n",
        "    'EC_predictions',\n",
        "    'pathway_predictions',\n",
        "    'KO_predictions',\n",
        "    'other_picrust_files'\n",
        "]\n",
        "\n",
        "# Base Paths\n",
        "base_dir = Path(\"/home/beatriz/MIC/2_Micro/data_picrust\")\n",
        "# Create output directory if it doesn't exist\n",
        "base_dir.mkdir(parents=True, exist_ok=True)\n",
        "abundance_excel= Path(\"/home/beatriz/MIC/2_Micro/data_Ref/merged_to_sequence.xlsx\")\n",
        "\n",
        "fasta_file = Path(\"/home/beatriz/MIC/2_Micro/data_picrust/sequences_for_picrust.fasta\")\n",
        "biom_table = Path(\"/home/beatriz/MIC/2_Micro/data_picrust/abundance_otus_85.biom\")\n",
        "results_file = base_dir / \"functional_comparison.xlsx\"\n",
        "output_dir = base_dir / \"picrust2_out\"  # Separate output directory"
      ]
    },
    {
      "cell_type": "markdown",
      "metadata": {
        "id": "COW1kGFZCqSG"
      },
      "source": [
        "The fasta file was created on Notebook 5_sequences_qiime using an alternative approach with the greenes database, the biom_table also was created previously. "
      ]
    },
    {
      "cell_type": "code",
      "execution_count": 17,
      "metadata": {},
      "outputs": [],
      "source": [
        "# Integrated taxa from origin genus as headers with levels 6 for the genera, 7 for the GID, muss be cleaned\n",
        "Integrated_T = pd.read_excel(abundance_excel, sheet_name='core_check_usual_taxa', header=[0,1,2,3,4,5,6,7], engine ='openpyxl')\n",
        "# Drop first row (index 0) and first column in one chain\n",
        "Integrated_T = Integrated_T.drop(index=0).drop(Integrated_T.columns[0], axis=1)\n",
        "# Remove 'Unnamed' level names\n",
        "Integrated_T.columns = Integrated_T.columns.map(lambda x: tuple('' if 'Unnamed' in str(level) else level for level in x))\n",
        "# If the dataframe has Nan in sites it will replace it with Source\n",
        "Integrated_T['Sites'] = Integrated_T['Sites'].fillna('Source')\n",
        "# Fill the other index with nothing\n",
        "Integrated_T =  Integrated_T.fillna(' ')\n",
        "Integrated_T= Integrated_T.set_index(\"Sites\")\n",
        "# sources are  array([' ', 'chk-core', 'chk', 'chk-core-us', 'chk-us', 'core-us', 'core', 'us'], dtype=object)"
      ]
    },
    {
      "cell_type": "code",
      "execution_count": 2,
      "metadata": {},
      "outputs": [],
      "source": [
        "biom_table = load_table(\"/home/beatriz/MIC/2_Micro/data_picrust/abundance_otus_85.biom\")"
      ]
    },
    {
      "cell_type": "code",
      "execution_count": 11,
      "metadata": {},
      "outputs": [
        {
          "data": {
            "text/plain": [
              "85"
            ]
          },
          "execution_count": 11,
          "metadata": {},
          "output_type": "execute_result"
        }
      ],
      "source": [
        "from Bio import SeqIO\n",
        "from Bio.SeqRecord import SeqRecord\n",
        "\n",
        "# Read and modify sequences\n",
        "new_records = []\n",
        "for record in SeqIO.parse(\"/home/beatriz/MIC/2_Micro/data_qiime/results_match_gg/final_sequences_gg.fasta\", \"fasta\"):\n",
        "    # Get just the OTU number and ignore genus name\n",
        "    otu_id = record.description.split()[1]  # Takes second element (the OTU number)\n",
        "    \n",
        "    # Create new record with only OTU as ID\n",
        "    new_record = SeqRecord(\n",
        "        record.seq,\n",
        "        id=otu_id,\n",
        "        description=\"\"  # Empty description to keep only ID\n",
        "    )\n",
        "    new_records.append(new_record)\n",
        "\n",
        "# Write modified FASTA\n",
        "SeqIO.write(new_records, \"/home/beatriz/MIC/2_Micro/data_picrust/sequences_for_picrust.fasta\", \"fasta\")"
      ]
    },
    {
      "cell_type": "code",
      "execution_count": 13,
      "metadata": {},
      "outputs": [],
      "source": [
        "def run_picrust2_pipeline():\n",
        "    \"\"\"Run the main PICRUSt2 pipeline\"\"\"\n",
        "    if output_dir.exists():\n",
        "        shutil.rmtree(output_dir)\n",
        "        logging.info(f\"Removed existing directory: {output_dir}\")\n",
        "    \n",
        "    # Modified command with correct parameters\n",
        "    cmd = [\n",
        "        'picrust2_pipeline.py',\n",
        "        '-s', str(fasta_file),\n",
        "        '-i', str(biom_table),\n",
        "        '-o', str(output_dir),\n",
        "        '--threads', '1',  # Changed from --processes\n",
        "        '-a', 'hmmalign',  # Specify alignment method\n",
        "        '-m', 'mp',        # Use maximum parsimony method\n",
        "        '--verbose'\n",
        "    ]\n",
        "    \n",
        "    try:\n",
        "        logging.info(\"Starting PICRUSt2 pipeline...\")\n",
        "        subprocess.run(cmd, check=True)\n",
        "        logging.info(\"PICRUSt2 pipeline completed successfully\")\n",
        "        return True\n",
        "    except subprocess.CalledProcessError as e:\n",
        "        logging.error(f\"Error running PICRUSt2: {e}\")\n",
        "        return False"
      ]
    },
    {
      "cell_type": "code",
      "execution_count": 14,
      "metadata": {},
      "outputs": [
        {
          "name": "stderr",
          "output_type": "stream",
          "text": [
            "2025-01-28 08:45:23,793 - INFO - Removed existing directory: /home/beatriz/MIC/2_Micro/data_picrust/picrust2_out\n",
            "2025-01-28 08:45:23,812 - INFO - Starting PICRUSt2 pipeline...\n",
            "2025-01-28 08:45:27,764 - ERROR - Error running PICRUSt2: Command '['picrust2_pipeline.py', '-s', '/home/beatriz/MIC/2_Micro/data_picrust/sequences_for_picrust.fasta', '-i', '/home/beatriz/MIC/2_Micro/data_picrust/abundance_otus_85.biom', '-o', '/home/beatriz/MIC/2_Micro/data_picrust/picrust2_out', '--threads', '1', '-a', 'hmmalign', '-m', 'mp', '--verbose']' returned non-zero exit status 1.\n"
          ]
        }
      ],
      "source": [
        "test =run_picrust2_pipeline()"
      ]
    },
    {
      "cell_type": "code",
      "execution_count": 24,
      "metadata": {},
      "outputs": [
        {
          "name": "stderr",
          "output_type": "stream",
          "text": [
            "2025-01-27 21:56:33,452 - INFO - Directory structure created successfully\n",
            "2025-01-27 21:56:33,579 - INFO - All input files found\n",
            "2025-01-27 21:56:33,596 - INFO - Removed existing directory: /home/beatriz/MIC/2_Micro/data_picrust/picrust2_out\n",
            "2025-01-27 21:56:33,597 - INFO - Starting PICRUSt2 pipeline...\n",
            "2025-01-27 21:56:35,383 - ERROR - Error running PICRUSt2: Command '['picrust2_pipeline.py', '-s', '/home/beatriz/MIC/2_Micro/data_picrust/sequences_for_picrust.fasta', '-i', '/home/beatriz/MIC/2_Micro/data_picrust/abundance_otus_85.biom', '-o', '/home/beatriz/MIC/2_Micro/data_picrust/picrust2_out', '--threads', '1', '--verbose']' returned non-zero exit status 1.\n"
          ]
        }
      ],
      "source": [
        "import logging\n",
        "import subprocess\n",
        "import shutil\n",
        "from pathlib import Path\n",
        "\n",
        "# Set up logging\n",
        "logging.basicConfig(level=logging.INFO,\n",
        "                   format='%(asctime)s - %(levelname)s - %(message)s')\n",
        "\n",
        "# Directory Structure Definitions\n",
        "SIMPLE_BASE = {\n",
        "    'known': 'simple_known_mic',\n",
        "    'other': 'simple_candidate_mic'\n",
        "}\n",
        "\n",
        "DETAILED_BASE = {\n",
        "    'known': 'detailed_known_mic',\n",
        "    'pure_checked': 'detailed_pure_checked_mic',\n",
        "    'pure_core': 'detailed_pure_core_mic',\n",
        "    'checked_core': 'detailed_checked_core_mic'\n",
        "}\n",
        "\n",
        "SUBDIRS = [\n",
        "    'EC_predictions',\n",
        "    'pathway_predictions', \n",
        "    'KO_predictions',\n",
        "    'other_picrust_files'\n",
        "]\n",
        "\n",
        "# Base Paths\n",
        "base_dir = Path(\"/home/beatriz/MIC/2_Micro/data_picrust\")\n",
        "fasta_file = Path(\"/home/beatriz/MIC/2_Micro/data_picrust/sequences_for_picrust.fasta\")\n",
        "biom_table = Path(\"/home/beatriz/MIC/2_Micro/data_picrust/abundance_otus_85.biom\")\n",
        "results_file = base_dir / \"functional_comparison.xlsx\"\n",
        "output_dir = base_dir / \"picrust2_out\"  # Separate output directory\n",
        "\n",
        "def create_directory_structure():\n",
        "    \"\"\"Create the basic directory structure for PICRUSt2 analysis\"\"\"\n",
        "    try:\n",
        "        # Create base directory\n",
        "        base_dir.mkdir(parents=True, exist_ok=True)\n",
        "        \n",
        "        # Create simple classification directories\n",
        "        for dir_name in SIMPLE_BASE.values():\n",
        "            for subdir in SUBDIRS:\n",
        "                (base_dir / dir_name / subdir).mkdir(parents=True, exist_ok=True)\n",
        "                \n",
        "        logging.info(\"Directory structure created successfully\")\n",
        "        return True\n",
        "        \n",
        "    except Exception as e:\n",
        "        logging.error(f\"Error creating directory structure: {str(e)}\")\n",
        "        return False\n",
        "\n",
        "def verify_input_files():\n",
        "    \"\"\"Verify that input files exist and are readable\"\"\"\n",
        "    missing_files = []\n",
        "    \n",
        "    if not fasta_file.exists():\n",
        "        missing_files.append(str(fasta_file))\n",
        "    if not biom_table.exists():\n",
        "        missing_files.append(str(biom_table))\n",
        "        \n",
        "    if missing_files:\n",
        "        logging.error(f\"Missing input files: {', '.join(missing_files)}\")\n",
        "        return False\n",
        "    \n",
        "    logging.info(\"All input files found\")\n",
        "    return True\n",
        "\n",
        "def run_picrust2_pipeline():\n",
        "    \"\"\"Run the main PICRUSt2 pipeline\"\"\"\n",
        "    # Remove only picrust2_out directory if it exists\n",
        "    if output_dir.exists():\n",
        "        shutil.rmtree(output_dir)\n",
        "        logging.info(f\"Removed existing directory: {output_dir}\")\n",
        "    \n",
        "    cmd = [\n",
        "        'picrust2_pipeline.py',\n",
        "        '-s', str(fasta_file),\n",
        "        '-i', str(biom_table),\n",
        "        '-o', str(output_dir),\n",
        "        '--threads', '1',\n",
        "        '--verbose'\n",
        "    ]\n",
        "    \n",
        "    try:\n",
        "        logging.info(\"Starting PICRUSt2 pipeline...\")\n",
        "        subprocess.run(cmd, check=True)\n",
        "        logging.info(\"PICRUSt2 pipeline completed successfully\")\n",
        "        return True\n",
        "    except subprocess.CalledProcessError as e:\n",
        "        logging.error(f\"Error running PICRUSt2: {e}\")\n",
        "        return False\n",
        "\n",
        "# Main execution\n",
        "if __name__ == \"__main__\":\n",
        "    if create_directory_structure() and verify_input_files():\n",
        "        run_picrust2_pipeline()\n",
        "    else:\n",
        "        logging.error(\"Setup failed. Please check the errors above.\")"
      ]
    },
    {
      "cell_type": "markdown",
      "metadata": {},
      "source": [
        "I have now download your adviced package and running the pipeline gives this error "
      ]
    },
    {
      "cell_type": "markdown",
      "metadata": {},
      "source": []
    },
    {
      "cell_type": "code",
      "execution_count": 22,
      "metadata": {
        "id": "MWukq8fUCqSH"
      },
      "outputs": [
        {
          "ename": "NameError",
          "evalue": "name 'pre_Integrated' is not defined",
          "output_type": "error",
          "traceback": [
            "\u001b[0;31m---------------------------------------------------------------------------\u001b[0m",
            "\u001b[0;31mNameError\u001b[0m                                 Traceback (most recent call last)",
            "Cell \u001b[0;32mIn[22], line 90\u001b[0m\n\u001b[1;32m     87\u001b[0m     \u001b[38;5;28;01mreturn\u001b[39;00m taxa_groups\n\u001b[1;32m     89\u001b[0m \u001b[38;5;66;03m# Usage example:\u001b[39;00m\n\u001b[0;32m---> 90\u001b[0m Integrated \u001b[38;5;241m=\u001b[39m process_integrated_data(\u001b[43mpre_Integrated\u001b[49m)\n\u001b[1;32m     92\u001b[0m \u001b[38;5;66;03m# Get the groups\u001b[39;00m\n\u001b[1;32m     93\u001b[0m taxa_groups \u001b[38;5;241m=\u001b[39m get_taxa_groups(Integrated)\n",
            "\u001b[0;31mNameError\u001b[0m: name 'pre_Integrated' is not defined"
          ]
        }
      ],
      "source": [
        "def process_integrated_data(df):\n",
        "    \"\"\"\n",
        "    Process the integrated DataFrame to create a new DataFrame with clear column names\n",
        "    and preserve all values including source information.\n",
        "\n",
        "    Parameters:\n",
        "    df (pandas.DataFrame): Input DataFrame with MultiIndex index and site columns\n",
        "\n",
        "    Returns:\n",
        "    pandas.DataFrame: Processed DataFrame with clear structure\n",
        "    \"\"\"\n",
        "\n",
        "    # Extract genera and GIDs from the index MultiIndex\n",
        "    genera = df.index.get_level_values(6)[1:]  # Skip first row\n",
        "    gids = pd.to_numeric(df.index.get_level_values(7)[1:], errors='coerce')\n",
        "\n",
        "    # Create a new DataFrame with the extracted information\n",
        "    result_df = pd.DataFrame({\n",
        "        'Genus': genera,\n",
        "        'GID': gids\n",
        "    })\n",
        "\n",
        "    # Add the site values from the original DataFrame\n",
        "    for col in df.columns:\n",
        "        result_df[col] = df.iloc[1:][col].values\n",
        "\n",
        "    # Clean up the DataFrame\n",
        "    result_df['GID'] = pd.to_numeric(result_df['GID'], errors='coerce')\n",
        "    result_df = result_df.dropna(subset=['GID'])\n",
        "    result_df['GID'] = result_df['GID'].astype(int)\n",
        "\n",
        "    return result_df\n",
        "\n",
        "def get_taxa_groups(df):\n",
        "    \"\"\"\n",
        "    Separate the processed DataFrame into different taxa groups based on Source column\n",
        "\n",
        "    Parameters:\n",
        "    df (pandas.DataFrame): Processed DataFrame from process_integrated_data()\n",
        "\n",
        "    Returns:\n",
        "    dict: Dictionary containing DataFrames for different taxa groups\n",
        "    \"\"\"\n",
        "    # Split the data into groups based on 'Source' column patterns\n",
        "\n",
        "    # Known corrosion bacteria (any pattern with 'us')\n",
        "    known_bacteria = df[df['Source'].str.contains('us', case=False, na=False)]\n",
        "\n",
        "    # Pure checked bacteria (only 'chk' without 'core' or 'us')\n",
        "    pure_checked = df[\n",
        "        df['Source'].str.contains('chk', case=False, na=False) &\n",
        "        ~df['Source'].str.contains('core|us', case=False, na=False)\n",
        "    ]\n",
        "\n",
        "    # Pure core bacteria (only 'core' without 'chk' or 'us')\n",
        "    pure_core = df[\n",
        "        df['Source'].str.contains('core', case=False, na=False) &\n",
        "        ~df['Source'].str.contains('chk|us', case=False, na=False)\n",
        "    ]\n",
        "\n",
        "    # Checked-core bacteria (contains both 'core' and 'chk' but no 'us')\n",
        "    checked_core = df[\n",
        "        df['Source'].str.contains('chk.*core|core.*chk', case=False, na=False) &\n",
        "        ~df['Source'].str.contains('us', case=False, na=False)\n",
        "    ]\n",
        "\n",
        "    # Create groups dictionary\n",
        "    taxa_groups = {\n",
        "        'known_bacteria': known_bacteria,\n",
        "        'pure_checked': pure_checked,\n",
        "        'pure_core': pure_core,\n",
        "        'checked_core': checked_core\n",
        "    }\n",
        "\n",
        "    # Print summary statistics\n",
        "    print(\"\\nDetailed Classification Results:\")\n",
        "    print(f\"Known corrosion bacteria: {len(known_bacteria)}\")\n",
        "    print(f\"Pure checked bacteria: {len(pure_checked)}\")\n",
        "    print(f\"Pure core bacteria: {len(pure_core)}\")\n",
        "    print(f\"Checked-core bacteria: {len(checked_core)}\")\n",
        "\n",
        "    # Verify total matches expected\n",
        "    total_classified = len(known_bacteria) + len(pure_checked) + len(pure_core) + len(checked_core)\n",
        "    print(f\"\\nTotal classified taxa: {total_classified}\")\n",
        "    print(f\"Total in dataset: {len(df)}\")\n",
        "\n",
        "    return taxa_groups\n",
        "\n",
        "# Usage example:\n",
        "Integrated = process_integrated_data(pre_Integrated)\n",
        "\n",
        "# Get the groups\n",
        "taxa_groups = get_taxa_groups(Integrated)\n",
        "\n",
        "# Access individual groups -\n",
        "known_bacteria = taxa_groups['known_bacteria']\n",
        "pure_core = taxa_groups['pure_core']\n",
        "pure_checked = taxa_groups['pure_checked']\n",
        "checked_core = taxa_groups['checked_core']"
      ]
    },
    {
      "cell_type": "markdown",
      "metadata": {
        "id": "Zv-yUkfmCqSN"
      },
      "source": [
        "## 2.6. Classifying Bacteria by their Source DataFrame\n",
        "Two distinct classification approaches are implemented to categorize bacteria. The simple approach (get_bacteria_sources_simple) divides bacteria into known corrosion-causers (usual_taxa) and candidates (all others). The detailed approach (get_bacteria_sources_detailed) provides finer categorization by separating bacteria into known corrosion-causers, pure checked taxa, pure core taxa, and those present in both checked and core datasets. Please notice that this function uses df Integrated for source clasification and no abundance.biom which will be used for the picrust2 pipeline."
      ]
    },
    {
      "cell_type": "code",
      "execution_count": null,
      "metadata": {
        "id": "5bDVrPwWCqSR"
      },
      "outputs": [],
      "source": [
        "def get_bacteria_sources_simple(Integrated_df):\n",
        "    \"\"\"\n",
        "    Simple classification:\n",
        "    1. Known (anything with 'us')\n",
        "    2. All others (combined chk, core, chk-core)\n",
        "    \"\"\"\n",
        "    # Get genera and gids from column levels 6 and 7\n",
        "    genera = Integrated_df[\"Genus\"]\n",
        "    gids = Integrated_df[\"GID\"]\n",
        "    # Look for Source in the data, not index\n",
        "    sources = Integrated_df['Source'] if 'Source' in Integrated_df.columns else None\n",
        "\n",
        "    known_bacteria = {}     # usual_taxa\n",
        "    other_bacteria = {}     # everything else\n",
        "\n",
        "    sources_found = set()\n",
        "    source ={}\n",
        "    patterns = ['us', 'core-us', 'chk-us', 'chk-core-us']\n",
        "\n",
        "    for i, (genus, gid) in enumerate (zip(genera, gids)):\n",
        "        if source is not None:  # Check if source exists for this genus\n",
        "            source = str(sources.iloc[i]).strip().lower()\n",
        "            sources_found.add(source)\n",
        "\n",
        "            if source in patterns:\n",
        "                known_bacteria[genus] = int(gid) if str(gid).isdigit() else gid\n",
        "            else:\n",
        "                other_bacteria[genus] = int(gid) if str(gid).isdigit() else gid\n",
        "\n",
        "    print(\"\\nSimple Classification Results:\")\n",
        "    print(f\"Known corrosion bacteria: {len(known_bacteria)}\")\n",
        "    print(f\"Other bacteria: {len(other_bacteria)}\")\n",
        "    print(\"\\nSources found:\", sources_found)\n",
        "\n",
        "    return {\n",
        "        'known_bacteria': known_bacteria,\n",
        "        'other_bacteria': other_bacteria\n",
        "    }\n",
        "\n",
        "def get_bacteria_sources_detailed(Integrated_df):\n",
        "    \"\"\"\n",
        "    Detailed classification with all possible combinations:\n",
        "    1. Known (usual_taxa)\n",
        "    2. Pure checked (only 'chk')\n",
        "    3. Pure core (only 'core')\n",
        "    4. Checked-core (overlap 'chk-core')\n",
        "    \"\"\"\n",
        "    # Get genera and gids from column levels 6 and 7\n",
        "    genera = Integrated_df.index.get_level_values(6)[1:]\n",
        "    gids = Integrated_df.index.get_level_values(7)[1:]\n",
        "\n",
        "    sources = Integrated_df['Source'] if 'Source' in Integrated_df.columns else None\n",
        "\n",
        "    known_bacteria = {}      # usual_taxa\n",
        "    pure_checked = {}        # only 'chk' checked_taxa\n",
        "    pure_core = {}          # only 'core' core_taxa\n",
        "    checked_core = {}       # 'chk-core' checked and core taxa\n",
        "    source ={}\n",
        "    sources_found = set()\n",
        "    patterns = ['us', 'core-us', 'chk-us', 'chk-core-us']\n",
        "\n",
        "    for i, (genus, gid) in enumerate (zip(genera, gids)):\n",
        "        if source is not None:  # Check if source exists for this genus\n",
        "            source = str(sources.iloc[i]).strip().lower()\n",
        "            sources_found.add(source)\n",
        "\n",
        "            if source in patterns:\n",
        "                known_bacteria[genus] = int(gid) if str(gid).isdigit() else gid\n",
        "                continue\n",
        "\n",
        "            # Then handle other combinations\n",
        "            if source == 'chk':\n",
        "                pure_checked[genus] = gid\n",
        "            elif source == 'core':\n",
        "                pure_core[genus] = gid\n",
        "            elif 'chk-core' in source:\n",
        "                checked_core[genus] = gid\n",
        "\n",
        "    print(\"\\nDetailed Classification Results:\")\n",
        "    print(f\"Known corrosion bacteria: {len(known_bacteria)}\")\n",
        "    print(f\"Pure checked bacteria: {len(pure_checked)}\")\n",
        "    print(f\"Pure core bacteria: {len(pure_core)}\")\n",
        "    print(f\"Checked-core bacteria: {len(checked_core)}\")\n",
        "    print(\"\\nSources found:\", sources_found)\n",
        "\n",
        "    return {\n",
        "        'known_bacteria': known_bacteria,\n",
        "        'pure_checked': pure_checked,\n",
        "        'pure_core': pure_core,\n",
        "        'checked_core': checked_core\n",
        "    }"
      ]
    },
    {
      "cell_type": "markdown",
      "metadata": {
        "id": "23P2k1QwCqSR"
      },
      "source": [
        "## 2.7. Prepare picrust data and Creating Directories for PICRUSt2 Input\n",
        "The check_missing_genera function processes the integrated data and handles data quality control. Known problematic genera (e.g., 'Clostridium_sensu_stricto_12', 'Oxalobacteraceae_unclassified') are flagged for exclusion to prevent analysis errors. The function also creates an organized directory structure as outlined in the introduction, with separate paths for different bacterial classifications (known_mic, candidate_mic, etc.) and their respective analysis outputs (EC_predictions, pathway_predictions, KO_predictions). Following function prepares the data for picrust analysis but both dataframes the abundance.biom and Integrated have some bacteria that were no sequenciated mostly cause are no known specimens. So it is necesary to do same procedure to both dfs."
      ]
    },
    {
      "cell_type": "code",
      "execution_count": null,
      "metadata": {
        "id": "bNfnbXfKCqSS"
      },
      "outputs": [],
      "source": [
        "def prepare_picrust_data(Integrated_df, aligned_file, function_type='simple'):\n",
        "    \"\"\"\n",
        "    Prepare data for PICRUSt analysis with choice of  function_type method\n",
        "\n",
        "    Args:\n",
        "        Integrated_df: Input DataFrame\n",
        "        aligned_file: Path to aligned sequences\n",
        "        function_type: 'simple' or 'detailed'\n",
        "    \"\"\"\n",
        "    # Get bacteria source_groups based on chosen  function_type\n",
        "    if  function_type == 'simple':\n",
        "        source_groups = get_bacteria_sources_simple(Integrated_df)\n",
        "    else:\n",
        "        source_groups= get_bacteria_sources_detailed(Integrated_df)\n",
        "\n",
        "    # Create appropriate directory structure\n",
        "    create_directory_structure(function_type)\n",
        "\n",
        "    return source_groups\n",
        "\n",
        "def create_directory_structure(function_type='simple'):\n",
        "    \"\"\"Create directory structure for PICRUSt analysis\"\"\"\n",
        "    base_dir = Path(\"/home/beatriz/MIC/2_Micro/data_picrust\")\n",
        "    base_dir.mkdir(parents=True, exist_ok=True)\n",
        "\n",
        "    if function_type == 'simple':\n",
        "        directories = SIMPLE_BASE\n",
        "    else:\n",
        "        directories = DETAILED_BASE\n",
        "\n",
        "    # Create all required directories\n",
        "    for dir_name in directories.values():\n",
        "        for subdir in SUBDIRS:\n",
        "            (base_dir / dir_name / subdir).mkdir(parents=True, exist_ok=True)\n",
        "    logging.info(\"Directory structure created successfully\")\n",
        "    return True\n",
        "\n",
        "except Exception as e:\n",
        "    logging.error(f\"Error creating directory structure: {str(e)}\")\n",
        "    return False"
      ]
    },
    {
      "cell_type": "code",
      "execution_count": null,
      "metadata": {},
      "outputs": [],
      "source": [
        "Verify that the files are correct"
      ]
    },
    {
      "cell_type": "code",
      "execution_count": null,
      "metadata": {},
      "outputs": [],
      "source": [
        "def verify_input_files():\n",
        "    \"\"\"Verify that input files exist and are readable\"\"\"\n",
        "    missing_files = []\n",
        "    \n",
        "    if not fasta_file.exists():\n",
        "        missing_files.append(str(fasta_file))\n",
        "    if not biom_table.exists():\n",
        "        missing_files.append(str(biom_table))\n",
        "        \n",
        "    if missing_files:\n",
        "        logging.error(f\"Missing input files: {', '.join(missing_files)}\")\n",
        "        return False\n",
        "    \n",
        "    logging.info(\"All input files found\")\n",
        "    return True"
      ]
    },
    {
      "cell_type": "markdown",
      "metadata": {
        "id": "RUwADMKZCqSS"
      },
      "source": [
        "# 3. PICRUSt Pipeline Definition\n",
        "The pipeline processes the aligned sequence data from notebook 5 that has or not undergo cleaning of the sequences as previously done on section 2. Also processes the biom_table in order to account on this anylsis on abundance. It queries the PICRUSt database to predict potential metabolic pathways for each genus. This prediction is based on evolutionary relationships and known genomic capabilities of related organisms."
      ]
    },
    {
      "cell_type": "code",
      "execution_count": null,
      "metadata": {
        "id": "srMpS5DkCqSS"
      },
      "outputs": [],
      "source": [
        "def run_picrust2_pipeline(fasta_file, biom_file, output_dir):\n",
        "    \"\"\"\n",
        "    Run the main PICRUSt2 pipeline on input sequences and BIOM table.\n",
        "\n",
        "    Args:\n",
        "        fasta_file: Path to the aligned sequences FASTA file.\n",
        "        biom_file: Path to the BIOM table (without extra columns).\n",
        "        output_dir: Directory for PICRUSt2 output.\n",
        "    \"\"\"\n",
        "    try:\n",
        "        # Run main PICRUSt2 pipeline\n",
        "        cmd = [\n",
        "            'picrust2_pipeline.py',\n",
        "            '-s', fasta_file,        # Input FASTA file with aligned sequences\n",
        "            '-i', biom_file,         # BIOM table with abundance data\n",
        "            '-o', output_dir,        # Output directory\n",
        "            '--processes', '4',      # Parallel processes\n",
        "            '--verbose',\n",
        "            '--min_align', '0.25'    # Note the split here\n",
        "        ]\n",
        "        subprocess.run(cmd, check=True)\n",
        "\n",
        "        # Add pathway descriptions if the pathway file exists\n",
        "        pathway_file = os.path.join(output_dir, 'pathways_out/path_abun_unstrat.tsv.gz')\n",
        "        if os.path.exists(pathway_file):\n",
        "            cmd_desc = [\n",
        "                'add_descriptions.py',\n",
        "                '-i', pathway_file,\n",
        "                '-m', 'PATHWAY',\n",
        "                '-o', os.path.join(output_dir, 'pathways_with_descriptions.tsv')\n",
        "            ]\n",
        "            subprocess.run(cmd_desc, check=True)\n",
        "\n",
        "        print(f\"PICRUSt2 pipeline completed successfully for {output_dir}\")\n",
        "        return True\n",
        "\n",
        "    except subprocess.CalledProcessError as e:\n",
        "        print(f\"Error running PICRUSt2: {e}\")\n",
        "        return False"
      ]
    },
    {
      "cell_type": "markdown",
      "metadata": {
        "id": "Rx_DyzHbCqSS"
      },
      "source": [
        "# 4. Analysis of Pathways\n",
        "The analysis focuses on metabolic pathways known to be involved in microbially influenced corrosion, including sulfur metabolism, organic acid production, iron metabolism, and biofilm formation. These pathways were selected based on documented mechanisms of known corrosion-inducing bacteria. Separate pipeline runs for simple and detailed classifications ensure proper pathway analysis for each bacterial group."
      ]
    },
    {
      "cell_type": "code",
      "execution_count": null,
      "metadata": {
        "id": "8eP8MAidCqSS"
      },
      "outputs": [],
      "source": [
        "def analyze_functional_profiles(picrust_output_dir, bacteria_list):\n",
        "    \"\"\"\n",
        "    Analyze functional profiles with focus on corrosion-relevant pathways\n",
        "\n",
        "    Parameters:\n",
        "    picrust_output_dir: directory containing PICRUSt2 output\n",
        "    bacteria_list: list of bacteria names to analyze\n",
        "    \"\"\"\n",
        "    # Define corrosion-relevant pathways\n",
        "    relevant_pathways = [\n",
        "        'Sulfur metabolism',\n",
        "        'Iron metabolism',\n",
        "        'Energy metabolism',\n",
        "        'Biofilm formation',\n",
        "        'Metal transport',\n",
        "        'ochre formation',\n",
        "        'iron oxide deposits',\n",
        "        'iron precipitation',\n",
        "        'rust formation',\n",
        "        'organic acid production',\n",
        "        'acetate production',\n",
        "        'lactate metabolism',\n",
        "        'formate production',\n",
        "    ]\n",
        "\n",
        "    try:\n",
        "        # Read PICRUSt2 output\n",
        "        pathway_file = os.path.join(picrust_output_dir, 'pathways_with_descriptions.tsv')\n",
        "        pathways_df = pd.read_csv(pathway_file, sep='\\t')\n",
        "\n",
        "        # Filter for relevant pathways\n",
        "        filtered_pathways = pathways_df[\n",
        "            pathways_df['description'].str.contains('|'.join(relevant_pathways),\n",
        "                                                  case=False,\n",
        "                                                  na=False)]\n",
        "\n",
        "        # Calculate pathway abundances per bacteria\n",
        "        pathway_abundances = filtered_pathways.groupby('description').sum()\n",
        "\n",
        "        # Calculate pathway similarities between bacteria\n",
        "        pathway_similarities = {}\n",
        "        for bacteria in bacteria_list:\n",
        "            if bacteria in pathways_df.columns:\n",
        "                similarities = pathways_df[bacteria].corr(pathways_df[list(bacteria_list)])\n",
        "                pathway_similarities[bacteria] = similarities\n",
        "\n",
        "        # Predict functional potential\n",
        "        functional_predictions = {}\n",
        "        for pathway in relevant_pathways:\n",
        "            pathway_presence = filtered_pathways[\n",
        "                filtered_pathways['description'].str.contains(pathway, case=False)\n",
        "            ]\n",
        "            if not pathway_presence.empty:\n",
        "                functional_predictions[pathway] = {\n",
        "                    'presence': len(pathway_presence),\n",
        "                    'mean_abundance': pathway_presence.mean().mean(),\n",
        "                    'max_abundance': pathway_presence.max().max()\n",
        "                }\n",
        "\n",
        "        # Calculate correlation scores\n",
        "        correlation_scores = {}\n",
        "        for bacteria in bacteria_list:\n",
        "            if bacteria in pathways_df.columns:\n",
        "                correlations = pathways_df[bacteria].corr(\n",
        "                    pathways_df[filtered_pathways.index]\n",
        "                )\n",
        "                correlation_scores[bacteria] = {\n",
        "                    'mean_correlation': correlations.mean(),\n",
        "                    'max_correlation': correlations.max(),\n",
        "                    'key_pathways': correlations.nlargest(5).index.tolist()\n",
        "                }\n",
        "\n",
        "        comparison_results = {\n",
        "            'pathway_similarities': pathway_similarities,\n",
        "            'functional_predictions': functional_predictions,\n",
        "            'correlation_scores': correlation_scores,\n",
        "            'pathway_abundances': pathway_abundances.to_dict()\n",
        "        }\n",
        "\n",
        "        return filtered_pathways, comparison_results\n",
        "\n",
        "    except Exception as e:\n",
        "        print(f\"Error in pathway analysis: {str(e)}\")\n",
        "        return None, None"
      ]
    },
    {
      "cell_type": "markdown",
      "metadata": {
        "id": "i-EEla9jCqSS"
      },
      "source": [
        "# Testing the pipeline"
      ]
    },
    {
      "cell_type": "code",
      "execution_count": null,
      "metadata": {
        "id": "mnwckS6sCqST"
      },
      "outputs": [],
      "source": [
        "# ---- RUNNING THE PIPELINE ----\n",
        "\n",
        "# Set paths\n",
        "aligned_fasta_file = Path('/home/beatriz/MIC/2_Micro/data_tree/accession_sequences.fasta') #'data_tree/aligned_sequences_integrate.fasta')\n",
        "abundance_biom_file =  Path('/home/beatriz/MIC/2_Micro/data_picrust/abundance_accession.biom')\n",
        "output_dir = 'picrust9_output'\n",
        "\n",
        "# List of bacteria to analyze\n",
        "bacteria_of_interest = ['Azospira', 'Brachybacterium', 'Bulleidia']\n",
        "\n",
        "# Run PICRUSt2\n",
        "if run_picrust2_pipeline(aligned_fasta_file,\n",
        "                         abundance_biom_file,\n",
        "                         output_dir\n",
        "                        ):\n",
        "    # Analyze functional profiles if the pipeline completes successfully\n",
        "    filtered_pathways, abundances = analyze_functional_profiles(output_dir, bacteria_of_interest)"
      ]
    },
    {
      "cell_type": "markdown",
      "metadata": {
        "id": "03KIf3UaCqST"
      },
      "source": [
        "# 5. Functional Analysis\n",
        "The analysis workflow begins by categorizing bacteria into source groups using the classification functions. These categorized data are then processed through the PICRUSt pipeline to predict metabolic capabilities. The functional analysis examines pathway presence, abundance, and correlations between different bacterial groups to identify potential corrosion-related metabolic patterns."
      ]
    },
    {
      "cell_type": "code",
      "execution_count": null,
      "metadata": {
        "id": "uHpbek-BCqST"
      },
      "outputs": [],
      "source": [
        "def run_functional_analysis(df, Integrated_df, aligned_file, analysis_type='simple'):\n",
        "    \"\"\"\n",
        "    Run complete functional analysis pipeline for either simple or detailed classification\n",
        "\n",
        "    Parameters:\n",
        "    df: Input DataFrame\n",
        "    aligned_file: Path to aligned sequences file\n",
        "    analysis_type: 'simple' or 'detailed'\n",
        "    \"\"\"\n",
        "    try:\n",
        "        print(f\"\\n{'='*50}\")\n",
        "        print(f\"Starting {analysis_type} classification analysis\")\n",
        "        print(f\"{'='*50}\")\n",
        "\n",
        "        # Prepare data and get source groups\n",
        "        print(\"\\nStep 1: Preparing data...\")\n",
        "\n",
        "        source_groups = prepare_picrust_data(Integrated_df, aligned_file, function_type=analysis_type)\n",
        "\n",
        "        if not source_groups:\n",
        "            raise ValueError(\"Failed to prepare data: No source groups returned\")\n",
        "\n",
        "        # Base directory for PICRUSt output\n",
        "        base_dir = Path(\"/home/beatriz/MIC/2_Micro/data_picrust\")\n",
        "\n",
        "        results = {}\n",
        "\n",
        "        if analysis_type == 'simple':\n",
        "            # Run analysis for simple classification\n",
        "            # Known bacteria\n",
        "            known_output_dir = base_dir /SIMPLE_BASE['known']\n",
        "            success_known = run_picrust2_pipeline(aligned_file, df, str(known_output_dir))\n",
        "            if success_known:\n",
        "                results_known = analyze_functional_profiles(str(known_output_dir),\n",
        "                                                        source_groups['known_bacteria'].keys())\n",
        "\n",
        "            # Other bacteria\n",
        "            other_output_dir = base_dir / SIMPLE_BASE['other']\n",
        "            success_other = run_picrust2_pipeline(aligned_file, str(other_output_dir))\n",
        "            if success_other:\n",
        "                results_other = analyze_functional_profiles(str(other_output_dir),\n",
        "                                                        source_groups['other_bacteria'].keys())\n",
        "\n",
        "        else:\n",
        "            # Run analysis for detailed classification\n",
        "            for group, dir_name in DETAILED_BASE.items():\n",
        "\n",
        "                # Known bacteria\n",
        "                known_output_dir = base_dir / DETAILED_BASE['known']\n",
        "                success_known = run_picrust2_pipeline(aligned_file, str(known_output_dir))\n",
        "                if success_known:\n",
        "                    results_known = analyze_functional_profiles(str(known_output_dir),\n",
        "                                                            source_groups['known_bacteria'].keys())\n",
        "\n",
        "                # Pure checked bacteria\n",
        "                checked_output_dir = base_dir /  DETAILED_BASE['pure_checked']\n",
        "                success_checked = run_picrust2_pipeline(aligned_file, str(checked_output_dir))\n",
        "                if success_checked:\n",
        "                    results_checked = analyze_functional_profiles(str(checked_output_dir),\n",
        "                                                            source_groups['pure_checked'].keys())\n",
        "\n",
        "                # Pure core bacteria\n",
        "                core_output_dir = base_dir /DETAILED_BASE['pure_core']\n",
        "                success_core = run_picrust2_pipeline(aligned_file, str(core_output_dir))\n",
        "                if success_core:\n",
        "                    results_core = analyze_functional_profiles(str(core_output_dir),\n",
        "                                                            source_groups['pure_core'].keys())\n",
        "\n",
        "                # Checked-core bacteria\n",
        "                checked_core_output_dir = base_dir /DETAILED_BASE['checked_core']\n",
        "                success_checked_core = run_picrust2_pipeline(aligned_file, str(checked_core_output_dir))\n",
        "                if success_checked_core:\n",
        "                    results_checked_core = analyze_functional_profiles(str(checked_core_output_dir),\n",
        "                                                                    source_groups['checked_core'].keys())\n",
        "    except subprocess.CalledProcessError as e:\n",
        "        print(f\"Error running PICRUSt2: {e}\")\n",
        "\n",
        "        return \"Analysis completed successfully\"\n"
      ]
    },
    {
      "cell_type": "markdown",
      "metadata": {
        "id": "-CP-vb-uCqST"
      },
      "source": [
        "diagnostic_optimized_sequences.fasta, picrust_ready_sequences.fasta"
      ]
    },
    {
      "cell_type": "code",
      "execution_count": null,
      "metadata": {
        "id": "3NyEekbBCqST"
      },
      "outputs": [],
      "source": [
        "# Run the analysis for both types\n",
        "# Simple source classification\n",
        "simple_results = run_functional_analysis(biom_table, aligned_file, analysis_type='simple') # output_biom\n",
        "\n",
        "# Detailed source classification\n",
        "detailed_results = run_functional_analysis(biom_table, aligned_file, analysis_type='detailed')"
      ]
    },
    {
      "cell_type": "markdown",
      "metadata": {
        "id": "X4rP1kdUCqST"
      },
      "source": [
        "# 6. Findings and Discusion"
      ]
    },
    {
      "cell_type": "code",
      "execution_count": null,
      "metadata": {
        "id": "5A2a1CNLCqSW"
      },
      "outputs": [],
      "source": [
        "def run_picrust2_pipeline(fasta_file, output_dir, min_align =0.5):\n",
        "    \"\"\"\n",
        "    Run PICRUSt2 pipeline with improved error handling and path management\n",
        "\n",
        "    Args:\n",
        "        fasta_file: Path to aligned sequences fasta file (str or Path)\n",
        "        output_dir: Directory for PICRUSt2 output (str or Path)\n",
        "    \"\"\"\n",
        "    import subprocess\n",
        "    import os\n",
        "    from pathlib import Path\n",
        "\n",
        "    # Convert paths to strings\n",
        "    fasta_file = str(fasta_file)\n",
        "    output_dir = str(output_dir)\n",
        "\n",
        "    try:\n",
        "        # Verify picrust2 is available\n",
        "        picrust_check = subprocess.run(['which', 'picrust2_pipeline.py'],\n",
        "                                     capture_output=True,\n",
        "                                     text=True)\n",
        "        if picrust_check.returncode != 0:\n",
        "            raise RuntimeError(\"picrust2_pipeline.py not found. Please ensure PICRUSt2 is properly installed.\")\n",
        "\n",
        "        # Create output directory\n",
        "        os.makedirs(output_dir, exist_ok=True)\n",
        "\n",
        "        # Construct command as a single string\n",
        "        cmd = f\"picrust2_pipeline.py -s {fasta_file} -i {fasta_file} -o {output_dir} --processes 1 --verbose\"\n",
        "\n",
        "        # Run pipeline\n",
        "        print(f\"Running command: {cmd}\")\n",
        "        process = subprocess.run(cmd,\n",
        "                               shell=True,  # Use shell to handle command string\n",
        "                               check=True,\n",
        "                               capture_output=True,\n",
        "                               text=True)\n",
        "\n",
        "        print(\"PICRUSt2 Output:\")\n",
        "        print(process.stdout)\n",
        "\n",
        "        if process.stderr:\n",
        "            print(\"Warnings/Errors:\")\n",
        "            print(process.stderr)\n",
        "\n",
        "        # Add descriptions if pathway file exists\n",
        "        pathway_file = os.path.join(output_dir, 'pathways_out/path_abun_unstrat.tsv.gz')\n",
        "        if os.path.exists(pathway_file):\n",
        "            desc_cmd = f\"add_descriptions.py -i {pathway_file} -m PATHWAY -o {os.path.join(output_dir, 'pathways_with_descriptions.tsv')}\"\n",
        "            subprocess.run(desc_cmd, shell=True, check=True)\n",
        "\n",
        "        print(f\"PICRUSt2 pipeline completed successfully for {output_dir}\")\n",
        "        return True\n",
        "\n",
        "    except subprocess.CalledProcessError as e:\n",
        "        print(f\"Error running PICRUSt2 command: {e}\")\n",
        "        print(f\"Command output: {e.output}\")\n",
        "        return False\n",
        "    except Exception as e:\n",
        "        print(f\"Error in pipeline: {str(e)}\")\n",
        "        return False"
      ]
    },
    {
      "cell_type": "code",
      "execution_count": null,
      "metadata": {
        "id": "Hbhd5NNkCqSX"
      },
      "outputs": [],
      "source": [
        "# For original sequences\n",
        "aligned_file = Path(\"/home/beatriz/MIC/2_Micro/data_tree/aligned_sequences_integrate.fasta\")\n",
        "output_dir = Path(\"/home/beatriz/MIC/2_Micro/data_picrust/original_results\")\n",
        "success = run_picrust2_pipeline(aligned_file, output_dir)\n",
        "\n",
        "# For improved sequences\n",
        "optimized_file = Path(\"/home/beatriz/MIC/2_Micro/data_tree/picrust_optimized_sequences.fasta\")\n",
        "optimized_output = Path(\"/home/beatriz/MIC/2_Micro/data_picrust/optimized_results\")\n",
        "success_opt = run_picrust2_pipeline(optimized_file, optimized_output)"
      ]
    }
  ],
  "metadata": {
    "colab": {
      "provenance": []
    },
    "kernelspec": {
      "display_name": "PICRUSt2",
      "language": "python",
      "name": "picrust2"
    },
    "language_info": {
      "codemirror_mode": {
        "name": "ipython",
        "version": 3
      },
      "file_extension": ".py",
      "mimetype": "text/x-python",
      "name": "python",
      "nbconvert_exporter": "python",
      "pygments_lexer": "ipython3",
      "version": "3.6.15"
    }
  },
  "nbformat": 4,
  "nbformat_minor": 0
}
