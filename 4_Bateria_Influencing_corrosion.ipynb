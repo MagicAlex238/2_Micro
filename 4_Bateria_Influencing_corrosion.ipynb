{
 "cells": [
  {
   "cell_type": "markdown",
   "metadata": {},
   "source": [
    "This notebook has as objective to dilucidate which of the microorganisms in the data have recognised influence in corrosion damage. With this pool of bacteria we compare the nobel bacteria here found with the gene sequences of the known corrosion-related genes belonging to MIC or the metabolic pathways are related or can be related to corrosion. Then using the list here found as \"anchors\" to find associated bacteria\n",
    "Looking for similar metabolic patterns in other species no yet related to MIC.\n",
    "\n",
    "The databases uses on this notebook are:\n",
    "\n",
    "Bacmet: 'https://bacmet.biomedicine.gu.se/download.html',\n",
    "KEGG : 'https://www.genome.jp/kegg/pathway.html', which is the Kyoto Encyclopedia of Genes and Genomes. With this is possible to find metabolic pathways, identify functional gene annotations\n",
    "IMG/M: 'https://img.jgi.doe.gov/',- For detailed metabolic pathways\n",
    "BRENDA: 'https://www.brenda-enzymes.org/\n",
    "\n",
    "1. Initial Computational Screening\n",
    "   ↓\n",
    "2. Literature Validation\n",
    "   ↓\n",
    "3. Metabolic Pathway Analysis and mapping- PICRUSt2 - Can predict metabolic functions from 16S data\n",
    "   ↓\n",
    "4. Find functional similarities between known and candidate bacteria, compare taxonomic groups with similar functional profiles\n",
    "   ↓\n",
    "5. Sequence analysis for: Sulfate reduction genes, Iron metabolism genes, Biofilm    formation genes\n",
    "   ↓\n",
    "6. Identify gene clusters associated with iron metabolism\n"
   ]
  },
  {
   "cell_type": "markdown",
   "metadata": {},
   "source": [
    "# Preparing data"
   ]
  },
  {
   "cell_type": "code",
   "execution_count": 1,
   "metadata": {},
   "outputs": [],
   "source": [
    "from Bio import Entrez\n",
    "import pandas as pd\n",
    "from functools import partial\n",
    "import requests\n",
    "from bs4 import BeautifulSoup\n",
    "import time"
   ]
  },
  {
   "cell_type": "code",
   "execution_count": 12,
   "metadata": {},
   "outputs": [],
   "source": [
    "# Read the Excel file\n",
    "Jointax = pd.read_excel(\"data/Jointax.xlsx\", sheet_name='Biotot_jointax', header=[0,1,2,3,4,5,6,7])"
   ]
  },
  {
   "cell_type": "code",
   "execution_count": 15,
   "metadata": {},
   "outputs": [],
   "source": [
    "# Drop 2 first columns\n",
    "Jointax = Jointax.drop(Jointax.columns[0:2], axis=1)"
   ]
  },
  {
   "cell_type": "code",
   "execution_count": 17,
   "metadata": {},
   "outputs": [],
   "source": [
    "# Extract Genera and ID from the multi-index\n",
    "genera_info = list(zip(Jointax.columns.get_level_values(6), Jointax.columns.get_level_values(7)))"
   ]
  },
  {
   "cell_type": "code",
   "execution_count": 22,
   "metadata": {},
   "outputs": [],
   "source": [
    "bacteria_list= Jointax.columns.get_level_values(6).tolist()"
   ]
  },
  {
   "cell_type": "markdown",
   "metadata": {},
   "source": [
    "# 2. Search Multiple Databases \n",
    "we connect and search multiple databases for MIC-related terms. Phase 1 (search_mic_databases): The code establishes initial database connections using provided email. Searches BacMet, KEGG, IMG/M, and BRENDA for MIC-related keywords and uses defined metabolic pathways to categorize results. At the end it returns DataFrame with [Bacteria, Database, Evidence, Pathway] columns."
   ]
  },
  {
   "cell_type": "code",
   "execution_count": 27,
   "metadata": {},
   "outputs": [],
   "source": [
    "import urllib3\n",
    "urllib3.disable_warnings(urllib3.exceptions.InsecureRequestWarning)\n",
    "\n",
    "def search_all_databases(bacteria_list):\n",
    "    Entrez.email = \"beatrizamandawatts@gmail.com\"\n",
    "    \n",
    "    databases = {\n",
    "        'BacMet': 'https://bacmet.biomedicine.gu.se/api/search/',\n",
    "        'KEGG': 'https://rest.kegg.jp/find/',\n",
    "        'IMG/M': 'https://img.jgi.doe.gov/cgi-bin/m/main.cgi',\n",
    "        'BRENDA': 'https://www.brenda-enzymes.org/rest/'\n",
    "    }\n",
    "    \n",
    "    mic_keywords = [\n",
    "        \"sulfate reduction\", \"metal reduction\", \"iron oxidation\",\n",
    "        \"corrosion\", \"MIC\", \"biofilm\", \"EPS production\",\n",
    "        \"microbially influenced corrosion\", \"sulfate reducing bacteria corrosion\",\n",
    "        \"metal reducing bacteria\", \"biofilm corrosion\",\n",
    "        \"Metal reduction\", \"Acid production\", \"MIC heating and cooling\"\n",
    "    ]\n",
    "    \n",
    "    metabolic_pathways = {\n",
    "        'sulfate_reduction': ['sat', 'aprAB', 'dsrAB'],\n",
    "        'iron_reduction': ['cymA', 'mtrCAB', 'omcA'],\n",
    "        'metal_oxidation': ['cyc2', 'rusticyanin', 'cox genes']\n",
    "    }\n",
    "   \n",
    "    results = pd.DataFrame(columns=['Bacteria', 'Database', 'Keyword', 'Hits'])\n",
    "    \n",
    "    for bacteria in bacteria_list:\n",
    "        for db_name, db_url in databases.items():\n",
    "            for keyword in mic_keywords:\n",
    "                try:\n",
    "                    query = f\"{bacteria} {keyword}\"\n",
    "                    hits = query_database(db_name, db_url, query)\n",
    "                    \n",
    "                    results = results.append({\n",
    "                        'Bacteria': bacteria,\n",
    "                        'Database': db_name,\n",
    "                        'Keyword': keyword,\n",
    "                        'Hits': hits\n",
    "                    }, ignore_index=True)\n",
    "                    \n",
    "                except Exception as e:\n",
    "                    print(f\"Error querying {db_name} for {bacteria}: {str(e)}\")\n",
    "                \n",
    "                time.sleep(2)  # Rate limiting\n",
    "    \n",
    "    return results\n",
    "\n",
    "def query_database(db_name, url, query):\n",
    "    if db_name == 'BacMet':\n",
    "        response = requests.get(\n",
    "            url, \n",
    "            params={'query': query, 'type': 'experimentally_verified'},\n",
    "            verify=False  # Bypass SSL verification\n",
    "        )\n",
    "        return len(response.json().get('hits', [])) if response.ok else 0"
   ]
  },
  {
   "cell_type": "code",
   "execution_count": 28,
   "metadata": {},
   "outputs": [
    {
     "name": "stdout",
     "output_type": "stream",
     "text": [
      "Error querying BacMet for Aerococcus: HTTPSConnectionPool(host='bacmet.biomedicine.gu.se', port=443): Max retries exceeded with url: /api/search/?query=Aerococcus+sulfate+reduction&type=experimentally_verified (Caused by NameResolutionError(\"<urllib3.connection.HTTPSConnection object at 0x7fc8bb109c60>: Failed to resolve 'bacmet.biomedicine.gu.se' ([Errno -3] Temporary failure in name resolution)\"))\n",
      "Error querying BacMet for Aerococcus: HTTPSConnectionPool(host='bacmet.biomedicine.gu.se', port=443): Max retries exceeded with url: /api/search/?query=Aerococcus+metal+reduction&type=experimentally_verified (Caused by NameResolutionError(\"<urllib3.connection.HTTPSConnection object at 0x7fc8bb109930>: Failed to resolve 'bacmet.biomedicine.gu.se' ([Errno -3] Temporary failure in name resolution)\"))\n",
      "Error querying BacMet for Aerococcus: HTTPSConnectionPool(host='bacmet.biomedicine.gu.se', port=443): Max retries exceeded with url: /api/search/?query=Aerococcus+iron+oxidation&type=experimentally_verified (Caused by NameResolutionError(\"<urllib3.connection.HTTPSConnection object at 0x7fc8bb10a2f0>: Failed to resolve 'bacmet.biomedicine.gu.se' ([Errno -3] Temporary failure in name resolution)\"))\n",
      "Error querying BacMet for Aerococcus: HTTPSConnectionPool(host='bacmet.biomedicine.gu.se', port=443): Max retries exceeded with url: /api/search/?query=Aerococcus+corrosion&type=experimentally_verified (Caused by NameResolutionError(\"<urllib3.connection.HTTPSConnection object at 0x7fc8bb10a2f0>: Failed to resolve 'bacmet.biomedicine.gu.se' ([Errno -3] Temporary failure in name resolution)\"))\n",
      "Error querying BacMet for Aerococcus: HTTPSConnectionPool(host='bacmet.biomedicine.gu.se', port=443): Max retries exceeded with url: /api/search/?query=Aerococcus+MIC&type=experimentally_verified (Caused by NameResolutionError(\"<urllib3.connection.HTTPSConnection object at 0x7fc8bb109930>: Failed to resolve 'bacmet.biomedicine.gu.se' ([Errno -3] Temporary failure in name resolution)\"))\n",
      "Error querying BacMet for Aerococcus: HTTPSConnectionPool(host='bacmet.biomedicine.gu.se', port=443): Max retries exceeded with url: /api/search/?query=Aerococcus+biofilm&type=experimentally_verified (Caused by NameResolutionError(\"<urllib3.connection.HTTPSConnection object at 0x7fc8bb109c60>: Failed to resolve 'bacmet.biomedicine.gu.se' ([Errno -3] Temporary failure in name resolution)\"))\n",
      "Error querying BacMet for Aerococcus: HTTPSConnectionPool(host='bacmet.biomedicine.gu.se', port=443): Max retries exceeded with url: /api/search/?query=Aerococcus+EPS+production&type=experimentally_verified (Caused by NameResolutionError(\"<urllib3.connection.HTTPSConnection object at 0x7fc8bb10b340>: Failed to resolve 'bacmet.biomedicine.gu.se' ([Errno -3] Temporary failure in name resolution)\"))\n",
      "Error querying BacMet for Aerococcus: HTTPSConnectionPool(host='bacmet.biomedicine.gu.se', port=443): Max retries exceeded with url: /api/search/?query=Aerococcus+microbially+influenced+corrosion&type=experimentally_verified (Caused by NameResolutionError(\"<urllib3.connection.HTTPSConnection object at 0x7fc8bb10bd90>: Failed to resolve 'bacmet.biomedicine.gu.se' ([Errno -3] Temporary failure in name resolution)\"))\n",
      "Error querying BacMet for Aerococcus: HTTPSConnectionPool(host='bacmet.biomedicine.gu.se', port=443): Max retries exceeded with url: /api/search/?query=Aerococcus+sulfate+reducing+bacteria+corrosion&type=experimentally_verified (Caused by NameResolutionError(\"<urllib3.connection.HTTPSConnection object at 0x7fc8bb10a890>: Failed to resolve 'bacmet.biomedicine.gu.se' ([Errno -3] Temporary failure in name resolution)\"))\n",
      "Error querying BacMet for Aerococcus: HTTPSConnectionPool(host='bacmet.biomedicine.gu.se', port=443): Max retries exceeded with url: /api/search/?query=Aerococcus+metal+reducing+bacteria&type=experimentally_verified (Caused by NameResolutionError(\"<urllib3.connection.HTTPSConnection object at 0x7fc8bb109900>: Failed to resolve 'bacmet.biomedicine.gu.se' ([Errno -3] Temporary failure in name resolution)\"))\n"
     ]
    },
    {
     "ename": "KeyboardInterrupt",
     "evalue": "",
     "output_type": "error",
     "traceback": [
      "\u001b[0;31m---------------------------------------------------------------------------\u001b[0m",
      "\u001b[0;31mKeyboardInterrupt\u001b[0m                         Traceback (most recent call last)",
      "Cell \u001b[0;32mIn[28], line 1\u001b[0m\n\u001b[0;32m----> 1\u001b[0m Bacteria_MIC \u001b[38;5;241m=\u001b[39m \u001b[43msearch_all_databases\u001b[49m\u001b[43m(\u001b[49m\u001b[43mbacteria_list\u001b[49m\u001b[43m)\u001b[49m\n",
      "Cell \u001b[0;32mIn[27], line 41\u001b[0m, in \u001b[0;36msearch_all_databases\u001b[0;34m(bacteria_list)\u001b[0m\n\u001b[1;32m     38\u001b[0m             \u001b[38;5;28;01mexcept\u001b[39;00m \u001b[38;5;167;01mException\u001b[39;00m \u001b[38;5;28;01mas\u001b[39;00m e:\n\u001b[1;32m     39\u001b[0m                 \u001b[38;5;28mprint\u001b[39m(\u001b[38;5;124mf\u001b[39m\u001b[38;5;124m\"\u001b[39m\u001b[38;5;124mError querying \u001b[39m\u001b[38;5;132;01m{\u001b[39;00mdb_name\u001b[38;5;132;01m}\u001b[39;00m\u001b[38;5;124m for \u001b[39m\u001b[38;5;132;01m{\u001b[39;00mbacteria\u001b[38;5;132;01m}\u001b[39;00m\u001b[38;5;124m: \u001b[39m\u001b[38;5;132;01m{\u001b[39;00m\u001b[38;5;28mstr\u001b[39m(e)\u001b[38;5;132;01m}\u001b[39;00m\u001b[38;5;124m\"\u001b[39m)\n\u001b[0;32m---> 41\u001b[0m             \u001b[43mtime\u001b[49m\u001b[38;5;241;43m.\u001b[39;49m\u001b[43msleep\u001b[49m\u001b[43m(\u001b[49m\u001b[38;5;241;43m2\u001b[39;49m\u001b[43m)\u001b[49m  \u001b[38;5;66;03m# Rate limiting\u001b[39;00m\n\u001b[1;32m     43\u001b[0m \u001b[38;5;28;01mreturn\u001b[39;00m results\n",
      "\u001b[0;31mKeyboardInterrupt\u001b[0m: "
     ]
    }
   ],
   "source": [
    "Bacteria_MIC = search_all_databases(bacteria_list)"
   ]
  },
  {
   "cell_type": "markdown",
   "metadata": {},
   "source": [
    "# Searching IMG/M and Brenda DataBases\n",
    "Here it is performed detailed API queries using database URLs. It is retrived specific gene, metal, and function information. Here documented but runn in Colab. It returns detailed DataFrame with experimental evidence"
   ]
  },
  {
   "cell_type": "code",
   "execution_count": null,
   "metadata": {},
   "outputs": [],
   "source": [
    "def query_database(db_name, url, query):\n",
    "    \"\"\"Query different microbial/corrosion databases\"\"\"\n",
    "    if db_name == 'BacMet':\n",
    "        response = requests.get(url, params={'query': query, 'type': 'experimentally_verified'})\n",
    "        return len(response.json().get('hits', []))\n",
    "    \n",
    "    elif db_name == 'KEGG':\n",
    "        response = requests.get(f\"{url}genes/{query}\")\n",
    "        return len(response.text.split('\\n')) - 1\n",
    "        \n",
    "    elif db_name == 'IMG/M':\n",
    "        # IMG/M requires portal authentication\n",
    "        portal_url = f\"{url}/portal/ext-api/search/genome\"\n",
    "        params = {\n",
    "            'term': query,\n",
    "            'filters': ['metadata_type:MICROBIAL']\n",
    "        }\n",
    "        # Add portal auth token to header\n",
    "        headers = {'Authorization': 'Bearer YOUR_IMG_TOKEN'} \n",
    "        response = requests.get(portal_url, params=params, headers=headers)\n",
    "        return len(response.json().get('hits', []))\n",
    "        \n",
    "    elif db_name == 'BRENDA':\n",
    "        # BRENDA SOAP API endpoint\n",
    "        soap_url = f\"{url}/soap\"\n",
    "        headers = {'content-type': 'text/xml'}\n",
    "        # Construct SOAP query\n",
    "        soap_request = f\"\"\"\n",
    "        <soapenv:Envelope>\n",
    "            <soapenv:Body>\n",
    "                <getEcNumber xmlns=\"http://www.brenda.org/\">\n",
    "                    <ecNumber>{query}</ecNumber>\n",
    "                </getEcNumber>\n",
    "            </soapenv:Body>\n",
    "        </soapenv:Envelope>\n",
    "        \"\"\"\n",
    "        response = requests.post(soap_url, data=soap_request, headers=headers)\n",
    "        # Parse XML response\n",
    "        return len(response.text.split('<entry>')) - 1\n",
    "        \n",
    "    return 0"
   ]
  },
  {
   "cell_type": "code",
   "execution_count": null,
   "metadata": {},
   "outputs": [],
   "source": [
    "Pseudo-code:\n",
    "pythonCopydef comprehensive_corrosion_screening(genera_list):\n",
    "    corrosion_database = {}\n",
    "    \n",
    "    for genus in genera_list:\n",
    "        # Multiple validation steps\n",
    "        computational_score = compute_corrosion_potential(genus)\n",
    "        literature_score = mine_literature(genus)\n",
    "        metabolic_score = analyze_metabolic_pathways(genus)\n",
    "        \n",
    "        total_score = (computational_score + \n",
    "                       literature_score + \n",
    "                       metabolic_score) / 3\n",
    "        \n",
    "        if total_score > threshold:\n",
    "            corrosion_database[genus] = {\n",
    "                'potential': total_score,\n",
    "                'details': generate_detailed_report(genus)\n",
    "            }\n",
    "    \n",
    "    return corrosion_database\n",
    "\n"
   ]
  },
  {
   "cell_type": "markdown",
   "metadata": {},
   "source": [
    "Especialised db\n",
    "MicrobeDB\n",
    "GOLD (Genomes Online Database)\n",
    "PATRIC Bacterial Bioinformatics Resource\n",
    "\n",
    "QIIME2 (Microbiome analysis)\n",
    "MetaPhlAn (Metagenomic profiling)\n",
    "MG-RAST (Metagenome analysis)\n",
    "Prokka (Genome annotation)\n",
    "\n"
   ]
  },
  {
   "cell_type": "markdown",
   "metadata": {},
   "source": []
  },
  {
   "cell_type": "markdown",
   "metadata": {},
   "source": [
    "# Biomarkers Refinement\n",
    "Prioritize bacteria with known corrosion-related activities\n",
    "Consider biofilm formation capabilities\n",
    "Look for known metal-oxidizing/reducing bacteria\n",
    "Factor in pH tolerance and oxygen requirements\n"
   ]
  },
  {
   "cell_type": "markdown",
   "metadata": {},
   "source": [
    "functional annotation analysis"
   ]
  },
  {
   "cell_type": "markdown",
   "metadata": {},
   "source": [
    "3. Metabolic Pathway Analysis and mapping- \n",
    "PICRUSt2 - Can predict metabolic functions from 16S data"
   ]
  },
  {
   "cell_type": "code",
   "execution_count": null,
   "metadata": {},
   "outputs": [],
   "source": [
    "bashCopy# Install PICRUSt2 (if not already installed)\n",
    "conda create -n picrust2 -c bioconda -c conda-forge picrust2\n",
    "\n",
    "# Activate the environment\n",
    "conda activate picrust2\n",
    "\n",
    "# Run full pipeline\n",
    "picrust2_pipeline.py -s your_sequences.fasta -i your_abundance.biom -o picrust2_output_folder\n",
    "\n",
    "# For more specific pathway analysis\n",
    "add_descriptions.py -i EC_metagenome_out/pred_metagenome_unstrat.tsv.gz -m EC \\\n",
    "                   -o EC_metagenome_out/pred_metagenome_unstrat_described.tsv.gz\n",
    "\n",
    "Requirements:\n",
    "\n",
    "\n",
    "Your sequences should be properly quality filtered\n",
    "Sequences should be aligned and trimmed to the same length\n",
    "ASVs/OTUs should be properly clustered\n",
    "\n"
   ]
  },
  {
   "cell_type": "code",
   "execution_count": null,
   "metadata": {},
   "outputs": [],
   "source": []
  },
  {
   "cell_type": "markdown",
   "metadata": {},
   "source": [
    "# Network analysis\n",
    "\n",
    "Ecological Networks:\n",
    "\n",
    "\n",
    "Bacteria that appear \"neutral\" alone might be critical support species\n",
    "They could be enabling or moderating the effects of the corrosion-significant species\n",
    "In microbial communities, some species act as \"keystone\" species not through abundance but through their metabolic interactions\n",
    "\n",
    "\n",
    "Stability Indicators:\n",
    "\n",
    "\n",
    "Species present across all conditions might be:\n",
    "\n",
    "Buffer species that maintain community stability\n",
    "Indicators of baseline environmental conditions\n",
    "Part of the core microbiome that enables other species to thrive\n",
    "\n",
    "Think of it like a metal alloy - some elements might not directly affect corrosion resistance, but their presence maintains the overall structure that makes the protective elements effective.\n",
    "However, if data size/processing is a significant concern, you could:\n",
    "\n",
    "Keep full bacterial data initially\n",
    "Run your analysis\n",
    "Check if removing the \"uniform\" species significantly changes your results\n",
    "Document which removals affect the model and which don't\n",
    "_________________________\n",
    "This is to understand genus interactions\n",
    "Group bacteria by their typical ecological roles (e.g., primary degraders, secondary degraders)\n",
    "Add known syntrophic relationships between genera\n",
    "Map carbon/nitrogen cycling capabilities\n",
    "Identify potential metabolic handoffs between community members\n",
    "__\n",
    "\n",
    "Map each genus to known electron acceptor preferences (Fe, Mn, S, etc.)\n",
    "Create functional groups based on these metabolic capabilities\n",
    "Compare distribution of these functional groups across your categories\n",
    "Look for enrichment patterns of specific metabolic types\n"
   ]
  },
  {
   "cell_type": "markdown",
   "metadata": {},
   "source": [
    "# QIIME2 (Microbiome analysis)"
   ]
  },
  {
   "cell_type": "code",
   "execution_count": null,
   "metadata": {},
   "outputs": [],
   "source": [
    "# Import FASTA into QIIME 2\n",
    "qiime tools import \\\n",
    "  --input-path your_sequences.fasta \\\n",
    "  --output-path sequences.qza \\\n",
    "  --type 'FeatureData[Sequence]'\n",
    "\n",
    "# Run DADA2 or Deblur for ASV generation\n",
    "qiime dada2 denoise-single \\\n",
    "  --i-demultiplexed-seqs sequences.qza \\\n",
    "  --p-trim-left 0 \\\n",
    "  --p-trunc-len 250 \\\n",
    "  --o-representative-sequences rep-seqs.qza \\\n",
    "  --o-table table.qza\n",
    "\n",
    "# Export to BIOM format\n",
    "qiime tools export \\\n",
    "  --input-path table.qza \\\n",
    "  --output-path exported-table\n",
    "\n",
    "# Convert to TSV if needed\n",
    "biom convert \\\n",
    "  -i exported-table/feature-table.biom \\\n",
    "  -o feature-table.tsv \\\n",
    "  --to-tsv\n",
    "\n",
    "\n",
    "# Dereplicate sequences\n",
    "vsearch --derep_fulllength your_sequences.fasta \\\n",
    "        --output unique_sequences.fasta \\\n",
    "        --sizeout\n",
    "\n",
    "# Cluster at 97% similarity (for OTUs)\n",
    "vsearch --cluster_size unique_sequences.fasta \\\n",
    "        --id 0.97 \\\n",
    "        --centroids clustered_sequences.fasta\n",
    "\n",
    "# Create OTU table\n",
    "vsearch --usearch_global your_sequences.fasta \\\n",
    "        --db clustered_sequences.fasta \\\n",
    "        --id 0.97 \\\n",
    "        --otutabout otu_table.txt\n",
    "\n"
   ]
  }
 ],
 "metadata": {
  "kernelspec": {
   "display_name": ".venv",
   "language": "python",
   "name": "python3"
  },
  "language_info": {
   "codemirror_mode": {
    "name": "ipython",
    "version": 3
   },
   "file_extension": ".py",
   "mimetype": "text/x-python",
   "name": "python",
   "nbconvert_exporter": "python",
   "pygments_lexer": "ipython3",
   "version": "3.10.12"
  }
 },
 "nbformat": 4,
 "nbformat_minor": 2
}
