{
 "cells": [
  {
   "cell_type": "markdown",
   "metadata": {},
   "source": [
    "# Neuronetwork analysis\n",
    "\n",
    "Ecological Networks:\n",
    "\n",
    "\n",
    "Bacteria that appear \"neutral\" alone might be critical support species\n",
    "They could be enabling or moderating the effects of the corrosion-significant species\n",
    "In microbial communities, some species act as \"keystone\" species not through abundance but through their metabolic interactions\n",
    "\n",
    "\n",
    "Stability Indicators:\n",
    "\n",
    "\n",
    "Species present across all conditions might be:\n",
    "\n",
    "Buffer species that maintain community stability\n",
    "Indicators of baseline environmental conditions\n",
    "Part of the core microbiome that enables other species to thrive\n",
    "\n",
    "Think of it like a metal alloy - some elements might not directly affect corrosion resistance, but their presence maintains the overall structure that makes the protective elements effective.\n",
    "However, if data size/processing is a significant concern, you could:\n",
    "\n",
    "Keep full bacterial data initially\n",
    "Run your analysis\n",
    "Check if removing the \"uniform\" species significantly changes your results\n",
    "Document which removals affect the model and which don't\n",
    "_________________________\n",
    "This is to understand genus interactions\n",
    "Group bacteria by their typical ecological roles (e.g., primary degraders, secondary degraders)\n",
    "Add known syntrophic relationships between genera\n",
    "Map carbon/nitrogen cycling capabilities\n",
    "Identify potential metabolic handoffs between community members\n",
    "__\n",
    "\n",
    "Map each genus to known electron acceptor preferences (Fe, Mn, S, etc.)\n",
    "Create functional groups based on these metabolic capabilities\n",
    "Compare distribution of these functional groups across your categories\n",
    "Look for enrichment patterns of specific metabolic types\n"
   ]
  },
  {
   "cell_type": "markdown",
   "metadata": {},
   "source": [
    "# QIIME2 (Microbiome analysis)"
   ]
  },
  {
   "cell_type": "code",
   "execution_count": null,
   "metadata": {
    "vscode": {
     "languageId": "plaintext"
    }
   },
   "outputs": [],
   "source": [
    "# Import FASTA into QIIME 2\n",
    "qiime tools import \\\n",
    "  --input-path your_sequences.fasta \\\n",
    "  --output-path sequences.qza \\\n",
    "  --type 'FeatureData[Sequence]'\n",
    "\n",
    "# Run DADA2 or Deblur for ASV generation\n",
    "qiime dada2 denoise-single \\\n",
    "  --i-demultiplexed-seqs sequences.qza \\\n",
    "  --p-trim-left 0 \\\n",
    "  --p-trunc-len 250 \\\n",
    "  --o-representative-sequences rep-seqs.qza \\\n",
    "  --o-table table.qza\n",
    "\n",
    "# Export to BIOM format\n",
    "qiime tools export \\\n",
    "  --input-path table.qza \\\n",
    "  --output-path exported-table\n",
    "\n",
    "# Convert to TSV if needed\n",
    "biom convert \\\n",
    "  -i exported-table/feature-table.biom \\\n",
    "  -o feature-table.tsv \\\n",
    "  --to-tsv\n",
    "\n",
    "\n",
    "# Dereplicate sequences\n",
    "vsearch --derep_fulllength your_sequences.fasta \\\n",
    "        --output unique_sequences.fasta \\\n",
    "        --sizeout\n",
    "\n",
    "# Cluster at 97% similarity (for OTUs)\n",
    "vsearch --cluster_size unique_sequences.fasta \\\n",
    "        --id 0.97 \\\n",
    "        --centroids clustered_sequences.fasta\n",
    "\n",
    "# Create OTU table\n",
    "vsearch --usearch_global your_sequences.fasta \\\n",
    "        --db clustered_sequences.fasta \\\n",
    "        --id 0.97 \\\n",
    "        --otutabout otu_table.txt\n",
    "\n"
   ]
  }
 ],
 "metadata": {
  "language_info": {
   "name": "python"
  }
 },
 "nbformat": 4,
 "nbformat_minor": 2
}
