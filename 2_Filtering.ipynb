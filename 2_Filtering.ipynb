{
 "cells": [
  {
   "attachments": {},
   "cell_type": "markdown",
   "metadata": {},
   "source": [
    "## Filtering  \n",
    "\n",
    "This notebook corresponds to the development of Script chapter 3.4.1. from the main text of the dissertation titled: Nobel Microorganisms Associated with Corrosion by this Author. This notebook performs preprocessing and analysis of bacterial data associated with corrosion. The main tasks include filtering taxa by abundance, identifying influential GIDs based on occurrence and significance tests, and visualizing results. Detailed methodological steps are outlined in Chapter 3.3 of the dissertation.\n",
    "\n",
    "Statistical Analysis: A non-parametric test is performed to determine if there are any bacteria that are significantly associated with corrosion in each traffic light category.   \n",
    "Unique GIDs for each category:   \n",
    "filtered_gids_1: GIDs unique to category 1  \n",
    "filtered_gids_2: GIDs unique to category 2  \n",
    "filtered_gids_3: GIDs unique to category 3  \n",
    "selected_gids_23: manually selected GIDs present in categories 2 and 3  \n",
    "Combined sets:  \n",
    "tax_unique: Union of filtered_gids_1, filtered_gids_2, and filtered_gids_3 (only the unique ones from each category)  \n",
    "tax_unique_plus_23: Union of uniques_gids and selected_gids_23 (combines all unique GIDs plus those shared between categories 2 and)   \n",
    "Taxa_OLS_all: Gids found to be statistically significant through OLS regression analysis of the complete dataset  \n",
    "Taxa_Influencers_OLS: Subset of Jointax namely 'Influencers_OLS' Gids found to be statistically significant through OLS regression   plus they also abundant, with a concentration of 2% or higher and found to have also frecuency across the sample, more thatn 3 occurrencies.  "
   ]
  },
  {
   "attachments": {},
   "cell_type": "markdown",
   "metadata": {},
   "source": [
    "Importing libraries for data manipulation, visualization, and statistical analysis."
   ]
  },
  {
   "cell_type": "code",
   "execution_count": 2,
   "metadata": {},
   "outputs": [],
   "source": [
    "# Import the pandas library for data manipulation\n",
    "import pandas as pd\n",
    "import os\n",
    "import numpy as np\n",
    "import seaborn as sns\n",
    "import matplotlib.pyplot as plt\n",
    "import scipy.stats as stats\n",
    "import statsmodels.api as sm\n",
    "from statsmodels.multivariate.manova import MANOVA\n",
    "from statsmodels.formula.api import ols"
   ]
  },
  {
   "cell_type": "code",
   "execution_count": 3,
   "metadata": {},
   "outputs": [],
   "source": [
    "# Read the excel file coming from notebook Splitdf.ipynb\n",
    "traffic_1  = pd.read_csv('data/abundance_1.csv', dtype={i: float for i in range(1, 18)})\n",
    "traffic_2  = pd.read_csv('data/abundance_2.csv', dtype={i: float for i in range(1, 33)})\n",
    "traffic_3  = pd.read_csv('data/abundance_3.csv', dtype={i: float for i in range(1, 22)})"
   ]
  },
  {
   "cell_type": "code",
   "execution_count": 4,
   "metadata": {},
   "outputs": [],
   "source": [
    "# Making sure the column GID is taken as an integer type\n",
    "traffic_1 [\"GID\"] = traffic_1[\"GID\"].astype(\"int\")\n",
    "traffic_2 [\"GID\"] = traffic_2[\"GID\"].astype(\"int\")\n",
    "traffic_3 [\"GID\"] = traffic_3[\"GID\"].astype(\"int\")"
   ]
  },
  {
   "cell_type": "markdown",
   "metadata": {},
   "source": [
    "Filtering by abundance threshold"
   ]
  },
  {
   "cell_type": "code",
   "execution_count": 5,
   "metadata": {},
   "outputs": [],
   "source": [
    "def filter_values_by_threshold(traffic, threshold_percentage):\n",
    "    \"\"\"\n",
    "    Filters taxa exceeding a specified abundance threshold\n",
    "    \"\"\"\n",
    "    # Create an empty DataFrame with the same columns as the original DataFrame, which only contain the traffic data without the 6 taxa levels\n",
    "    filtered_abundance = pd.DataFrame(columns=traffic.columns)\n",
    "\n",
    "    # Loop through each column (sample) in data, excluding the 'GID' column\n",
    "    for column in traffic.columns[1:]:\n",
    "        # Calculate the threshold value for the current column based on the percentage\n",
    "        threshold = traffic[column].sum() * (threshold_percentage / 100)\n",
    "\n",
    "        # Filter the rows in the current column where the value is greater than or equal to the threshold\n",
    "        filtered_data = traffic[traffic[column] >= threshold]\n",
    "\n",
    "        # Append the filtered_data to the filtered_abundance DataFrame\n",
    "        filtered_abundance = filtered_abundance.append(filtered_data, ignore_index=True)\n",
    "\n",
    "    # Drop duplicates in the 'GID' column and reset the index\n",
    "    filtered_abundance = filtered_abundance.drop_duplicates(subset='GID', keep='first').reset_index(drop=True)\n",
    "\n",
    "    return filtered_abundance"
   ]
  },
  {
   "cell_type": "markdown",
   "metadata": {},
   "source": [
    "From the filtered abundance data based on the threshold, we derive the frequency of occurrence for each genus across samples, categorized by their corrosion risk label."
   ]
  },
  {
   "cell_type": "code",
   "execution_count": 6,
   "metadata": {},
   "outputs": [],
   "source": [
    "def get_frequency_GID(filtered_abundance):\n",
    "    \"\"\"\n",
    "    Count the occurrences of each GID in the samples and merge the influence counts with the original DataFrame.\n",
    "    Returns:\n",
    "    pd.DataFrame: A DataFrame with the added 'Influence' column, sorted by 'Influence' in descending order.\n",
    "    \"\"\"\n",
    "\n",
    "    # Initialize an empty dictionary to store the GID counts\n",
    "    gid_counts = {}\n",
    "\n",
    "    # Loop through each column (sample) in filtered_abundance, excluding the 'GID' column\n",
    "    for column in filtered_abundance.columns[1:]:\n",
    "        # Count the occurrences of each GID in the current column and update the gid_counts dictionary\n",
    "        for index, row in filtered_abundance.iterrows():\n",
    "            if row[column] != 0:\n",
    "                gid = row['GID']\n",
    "                gid_counts[gid] = gid_counts.get(gid, 0) + 1\n",
    "\n",
    "    # Create a DataFrame with the 'GID' and 'Influence' columns from the gid_counts dictionary\n",
    "    influence_df = pd.DataFrame(list(gid_counts.items()), columns=['GID', 'Influence'])\n",
    "\n",
    "    # Merge the influence_df DataFrame with the filtered_abundance DataFrame on the 'GID' column\n",
    "    influencers_genus = filtered_abundance.merge(influence_df, on='GID')\n",
    "\n",
    "    # Sort the influence_genera DataFrame by the 'Influence' column in descending order\n",
    "    influencers_genus = influencers_genus.sort_values(by='Influence', ascending=False).reset_index(drop=True)\n",
    "\n",
    "    return influencers_genus"
   ]
  },
  {
   "cell_type": "code",
   "execution_count": 7,
   "metadata": {},
   "outputs": [],
   "source": [
    "# Filter values by threshold\n",
    "threshold_percentage = 2\n",
    "\n",
    "filtered_abundance_1 = filter_values_by_threshold(traffic_1, threshold_percentage)\n",
    "filtered_abundance_2 = filter_values_by_threshold(traffic_2, threshold_percentage)\n",
    "filtered_abundance_3 = filter_values_by_threshold(traffic_3, threshold_percentage)\n",
    "\n",
    "# Get the frequency of GID\n",
    "influencers_genus_1 = get_frequency_GID(filtered_abundance_1)\n",
    "influencers_genus_2 = get_frequency_GID(filtered_abundance_2)\n",
    "influencers_genus_3 = get_frequency_GID(filtered_abundance_3)"
   ]
  },
  {
   "cell_type": "markdown",
   "metadata": {},
   "source": [
    "The statistical analysis involves:\n",
    "\n",
    " * Multivariate Analysis of Variance (MANOVA):\n",
    "    Used to test if the mean abundance of taxa differs across corrosion risk categories (traffic lights, TL1-TL3).\n",
    "    Helps identify genera strongly associated with specific categories.\n",
    "* Post-hoc Tests:\n",
    "    If MANOVA results are significant, post-hoc tests (e.g., Tukey's HSD) determine which categories differ significantly.\n",
    "* Ordinary Least Squares (OLS) Regression:\n",
    "    Used to assess the relationship between taxa abundance and corrosion risk labels (Categories).\n",
    "    Returns coefficients and p-values for each genus, identifying statistically significant contributors.\n",
    "   \n",
    "The influencers_genus_1, influencers_genus_2, and influencers_genus_3 are selected GIDs filtered based on high abundance percentages and frequency thresholds. These represent the most relevant GIDs per category. A combined dataframe, dfs, is created by appending all columns from the selected influencers into a single wide-format dataframe. This is later melted into a long-format dataframe and so later there will be melted and concatenated to be on long format and be analysed for the statistic test OLS."
   ]
  },
  {
   "cell_type": "code",
   "execution_count": 8,
   "metadata": {},
   "outputs": [],
   "source": [
    "# List of dataframes\n",
    "dfs = [influencers_genus_1, influencers_genus_2, influencers_genus_3]\n",
    "categories = [\"TL1\", \"TL2\", \"TL3\"]\n",
    "\n",
    "dfs_T = []\n",
    "\n",
    "for df, category in zip(dfs, categories):\n",
    "    # Set \"GID\" as index and rename the index to \"Sites\"\n",
    "    df = df.set_index(\"GID\").rename_axis(\"Sites\")\n",
    "       \n",
    "    # Transpose the dataframe\n",
    "    df_T = df.T\n",
    "    \n",
    "    # Drop the last row\n",
    "    df_T = df_T.drop(df_T.index[-1])\n",
    "    \n",
    "    # Add the \"Category\" column\n",
    "    df_T[\"Category\"] = category\n",
    "    \n",
    "    # Reorder columns to have \"Category\" as the first column\n",
    "    cols = ['Category'] + [col for col in df_T.columns if col != 'Category']\n",
    "    df_T = df_T[cols]\n",
    "        \n",
    "    dfs_T.append(df_T)\n",
    "\n",
    "# Transformed dataframes\n",
    "influencers_1_T, influencers_2_T, influencers_3_T = dfs_T"
   ]
  },
  {
   "cell_type": "markdown",
   "metadata": {},
   "source": [
    "The data here joined as dfs come from the previous arangment and comprise 77 genera from influencers_genus_1, 92 genera from influencers_genus_2 and 85 genera from influencers_genus_3. This are selected genera and could comprise Genus that are on all the three df or in two or only one of them. In total there are 254 genera coming from 882."
   ]
  },
  {
   "cell_type": "code",
   "execution_count": 9,
   "metadata": {},
   "outputs": [
    {
     "name": "stdout",
     "output_type": "stream",
     "text": [
      "(77, 19) (92, 34) (85, 23)\n"
     ]
    }
   ],
   "source": [
    "print(influencers_genus_1.shape, influencers_genus_2.shape, influencers_genus_3.shape)"
   ]
  },
  {
   "cell_type": "markdown",
   "metadata": {},
   "source": [
    "## Ordinary Least Squares (OLS) regression analysis.\n",
    "__Coefficients__: These represent the change in the dependent variable for a one-unit change in the predictor variable, all other predictors being held constant.\n",
    "\n",
    "__p-values:__ These indicate the significance of each coefficient. A small p-value (typically ≤ 0.05) indicates that you can reject the null hypothesis and that the predictor has a statistically significant association with the dependent variable."
   ]
  },
  {
   "cell_type": "code",
   "execution_count": 10,
   "metadata": {},
   "outputs": [
    {
     "data": {
      "text/plain": [
       "(6038, 4)"
      ]
     },
     "execution_count": 10,
     "metadata": {},
     "output_type": "execute_result"
    }
   ],
   "source": [
    "# Melt each dataframe\n",
    "melted_dfs = [df.reset_index().melt(id_vars=[\"index\", \"Category\"], value_name=\"Abundance\", var_name=\"GID\").rename(columns={\"index\": \"Sites\"}) for df in dfs_T]\n",
    "\n",
    "# Concatenate the melted dataframes\n",
    "long_df = pd.concat(melted_dfs, ignore_index=True)\n",
    "long_df.shape"
   ]
  },
  {
   "cell_type": "code",
   "execution_count": 11,
   "metadata": {},
   "outputs": [],
   "source": [
    "# Convert the long format back to wide format for MANOVA\n",
    "wide_df = long_df.pivot_table(index=[\"Sites\", \"Category\"], columns=\"GID\", values=\"Abundance\", fill_value=0).reset_index()\n",
    "# Convert 'Category' to numerical values\n",
    "wide_df['Category'] = wide_df['Category'].replace({'TL1': 1, 'TL2': 2, 'TL3': 3})"
   ]
  },
  {
   "cell_type": "code",
   "execution_count": 12,
   "metadata": {},
   "outputs": [],
   "source": [
    "def significant_gids_v2(data, alpha=0.05):\n",
    "    \"\"\"\n",
    "    Identify GIDs that are significantly associated with the 'Category' variable.\n",
    "    \n",
    "    Parameters:\n",
    "    - data: DataFrame with GIDs as columns, 'Category' column indicating site category, and sites as rows.\n",
    "    - alpha: Significance level (default is 0.05).\n",
    "    \n",
    "    Returns:\n",
    "    - Dictionary with GIDs as keys. Each key's value is another dictionary with 'Coefficient' and 'P-value'.\n",
    "    \"\"\"\n",
    "    # Separate the dependent variables (GIDs) and the independent variable (Category)\n",
    "    endog = data.drop(columns=['Sites', 'Category'])\n",
    "    endog = endog.astype(float)  # Convert all dependent variables to float\n",
    "    \n",
    "    # Independent variables (with constant)\n",
    "    exog = sm.add_constant(data['Category'])\n",
    "    exog = exog.astype(float)  # Convert all columns in exog to float\n",
    "    \n",
    "    significant_results = {}\n",
    "    \n",
    "    for gid in endog.columns:\n",
    "        y = endog[gid]\n",
    "        # Build the regression model\n",
    "        model = sm.OLS(y, exog).fit()\n",
    "        # Check if p-value for 'Category' is significant\n",
    "        if model.pvalues['Category'] < alpha:\n",
    "            significant_results[gid] = {\n",
    "                'Coefficient': model.params['Category'],\n",
    "                'P-value': model.pvalues['Category']\n",
    "            }\n",
    "    \n",
    "    return significant_results"
   ]
  },
  {
   "cell_type": "markdown",
   "metadata": {},
   "source": [
    "### Influencers_OLS \n",
    "The significant Genera using OLS on the influencers dataframe gives as a result dataframe Influencers_OLS"
   ]
  },
  {
   "cell_type": "code",
   "execution_count": 13,
   "metadata": {},
   "outputs": [
    {
     "name": "stdout",
     "output_type": "stream",
     "text": [
      "GID: 23\n",
      "GID: 91\n",
      "GID: 214\n",
      "GID: 229\n",
      "GID: 334\n",
      "GID: 351\n",
      "GID: 375\n",
      "GID: 408\n",
      "GID: 471\n",
      "GID: 526\n",
      "GID: 549\n",
      "GID: 565\n",
      "GID: 584\n",
      "GID: 625\n",
      "GID: 678\n",
      "GID: 712\n",
      "GID: 725\n",
      "GID: 863\n",
      "GID: 864\n",
      "GID: 871\n"
     ]
    }
   ],
   "source": [
    "# Get the significant GIDs\n",
    "sig_gids = significant_gids_v2(wide_df, alpha=0.05)\n",
    "\n",
    "# Print the significant GIDs\n",
    "for gid, values in sig_gids.items():\n",
    "    #print(f\"GID: {gid}, Coefficient: {values['Coefficient']:.4f}, P-value: {values['P-value']:.4f}\")\n",
    "    print(f\"GID: {gid}\")"
   ]
  },
  {
   "cell_type": "code",
   "execution_count": 14,
   "metadata": {},
   "outputs": [],
   "source": [
    "# Convert the column headers (names) of wide_df to strings\n",
    "gids_filtered = set(map(str, sig_gids))\n",
    "# Convert the column headers of wide_df to strings\n",
    "wide_df.columns = wide_df.columns.astype(str)\n",
    "\n",
    "# Now, filter the dataframe\n",
    "filtered_columns = ['Sites', 'Category'] + list(gids_filtered)\n",
    "Influencers_OLS = wide_df[filtered_columns]"
   ]
  },
  {
   "cell_type": "markdown",
   "metadata": {},
   "source": [
    "The Influencers_OLS dataset contains genera with statistically significant p-values, indicating their potential as biomarkers for corrosion risk"
   ]
  },
  {
   "cell_type": "markdown",
   "metadata": {},
   "source": [
    "### OLS_all in the whole data with 880 genera\n",
    "With the whole df from the original data in Biotot, the significant Genera using OLS on the original dataframe gives as a result a df OLS_all"
   ]
  },
  {
   "cell_type": "code",
   "execution_count": 15,
   "metadata": {},
   "outputs": [],
   "source": [
    "pd.options.display.float_format = '{:.4f}'.format\n",
    "# Read the excel file\n",
    "datos = pd.read_excel('data/Biotot.xlsx', sheet_name='Biotot', header=[0,1], dtype={i: float for i in range(8, 71)})\n",
    "datos[\"GID\"]= datos[\"GID\"].astype(str)\n",
    "whole = datos.iloc[:, 6:]"
   ]
  },
  {
   "cell_type": "code",
   "execution_count": 16,
   "metadata": {},
   "outputs": [],
   "source": [
    "# Transpose the dataframe\n",
    "whole_T = whole.T\n",
    "whole_T = whole_T.reset_index()\n",
    "# Set the second row as the header\n",
    "whole_T.columns = whole_T.iloc[0]\n",
    "whole_T = whole_T.drop(0)\n",
    "# Rename the columns\n",
    "whole_T = whole_T.rename(columns={\"GID\": \"Sites\", 0: \"Category\"})"
   ]
  },
  {
   "cell_type": "code",
   "execution_count": 17,
   "metadata": {},
   "outputs": [
    {
     "data": {
      "text/html": [
       "<div>\n",
       "<style scoped>\n",
       "    .dataframe tbody tr th:only-of-type {\n",
       "        vertical-align: middle;\n",
       "    }\n",
       "\n",
       "    .dataframe tbody tr th {\n",
       "        vertical-align: top;\n",
       "    }\n",
       "\n",
       "    .dataframe thead th {\n",
       "        text-align: right;\n",
       "    }\n",
       "</style>\n",
       "<table border=\"1\" class=\"dataframe\">\n",
       "  <thead>\n",
       "    <tr style=\"text-align: right;\">\n",
       "      <th></th>\n",
       "      <th>Sites</th>\n",
       "      <th>Category</th>\n",
       "      <th>1</th>\n",
       "      <th>2</th>\n",
       "      <th>3</th>\n",
       "      <th>4</th>\n",
       "      <th>5</th>\n",
       "      <th>6</th>\n",
       "      <th>7</th>\n",
       "      <th>8</th>\n",
       "      <th>...</th>\n",
       "      <th>873</th>\n",
       "      <th>874</th>\n",
       "      <th>875</th>\n",
       "      <th>876</th>\n",
       "      <th>877</th>\n",
       "      <th>878</th>\n",
       "      <th>879</th>\n",
       "      <th>880</th>\n",
       "      <th>881</th>\n",
       "      <th>882</th>\n",
       "    </tr>\n",
       "  </thead>\n",
       "  <tbody>\n",
       "    <tr>\n",
       "      <th>1</th>\n",
       "      <td>site_1</td>\n",
       "      <td>3</td>\n",
       "      <td>0.0000</td>\n",
       "      <td>0.0000</td>\n",
       "      <td>0.0000</td>\n",
       "      <td>0.0000</td>\n",
       "      <td>0.0000</td>\n",
       "      <td>0.4308</td>\n",
       "      <td>0.5170</td>\n",
       "      <td>0.0000</td>\n",
       "      <td>...</td>\n",
       "      <td>0.0000</td>\n",
       "      <td>0.0000</td>\n",
       "      <td>0.0000</td>\n",
       "      <td>0.0215</td>\n",
       "      <td>0.0000</td>\n",
       "      <td>0.0000</td>\n",
       "      <td>0.0000</td>\n",
       "      <td>0.0000</td>\n",
       "      <td>0.0215</td>\n",
       "      <td>0.0000</td>\n",
       "    </tr>\n",
       "    <tr>\n",
       "      <th>2</th>\n",
       "      <td>site_2</td>\n",
       "      <td>1</td>\n",
       "      <td>0.0000</td>\n",
       "      <td>0.0000</td>\n",
       "      <td>0.0000</td>\n",
       "      <td>0.0000</td>\n",
       "      <td>0.0000</td>\n",
       "      <td>0.0190</td>\n",
       "      <td>0.3415</td>\n",
       "      <td>0.0000</td>\n",
       "      <td>...</td>\n",
       "      <td>0.0190</td>\n",
       "      <td>0.0000</td>\n",
       "      <td>0.0000</td>\n",
       "      <td>0.0000</td>\n",
       "      <td>0.0000</td>\n",
       "      <td>0.0000</td>\n",
       "      <td>0.0000</td>\n",
       "      <td>0.0000</td>\n",
       "      <td>0.0190</td>\n",
       "      <td>0.0000</td>\n",
       "    </tr>\n",
       "    <tr>\n",
       "      <th>3</th>\n",
       "      <td>site_3</td>\n",
       "      <td>1</td>\n",
       "      <td>0.0000</td>\n",
       "      <td>0.0000</td>\n",
       "      <td>0.0000</td>\n",
       "      <td>0.0000</td>\n",
       "      <td>0.0000</td>\n",
       "      <td>0.0246</td>\n",
       "      <td>0.3192</td>\n",
       "      <td>0.0000</td>\n",
       "      <td>...</td>\n",
       "      <td>0.0123</td>\n",
       "      <td>0.0000</td>\n",
       "      <td>0.0000</td>\n",
       "      <td>0.0123</td>\n",
       "      <td>0.0000</td>\n",
       "      <td>0.0000</td>\n",
       "      <td>0.0000</td>\n",
       "      <td>0.0000</td>\n",
       "      <td>0.0246</td>\n",
       "      <td>0.0123</td>\n",
       "    </tr>\n",
       "    <tr>\n",
       "      <th>4</th>\n",
       "      <td>site_4</td>\n",
       "      <td>1</td>\n",
       "      <td>0.0000</td>\n",
       "      <td>0.0000</td>\n",
       "      <td>0.0154</td>\n",
       "      <td>0.0000</td>\n",
       "      <td>0.0000</td>\n",
       "      <td>0.0176</td>\n",
       "      <td>0.2512</td>\n",
       "      <td>0.0000</td>\n",
       "      <td>...</td>\n",
       "      <td>0.0022</td>\n",
       "      <td>0.0000</td>\n",
       "      <td>0.0000</td>\n",
       "      <td>0.0000</td>\n",
       "      <td>0.0000</td>\n",
       "      <td>0.0000</td>\n",
       "      <td>0.0000</td>\n",
       "      <td>0.0000</td>\n",
       "      <td>0.0066</td>\n",
       "      <td>0.0022</td>\n",
       "    </tr>\n",
       "    <tr>\n",
       "      <th>5</th>\n",
       "      <td>site_5</td>\n",
       "      <td>1</td>\n",
       "      <td>0.0000</td>\n",
       "      <td>0.0000</td>\n",
       "      <td>0.0037</td>\n",
       "      <td>0.0000</td>\n",
       "      <td>0.0000</td>\n",
       "      <td>0.0221</td>\n",
       "      <td>0.5098</td>\n",
       "      <td>0.0000</td>\n",
       "      <td>...</td>\n",
       "      <td>0.0037</td>\n",
       "      <td>0.0000</td>\n",
       "      <td>0.0037</td>\n",
       "      <td>0.0000</td>\n",
       "      <td>0.0000</td>\n",
       "      <td>0.0000</td>\n",
       "      <td>0.0000</td>\n",
       "      <td>0.0000</td>\n",
       "      <td>0.0110</td>\n",
       "      <td>0.0037</td>\n",
       "    </tr>\n",
       "  </tbody>\n",
       "</table>\n",
       "<p>5 rows × 884 columns</p>\n",
       "</div>"
      ],
      "text/plain": [
       "0   Sites  Category      1      2      3      4      5      6      7      8  \\\n",
       "1  site_1         3 0.0000 0.0000 0.0000 0.0000 0.0000 0.4308 0.5170 0.0000   \n",
       "2  site_2         1 0.0000 0.0000 0.0000 0.0000 0.0000 0.0190 0.3415 0.0000   \n",
       "3  site_3         1 0.0000 0.0000 0.0000 0.0000 0.0000 0.0246 0.3192 0.0000   \n",
       "4  site_4         1 0.0000 0.0000 0.0154 0.0000 0.0000 0.0176 0.2512 0.0000   \n",
       "5  site_5         1 0.0000 0.0000 0.0037 0.0000 0.0000 0.0221 0.5098 0.0000   \n",
       "\n",
       "0  ...    873    874    875    876    877    878    879    880    881    882  \n",
       "1  ... 0.0000 0.0000 0.0000 0.0215 0.0000 0.0000 0.0000 0.0000 0.0215 0.0000  \n",
       "2  ... 0.0190 0.0000 0.0000 0.0000 0.0000 0.0000 0.0000 0.0000 0.0190 0.0000  \n",
       "3  ... 0.0123 0.0000 0.0000 0.0123 0.0000 0.0000 0.0000 0.0000 0.0246 0.0123  \n",
       "4  ... 0.0022 0.0000 0.0000 0.0000 0.0000 0.0000 0.0000 0.0000 0.0066 0.0022  \n",
       "5  ... 0.0037 0.0000 0.0037 0.0000 0.0000 0.0000 0.0000 0.0000 0.0110 0.0037  \n",
       "\n",
       "[5 rows x 884 columns]"
      ]
     },
     "execution_count": 17,
     "metadata": {},
     "output_type": "execute_result"
    }
   ],
   "source": [
    "whole_T.head()"
   ]
  },
  {
   "cell_type": "code",
   "execution_count": 18,
   "metadata": {},
   "outputs": [
    {
     "name": "stdout",
     "output_type": "stream",
     "text": [
      "GID: 23\n",
      "GID: 79\n",
      "GID: 88\n",
      "GID: 90\n",
      "GID: 91\n",
      "GID: 92\n",
      "GID: 140\n",
      "GID: 201\n",
      "GID: 214\n",
      "GID: 229\n",
      "GID: 334\n",
      "GID: 337\n",
      "GID: 342\n",
      "GID: 410\n",
      "GID: 426\n",
      "GID: 428\n",
      "GID: 470\n",
      "GID: 480\n",
      "GID: 494\n",
      "GID: 541\n",
      "GID: 549\n",
      "GID: 565\n",
      "GID: 584\n",
      "GID: 605\n",
      "GID: 625\n",
      "GID: 657\n",
      "GID: 678\n",
      "GID: 712\n",
      "GID: 725\n",
      "GID: 771\n",
      "GID: 799\n",
      "GID: 871\n"
     ]
    }
   ],
   "source": [
    "# Get the significant GIDs\n",
    "sig_gids_whole = significant_gids_v2(whole_T, alpha=0.05)\n",
    "\n",
    "# Print the significant GIDs\n",
    "for gid, values in sig_gids_whole.items():\n",
    "    #print(f\"GID: {gid}, Coefficient: {values['Coefficient']:.4f}, P-value: {values['P-value']:.4f}\")\n",
    "    print(f\"GID: {gid}\")"
   ]
  },
  {
   "cell_type": "markdown",
   "metadata": {},
   "source": [
    "To compare filtered and unfiltered data, dictionary keys (GIDs) from both datasets were converted to sets. A new dataframe was created to evaluate statistically significant GIDs from both lists. This allows us to assess which method of selection is more suitable."
   ]
  },
  {
   "cell_type": "code",
   "execution_count": 19,
   "metadata": {},
   "outputs": [
    {
     "name": "stdout",
     "output_type": "stream",
     "text": [
      "\n",
      "Influencers_OLS: Index(['Sites', 'Category', '725', '375', '584', '91', '625', '214', '565',\n",
      "       '712', '471', '229', '863', '678', '526', '871', '549', '864', '334',\n",
      "       '408', '23', '351'],\n",
      "      dtype='object', name='GID')\n",
      "OLS_all.columns: Index(['Sites', 'Category', '725', '470', '426', '584', '140', '91', '88',\n",
      "       '79', '541', '625', '214', '565', '480', '712', '337', '92', '799',\n",
      "       '229', '678', '871', '605', '342', '410', '549', '494', '771', '428',\n",
      "       '334', '657', '90', '23', '201'],\n",
      "      dtype='object', name=0)\n",
      "\n"
     ]
    }
   ],
   "source": [
    "# Convert the column headers (names) of wide_df to strings\n",
    "gids_whole_df = set(map(str, sig_gids_whole))\n",
    "# Convert the column headers of wide_df to strings\n",
    "whole_T.columns =whole_T.columns.astype(str)\n",
    "\n",
    "# Now, filter the dataframe\n",
    "whole_GIDs_columns = ['Sites', 'Category'] + list(gids_whole_df)\n",
    "OLS_all= whole_T[whole_GIDs_columns]\n",
    "print(f\"\"\"\n",
    "Influencers_OLS: {Influencers_OLS.columns}\n",
    "OLS_all.columns: {OLS_all.columns}\n",
    "\"\"\")"
   ]
  },
  {
   "cell_type": "markdown",
   "metadata": {},
   "source": [
    "The OLS_all dataset contains genera with statistically significant p-values, without filtering coming from the original data, indicating their potential as biomarkers for corrosion risk"
   ]
  },
  {
   "cell_type": "code",
   "execution_count": 20,
   "metadata": {},
   "outputs": [
    {
     "data": {
      "image/png": "[encoded data removed]",
      "text/plain": [
       "<Figure size 800x600 with 1 Axes>"
      ]
     },
     "metadata": {},
     "output_type": "display_data"
    }
   ],
   "source": [
    "# Melt the dataframe\n",
    "melted_df = Influencers_OLS.melt(id_vars=['Sites', 'Category'], \n",
    "                                value_vars= Influencers_OLS.columns[2:], \n",
    "                                var_name='GID', \n",
    "                                value_name='Abundance')\n",
    "# Categories and colors\n",
    "categories = [1, 2, 3]\n",
    "colors = ['green', 'orange', 'red']\n",
    "\n",
    "# Set the figure size\n",
    "plt.figure(figsize=(8, 6))\n",
    "\n",
    "# Use seaborn's barplot function for the visualization\n",
    "sns.scatterplot(x='GID', y='Abundance', hue='Category', data=melted_df, \n",
    "            hue_order=categories, palette=colors)\n",
    "\n",
    "# Set the title and labels\n",
    "plt.title('Abundance of Significant GIDs in Influencers_OLS Across Categories')\n",
    "plt.xlabel('GID')\n",
    "plt.ylabel('Abundance')\n",
    "plt.legend(title='Category', bbox_to_anchor=(1.05, 1), loc='upper left')\n",
    "\n",
    "# Display the plot\n",
    "plt.tight_layout()\n",
    "plt.xticks(rotation=45)\n",
    "plt.show()"
   ]
  },
  {
   "cell_type": "markdown",
   "metadata": {},
   "source": [
    "The scatterplot of significant GIDs in Influencers_OLS across categories highlights genera predominantly associated with Category 3, some with Categories 2 and 3, and others with Category 2. This selection approach shows potential merit, which will be further evaluated in the PCA notebook. Biological validation using known markers and clustering analysis will follow"
   ]
  },
  {
   "cell_type": "code",
   "execution_count": 21,
   "metadata": {},
   "outputs": [
    {
     "data": {
      "image/png": "[encoded data removed]",
      "text/plain": [
       "<Figure size 800x600 with 1 Axes>"
      ]
     },
     "metadata": {},
     "output_type": "display_data"
    }
   ],
   "source": [
    "import seaborn as sns\n",
    "# Melt the dataframe\n",
    "melted_df = OLS_all.melt(id_vars=['Sites', 'Category'], \n",
    "                                value_vars= OLS_all.columns[2:], \n",
    "                                var_name='GID', \n",
    "                                value_name='Abundance')\n",
    "# Categories and colors\n",
    "categories = [1, 2, 3]\n",
    "colors = ['green', 'orange', 'red']\n",
    "\n",
    "# Set the figure size\n",
    "plt.figure(figsize=(8, 6))\n",
    "\n",
    "# Use seaborn's barplot function for the visualization\n",
    "sns.scatterplot(x='GID', y='Abundance', hue='Category', data=melted_df, \n",
    "            hue_order=categories, palette=colors)\n",
    "\n",
    "# Set the title and labels\n",
    "plt.title('Abundance of Significant GIDs in OLS_all Across Categories')\n",
    "plt.xlabel('GID')\n",
    "plt.ylabel('Abundance')\n",
    "plt.legend(title='Category', bbox_to_anchor=(1.05, 1), loc='upper left')\n",
    "\n",
    "# Display the plot\n",
    "plt.tight_layout()\n",
    "plt.xticks(rotation=45)\n",
    "plt.show()"
   ]
  },
  {
   "cell_type": "markdown",
   "metadata": {},
   "source": [
    "The plot of significant GIDs in OLS_all across categories shows overlaps with Influencers_OLS, as expected. However, Category 2 and 3 contributions appear less distinct visually. This highlights the importance of refining visualizations in subsequent analyses, such as PCA and clustering"
   ]
  },
  {
   "cell_type": "code",
   "execution_count": 22,
   "metadata": {},
   "outputs": [
    {
     "data": {
      "image/png": "[encoded data removed]",
      "text/plain": [
       "<Figure size 800x600 with 1 Axes>"
      ]
     },
     "metadata": {},
     "output_type": "display_data"
    }
   ],
   "source": [
    "# Melt the dataframe\n",
    "melted_df = Influencers_OLS.melt(id_vars=['Sites', 'Category'], \n",
    "                                value_vars=Influencers_OLS.columns[2:], \n",
    "                                var_name='GID', \n",
    "                                value_name='Abundance')\n",
    "\n",
    "# Categories and colors\n",
    "categories = [1, 2, 3]\n",
    "colors = ['green', 'orange', 'red']\n",
    "\n",
    "# Set the figure size\n",
    "plt.figure(figsize=(8, 6))\n",
    "\n",
    "# Use seaborn's boxplot function for the visualization\n",
    "sns.boxplot(x='Category', y='Abundance', data=melted_df, palette=colors, boxprops=dict(alpha=.3))\n",
    "\n",
    "# Swarmplot\n",
    "#sns.swarmplot(x='Category', y='Abundance', data=melted_df, color=\".25\")\n",
    "# Violin plot\n",
    "sns.violinplot(x='Category', y='Abundance', data=melted_df, palette=colors, inner=\"quartile\")\n",
    "\n",
    "# Set the title and labels\n",
    "plt.title('Distribution of GID Abundances Across Influencers_all Categories')\n",
    "plt.xlabel('Category')\n",
    "plt.ylabel('Abundance')\n",
    "\n",
    "# Display the plot\n",
    "plt.tight_layout()\n",
    "plt.show()"
   ]
  },
  {
   "cell_type": "markdown",
   "metadata": {},
   "source": [
    "The Influencers_OLS violin plots show non-homogeneous distribution across categories. Category 1 has a narrow diamond shape, with a smaller abundance distribution than Category 3, which is broader. Category 2 has a wide lip shape with the lowest abundance distribution."
   ]
  },
  {
   "cell_type": "code",
   "execution_count": 23,
   "metadata": {},
   "outputs": [
    {
     "data": {
      "image/png": "[encoded data removed]",
      "text/plain": [
       "<Figure size 800x600 with 1 Axes>"
      ]
     },
     "metadata": {},
     "output_type": "display_data"
    }
   ],
   "source": [
    "# Melt the dataframe\n",
    "melted_whole = OLS_all.melt(id_vars=['Sites', 'Category'], \n",
    "                                value_vars=OLS_all.columns[2:], \n",
    "                                var_name='GID', \n",
    "                                value_name='Abundance')\n",
    "melted_whole['Abundance'] = pd.to_numeric(melted_whole['Abundance'], errors='coerce')\n",
    "\n",
    "# Categories and colors\n",
    "categories = [1, 2, 3]\n",
    "colors = ['green', 'orange', 'red']\n",
    "\n",
    "# Set the figure size\n",
    "plt.figure(figsize=(8, 6))\n",
    "\n",
    "# Use seaborn's boxplot function for the visualization\n",
    "sns.boxplot(x='Category', y='Abundance', data=melted_whole, palette=colors, boxprops=dict(alpha=.3))\n",
    "\n",
    "# Violin plot\n",
    "sns.violinplot(x='Category', y='Abundance', data=melted_whole, palette=colors, inner=\"quartile\")\n",
    "\n",
    "# Set the title and labels\n",
    "plt.title('Distribution of GID Abundances Across OLS_all Categories')\n",
    "plt.xlabel('Category')\n",
    "plt.ylabel('Abundance')\n",
    "\n",
    "# Display the plot\n",
    "plt.tight_layout()\n",
    "plt.show()\n"
   ]
  },
  {
   "cell_type": "markdown",
   "metadata": {},
   "source": [
    "The violin plot of the df OLS_all in contrast with the Influencers_OLS, presents narrower distributions for Categories 2 and 3, with Category 2 being particularly thin. It is important to note that abundance is relative, not absolute. This limitation notwithstanding, Influencers_OLS appears more suitable for further analysis, while OLS_all adds little to the discussion"
   ]
  },
  {
   "cell_type": "code",
   "execution_count": 24,
   "metadata": {},
   "outputs": [],
   "source": [
    "# Save to Excel \n",
    "Influencers_OLS.to_excel(f'data/Influencers_OLS.xlsx', index=True, engine='openpyxl')\n",
    "OLS_all.to_excel(f'data/OLS_all.xlsx', index=True, engine='openpyxl')"
   ]
  },
  {
   "cell_type": "markdown",
   "metadata": {},
   "source": [
    "This notebook has worked without the taxa metadata and in this step the dfs OLS_all and Influencers_OLS will be combined with the taxa identifiers to make new df taxa_OLS_all and taxa_Influencers_OLS, for further use."
   ]
  },
  {
   "cell_type": "code",
   "execution_count": 25,
   "metadata": {},
   "outputs": [],
   "source": [
    "pd.options.display.float_format = '{:.4f}'.format\n",
    "# Read the excel file\n",
    "Jointax = pd.read_excel('data/Jointax.xlsx', sheet_name='Biotot_jointax', header=[0,1,2,3,4,5,6,7] , dtype={**{i: str for i in range(0,2)},\n",
    "                                                                        **{i:float for i in range(2, 884)}},  skiprows=[8]) # Somehow it was showing an empty row, so skiprow deletes it\n",
    "\n",
    "# Making sure the sites and categories get read as they should\n",
    "Jointax[\"Sites\"]= Jointax[\"Sites\"].astype(str)\n",
    "Jointax[\"Category\"]= Jointax[\"Category\"].values.astype(int)\n",
    "#Drop level of Kindom since it is boring\n",
    "Jointax.columns = Jointax.columns.droplevel(1)\n",
    "Jointax = Jointax.reset_index(drop=True)\n",
    "#Setting the sites as index\n",
    "Jointax = Jointax.set_index(\"Sites\").reset_index()\n",
    "# Deleting headers names of unnamed levels\n",
    "Jointax.columns = Jointax.columns.map(lambda x: tuple('' if 'Unnamed' in str(level) else level for level in x))\n",
    "#Drop level of Kindom since it is boring\n",
    "Jointax =Jointax.drop(Jointax.columns[1], axis=1)\n",
    "#Correcting the Tuple-like Index\n",
    "Jointax['Sites'] = Jointax['Sites'].map(lambda x: x[0] if isinstance(x, tuple) else x)\n",
    "Jointax = Jointax.set_index(\"Sites\")"
   ]
  },
  {
   "cell_type": "code",
   "execution_count": 26,
   "metadata": {},
   "outputs": [],
   "source": [
    "# Create a set of the GIDs from the 'OLS_all' and 'Influencers_OLS' DataFrames\n",
    "Gids_OlS_all = set(OLS_all.columns)\n",
    "Gids_influencers_OLS = set(Influencers_OLS)"
   ]
  },
  {
   "cell_type": "markdown",
   "metadata": {},
   "source": [
    "### Uniques and combined 2 and 3\n",
    "We assume that if a genus belong to all the categories, we focus on the unique GIDs considering that may be more relevant to see the differences and perhaps more relevant regarding corrosion. If the GID were relevant, why then is not associated with a corrosion traffic light? if were relevant it should have also caused corrosion on the traffic light. So first we identify this common Genus/GIDs intersection so not to put them on the comparison."
   ]
  },
  {
   "cell_type": "code",
   "execution_count": 27,
   "metadata": {},
   "outputs": [],
   "source": [
    "# Function to load and preprocess data\n",
    "def load_and_preprocess(file_path):\n",
    "    # Load CSV and drop unnecessary columns\n",
    "    df = pd.read_csv(file_path, dtype={i: float for i in range(7, -1)})\n",
    "    df['GID'] = df['GID'].astype(str)  # Ensure GID is string\n",
    "    df = df.set_index(\"GID\").iloc[:, 6:]  # Set index and drop first 6 columns\n",
    "    return df"
   ]
  },
  {
   "cell_type": "code",
   "execution_count": 28,
   "metadata": {},
   "outputs": [],
   "source": [
    "# Function to get GIDs with occurrences >= threshold\n",
    "def get_significant_gids(df, threshold=3):\n",
    "    # Filter GIDs directly based on the occurrence threshold\n",
    "    return set(df.apply(lambda row: sum(row > 0), axis=1)[lambda x: x >= threshold].index)"
   ]
  },
  {
   "cell_type": "code",
   "execution_count": 29,
   "metadata": {},
   "outputs": [],
   "source": [
    "# Process DataFrames for unique_all categories\n",
    "file_paths = [\"data/unique_all_1.csv\", \"data/unique_all_2.csv\", \"data/unique_all_3.csv\"]\n",
    "dataframes = [load_and_preprocess(path) for path in file_paths]"
   ]
  },
  {
   "cell_type": "code",
   "execution_count": 30,
   "metadata": {},
   "outputs": [],
   "source": [
    "# Filter GIDs independently for each category\n",
    "filtered_gids = [get_significant_gids(df) for df in dataframes]\n",
    "# Combine all unique GIDs (already filtered)\n",
    "uniques_cat_gids = set.union(*filtered_gids)"
   ]
  },
  {
   "cell_type": "code",
   "execution_count": 31,
   "metadata": {},
   "outputs": [],
   "source": [
    "# Find common GIDs between Categories 2 and 3\n",
    "common_gids_23 = filtered_gids[1].intersection(filtered_gids[2])\n",
    "\n",
    "# Combine totally unique GIDs with those from Categories 2 and 3\n",
    "uniques_plus_23_gids = uniques_cat_gids.union(common_gids_23)"
   ]
  },
  {
   "cell_type": "markdown",
   "metadata": {},
   "source": [
    "Create a dataframe using the filtered gids namely uniques_cat_gids and uniuniques_plus_23_gids  using the Jointax dataframe to integrate the values and sice Jointax has multiindex of 7 headers, better to remove them."
   ]
  },
  {
   "cell_type": "code",
   "execution_count": 32,
   "metadata": {},
   "outputs": [
    {
     "data": {
      "text/html": [
       "<div>\n",
       "<style scoped>\n",
       "    .dataframe tbody tr th:only-of-type {\n",
       "        vertical-align: middle;\n",
       "    }\n",
       "\n",
       "    .dataframe tbody tr th {\n",
       "        vertical-align: top;\n",
       "    }\n",
       "\n",
       "    .dataframe thead th {\n",
       "        text-align: right;\n",
       "    }\n",
       "</style>\n",
       "<table border=\"1\" class=\"dataframe\">\n",
       "  <thead>\n",
       "    <tr style=\"text-align: right;\">\n",
       "      <th></th>\n",
       "      <th>Sites</th>\n",
       "      <th>Category</th>\n",
       "      <th>1</th>\n",
       "      <th>2</th>\n",
       "      <th>3</th>\n",
       "      <th>4</th>\n",
       "      <th>5</th>\n",
       "      <th>6</th>\n",
       "      <th>7</th>\n",
       "      <th>8</th>\n",
       "      <th>...</th>\n",
       "      <th>873</th>\n",
       "      <th>874</th>\n",
       "      <th>875</th>\n",
       "      <th>876</th>\n",
       "      <th>877</th>\n",
       "      <th>878</th>\n",
       "      <th>879</th>\n",
       "      <th>880</th>\n",
       "      <th>881</th>\n",
       "      <th>882</th>\n",
       "    </tr>\n",
       "  </thead>\n",
       "  <tbody>\n",
       "    <tr>\n",
       "      <th>1</th>\n",
       "      <td>site_1</td>\n",
       "      <td>3</td>\n",
       "      <td>0.0000</td>\n",
       "      <td>0.0000</td>\n",
       "      <td>0.0000</td>\n",
       "      <td>0.0000</td>\n",
       "      <td>0.0000</td>\n",
       "      <td>0.4308</td>\n",
       "      <td>0.5170</td>\n",
       "      <td>0.0000</td>\n",
       "      <td>...</td>\n",
       "      <td>0.0000</td>\n",
       "      <td>0.0000</td>\n",
       "      <td>0.0000</td>\n",
       "      <td>0.0215</td>\n",
       "      <td>0.0000</td>\n",
       "      <td>0.0000</td>\n",
       "      <td>0.0000</td>\n",
       "      <td>0.0000</td>\n",
       "      <td>0.0215</td>\n",
       "      <td>0.0000</td>\n",
       "    </tr>\n",
       "    <tr>\n",
       "      <th>2</th>\n",
       "      <td>site_2</td>\n",
       "      <td>1</td>\n",
       "      <td>0.0000</td>\n",
       "      <td>0.0000</td>\n",
       "      <td>0.0000</td>\n",
       "      <td>0.0000</td>\n",
       "      <td>0.0000</td>\n",
       "      <td>0.0190</td>\n",
       "      <td>0.3415</td>\n",
       "      <td>0.0000</td>\n",
       "      <td>...</td>\n",
       "      <td>0.0190</td>\n",
       "      <td>0.0000</td>\n",
       "      <td>0.0000</td>\n",
       "      <td>0.0000</td>\n",
       "      <td>0.0000</td>\n",
       "      <td>0.0000</td>\n",
       "      <td>0.0000</td>\n",
       "      <td>0.0000</td>\n",
       "      <td>0.0190</td>\n",
       "      <td>0.0000</td>\n",
       "    </tr>\n",
       "    <tr>\n",
       "      <th>3</th>\n",
       "      <td>site_3</td>\n",
       "      <td>1</td>\n",
       "      <td>0.0000</td>\n",
       "      <td>0.0000</td>\n",
       "      <td>0.0000</td>\n",
       "      <td>0.0000</td>\n",
       "      <td>0.0000</td>\n",
       "      <td>0.0246</td>\n",
       "      <td>0.3192</td>\n",
       "      <td>0.0000</td>\n",
       "      <td>...</td>\n",
       "      <td>0.0123</td>\n",
       "      <td>0.0000</td>\n",
       "      <td>0.0000</td>\n",
       "      <td>0.0123</td>\n",
       "      <td>0.0000</td>\n",
       "      <td>0.0000</td>\n",
       "      <td>0.0000</td>\n",
       "      <td>0.0000</td>\n",
       "      <td>0.0246</td>\n",
       "      <td>0.0123</td>\n",
       "    </tr>\n",
       "    <tr>\n",
       "      <th>4</th>\n",
       "      <td>site_4</td>\n",
       "      <td>1</td>\n",
       "      <td>0.0000</td>\n",
       "      <td>0.0000</td>\n",
       "      <td>0.0154</td>\n",
       "      <td>0.0000</td>\n",
       "      <td>0.0000</td>\n",
       "      <td>0.0176</td>\n",
       "      <td>0.2512</td>\n",
       "      <td>0.0000</td>\n",
       "      <td>...</td>\n",
       "      <td>0.0022</td>\n",
       "      <td>0.0000</td>\n",
       "      <td>0.0000</td>\n",
       "      <td>0.0000</td>\n",
       "      <td>0.0000</td>\n",
       "      <td>0.0000</td>\n",
       "      <td>0.0000</td>\n",
       "      <td>0.0000</td>\n",
       "      <td>0.0066</td>\n",
       "      <td>0.0022</td>\n",
       "    </tr>\n",
       "    <tr>\n",
       "      <th>5</th>\n",
       "      <td>site_5</td>\n",
       "      <td>1</td>\n",
       "      <td>0.0000</td>\n",
       "      <td>0.0000</td>\n",
       "      <td>0.0037</td>\n",
       "      <td>0.0000</td>\n",
       "      <td>0.0000</td>\n",
       "      <td>0.0221</td>\n",
       "      <td>0.5098</td>\n",
       "      <td>0.0000</td>\n",
       "      <td>...</td>\n",
       "      <td>0.0037</td>\n",
       "      <td>0.0000</td>\n",
       "      <td>0.0037</td>\n",
       "      <td>0.0000</td>\n",
       "      <td>0.0000</td>\n",
       "      <td>0.0000</td>\n",
       "      <td>0.0000</td>\n",
       "      <td>0.0000</td>\n",
       "      <td>0.0110</td>\n",
       "      <td>0.0037</td>\n",
       "    </tr>\n",
       "  </tbody>\n",
       "</table>\n",
       "<p>5 rows × 884 columns</p>\n",
       "</div>"
      ],
      "text/plain": [
       "0   Sites  Category      1      2      3      4      5      6      7      8  \\\n",
       "1  site_1         3 0.0000 0.0000 0.0000 0.0000 0.0000 0.4308 0.5170 0.0000   \n",
       "2  site_2         1 0.0000 0.0000 0.0000 0.0000 0.0000 0.0190 0.3415 0.0000   \n",
       "3  site_3         1 0.0000 0.0000 0.0000 0.0000 0.0000 0.0246 0.3192 0.0000   \n",
       "4  site_4         1 0.0000 0.0000 0.0154 0.0000 0.0000 0.0176 0.2512 0.0000   \n",
       "5  site_5         1 0.0000 0.0000 0.0037 0.0000 0.0000 0.0221 0.5098 0.0000   \n",
       "\n",
       "0  ...    873    874    875    876    877    878    879    880    881    882  \n",
       "1  ... 0.0000 0.0000 0.0000 0.0215 0.0000 0.0000 0.0000 0.0000 0.0215 0.0000  \n",
       "2  ... 0.0190 0.0000 0.0000 0.0000 0.0000 0.0000 0.0000 0.0000 0.0190 0.0000  \n",
       "3  ... 0.0123 0.0000 0.0000 0.0123 0.0000 0.0000 0.0000 0.0000 0.0246 0.0123  \n",
       "4  ... 0.0022 0.0000 0.0000 0.0000 0.0000 0.0000 0.0000 0.0000 0.0066 0.0022  \n",
       "5  ... 0.0037 0.0000 0.0037 0.0000 0.0000 0.0000 0.0000 0.0000 0.0110 0.0037  \n",
       "\n",
       "[5 rows x 884 columns]"
      ]
     },
     "execution_count": 32,
     "metadata": {},
     "output_type": "execute_result"
    }
   ],
   "source": [
    "whole_T.head()"
   ]
  },
  {
   "cell_type": "code",
   "execution_count": 33,
   "metadata": {},
   "outputs": [],
   "source": [
    "# Combine the unique GIDs processing\n",
    "def create_uniques_dataframe(df, unique_gids):\n",
    "    \"\"\"\n",
    "    Create a DataFrame of unique GIDs from the original dataset\n",
    "    \n",
    "    Parameters:\n",
    "    - whole_T original dt modified to suit same style as other dataframes\n",
    "    - unique_gids: Set of unique GID identifiers\n",
    "       \n",
    "    Returns:\n",
    "    - DataFrame with unique GIDs and their metadata\n",
    "    \"\"\"\n",
    "    columns_to_include = list(unique_gids.intersection(df.columns))\n",
    "    if 'Sites' in df.columns:\n",
    "        columns_to_include.append('Sites')\n",
    "    if 'Category' in df.columns:\n",
    "        columns_to_include.append('Category')\n",
    "    \n",
    "    # Extract the relevant columns from the DataFrame\n",
    "    uniques = df.loc[:, columns_to_include]\n",
    "    \n",
    "    # Reorder columns to place 'Category' as the second column\n",
    "    if 'Sites' in uniques.columns and 'Category' in uniques.columns:\n",
    "        columns = ['Sites', 'Category'] + [col for col in uniques.columns if col not in ['Sites', 'Category']]\n",
    "        uniques = uniques[columns]\n",
    "        \n",
    "    # If 'Sites' is present, reset index to make 'Sites' a column\n",
    "    if 'Sites' in uniques.columns:\n",
    "        uniques = uniques.set_index(\"Sites\")\n",
    "    \n",
    "    return uniques"
   ]
  },
  {
   "cell_type": "code",
   "execution_count": 34,
   "metadata": {},
   "outputs": [],
   "source": [
    "# Create DataFrames for unique categories\n",
    "uniques_cat = create_uniques_dataframe(whole_T, uniques_cat_gids)\n",
    "uniques_plus_23 = create_uniques_dataframe(whole_T, uniques_plus_23_gids)"
   ]
  },
  {
   "cell_type": "code",
   "execution_count": 35,
   "metadata": {},
   "outputs": [],
   "source": [
    "# Save to Excel \n",
    "uniques_cat.to_excel(f'data/uniques_cat.xlsx', index=True, engine='openpyxl')\n",
    "uniques_plus_23.to_excel(f'data/uniques_plus_23.xlsx', index=True, engine='openpyxl')"
   ]
  },
  {
   "cell_type": "code",
   "execution_count": 36,
   "metadata": {},
   "outputs": [
    {
     "name": "stdout",
     "output_type": "stream",
     "text": [
      "uniques_cat.shape: (70, 404), uniques_plus_23: (70, 404)\n"
     ]
    }
   ],
   "source": [
    "print(f'uniques_cat.shape: {uniques_cat.shape}, uniques_plus_23: {uniques_plus_23.shape}')"
   ]
  },
  {
   "cell_type": "code",
   "execution_count": 37,
   "metadata": {},
   "outputs": [
    {
     "name": "stdout",
     "output_type": "stream",
     "text": [
      "uniques_cat_gids: 403, uniques_plus_23_gids: 403\n"
     ]
    }
   ],
   "source": [
    "print(f'uniques_cat_gids: {len(uniques_cat_gids)}, uniques_plus_23_gids: {len(uniques_plus_23_gids)}')"
   ]
  },
  {
   "cell_type": "code",
   "execution_count": 38,
   "metadata": {},
   "outputs": [
    {
     "name": "stdout",
     "output_type": "stream",
     "text": [
      "uniques_cat_gids: 403, uniques_plus_23_gids: 403\n"
     ]
    }
   ],
   "source": [
    "print(f'uniques_cat_gids: {len(uniques_cat_gids)}, uniques_plus_23_gids: {len(uniques_plus_23_gids)}')"
   ]
  },
  {
   "cell_type": "code",
   "execution_count": 39,
   "metadata": {},
   "outputs": [
    {
     "name": "stdout",
     "output_type": "stream",
     "text": [
      "GIDs in uniques_cat_gids but not in uniques_plus_23_gids: set()\n",
      "GIDs in uniques_plus_23_gids but not in uniques_cat_gids: set()\n"
     ]
    }
   ],
   "source": [
    "# Check for differences\n",
    "diff_cat_plus_23 = uniques_cat_gids - uniques_plus_23_gids\n",
    "diff_plus_23_cat = uniques_plus_23_gids - uniques_cat_gids\n",
    "\n",
    "print(\"GIDs in uniques_cat_gids but not in uniques_plus_23_gids:\", diff_cat_plus_23)\n",
    "print(\"GIDs in uniques_plus_23_gids but not in uniques_cat_gids:\", diff_plus_23_cat)"
   ]
  },
  {
   "cell_type": "code",
   "execution_count": 40,
   "metadata": {},
   "outputs": [
    {
     "name": "stdout",
     "output_type": "stream",
     "text": [
      "The GIDs in both sets are identical.\n"
     ]
    }
   ],
   "source": [
    "# Check if they are identical\n",
    "if uniques_cat_gids == uniques_plus_23_gids:\n",
    "    print(\"The GIDs in both sets are identical.\")\n",
    "else:\n",
    "    print(\"The GIDs in both sets are not identical.\")"
   ]
  },
  {
   "cell_type": "code",
   "execution_count": 41,
   "metadata": {},
   "outputs": [
    {
     "ename": "NameError",
     "evalue": "name 'stop' is not defined",
     "output_type": "error",
     "traceback": [
      "\u001b[0;31m---------------------------------------------------------------------------\u001b[0m",
      "\u001b[0;31mNameError\u001b[0m                                 Traceback (most recent call last)",
      "Cell \u001b[0;32mIn[41], line 1\u001b[0m\n\u001b[0;32m----> 1\u001b[0m \u001b[43mstop\u001b[49m\n",
      "\u001b[0;31mNameError\u001b[0m: name 'stop' is not defined"
     ]
    }
   ],
   "source": [
    "stop"
   ]
  },
  {
   "cell_type": "code",
   "execution_count": null,
   "metadata": {},
   "outputs": [],
   "source": [
    "import difflib\n",
    "from concurrent.futures import ThreadPoolExecutor\n",
    "\n",
    "def compare_lines(line1, line2, similarity_threshold):\n",
    "    if len(line1) != len(line2) or line1[:10] != line2[:10]:\n",
    "        return None\n",
    "    similarity = difflib.SequenceMatcher(None, line1, line2).ratio()\n",
    "    if similarity > similarity_threshold:\n",
    "        return (similarity, line1)\n",
    "    return None\n",
    "\n",
    "def find_similar_lines(file_path, similarity_threshold=0.8):\n",
    "    with open(file_path, 'r') as f:\n",
    "        lines = [line.strip() for line in f.readlines()]\n",
    "    \n",
    "    similar_lines = []\n",
    "    with ThreadPoolExecutor() as executor:\n",
    "        futures = []\n",
    "        for i, line1 in enumerate(lines):\n",
    "            for j, line2 in enumerate(lines[i+1:], start=i+1):\n",
    "                futures.append(executor.submit(compare_lines, line1, line2, similarity_threshold))\n",
    "        \n",
    "        for future in futures:\n",
    "            result = future.result()\n",
    "            if result:\n",
    "                similarity, line = result\n",
    "                similar_lines.append((i, j, similarity, line))\n",
    "    \n",
    "    return similar_lines\n",
    "\n",
    "# Usage\n",
    "similar_lines = find_similar_lines('2_Filtering.ipynb')\n",
    "for start_line, end_line, similarity, line in similar_lines:\n",
    "    print(f\"Similar lines at {start_line} and {end_line} with {similarity:.2f} similarity: {line}\")"
   ]
  },
  {
   "cell_type": "code",
   "execution_count": null,
   "metadata": {},
   "outputs": [],
   "source": [
    "import json\n",
    "import os\n",
    "\n",
    "def count_cells(notebook_path):\n",
    "    try:\n",
    "        # Ensure the file exists and is readable\n",
    "        if not os.path.exists(notebook_path):\n",
    "            print(f\"File not found: {notebook_path}\")\n",
    "            return 0, 0\n",
    "\n",
    "        with open(notebook_path, 'r', encoding='utf-8') as f:\n",
    "            notebook = json.load(f)\n",
    "        \n",
    "        code_count = sum(1 for cell in notebook['cells'] if cell['cell_type'] == 'code')\n",
    "        markdown_count = sum(1 for cell in notebook['cells'] if cell['cell_type'] == 'markdown')\n",
    "        \n",
    "        return code_count, markdown_count\n",
    "    \n",
    "    except Exception as e:\n",
    "        print(f\"Error reading notebook: {e}\")\n",
    "        return 0, 0\n",
    "\n",
    "# Use an absolute path and verify it\n",
    "notebook_path = '/home/beatriz/MIC/2_Micro/2_Filtering.ipynb'\n",
    "code_count, markdown_count = count_cells(notebook_path)\n",
    "print(f'Number of code cells: {code_count}')\n",
    "print(f'Number of markdown cells: {markdown_count}')"
   ]
  },
  {
   "cell_type": "markdown",
   "metadata": {},
   "source": [
    "### Next Steps\n",
    "Some books are foreseen  \n",
    "3_PCA_RF_Feature which comprises PCA, RF analysis and feature engeeniering  \n",
    "4_Sequences_find where the OTUS of the genera are found to be able to construct a phylogenetic tree  \n",
    "5_iTOL_tree phylogenetic tree to find evolutionary similarities with our selected genera  \n",
    "6_Clustering analysis to understand the validity of the findings regarding biological significance  \n"
   ]
  },
  {
   "cell_type": "markdown",
   "metadata": {},
   "source": [
    "____________________________________________________"
   ]
  }
 ],
 "metadata": {
  "kernelspec": {
   "display_name": "Python (.venv)",
   "language": "python",
   "name": ".venv"
  },
  "language_info": {
   "codemirror_mode": {
    "name": "ipython",
    "version": 3
   },
   "file_extension": ".py",
   "mimetype": "text/x-python",
   "name": "python",
   "nbconvert_exporter": "python",
   "pygments_lexer": "ipython3",
   "version": "3.10.12"
  },
  "orig_nbformat": 4
 },
 "nbformat": 4,
 "nbformat_minor": 2
}
